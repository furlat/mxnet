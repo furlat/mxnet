{
 "cells": [
  {
   "cell_type": "raw",
   "metadata": {},
   "source": [
    "Random task notebook"
   ]
  },
  {
   "cell_type": "code",
   "execution_count": 1,
   "metadata": {
    "collapsed": false
   },
   "outputs": [],
   "source": [
    "import os\n",
    "import argparse\n",
    "import logging\n",
    "logging.basicConfig(level=logging.DEBUG)\n",
    "from common import find_mxnet, data, fit\n",
    "from common.util import download_file\n",
    "from ilab_iterator import ilab_iterator, Multi_ilab_iterator, Single_ilab_iterator, random_task_iterator\n",
    "import mxnet as mx\n",
    "import numpy\n",
    "\n",
    "# class AccuracyIlab(mx.metric.EvalMetric):\n",
    "#     \"\"\"Calculate accuracies of multi label\"\"\"\n",
    "\n",
    "#     def __init__(self):\n",
    "#         super(Multi_Accuracy, self).__init__('multi-accuracy', num)\n",
    "\n",
    "#     def update(self, labels, preds):\n",
    "#         mx.metric.check_label_shapes(labels, preds)\n",
    "\n",
    "# #         if self.num != None:\n",
    "# #             assert len(labels) == self.num\n",
    "\n",
    "#         for i in range(len(labels)):\n",
    "#             pred_label = mx.nd.argmax_channel(preds[i]).asnumpy().astype('int32')\n",
    "#             label = labels[i].asnumpy().astype('int32')\n",
    "\n",
    "#             mx.metric.check_label_shapes(label, pred_label)\n",
    "\n",
    "#             if i == None:\n",
    "#                 self.sum_metric += (pred_label.flat == label.flat).sum()\n",
    "#                 self.num_inst += len(pred_label.flat)\n",
    "#             else:\n",
    "#                 self.sum_metric[i] += (pred_label.flat == label.flat).sum()\n",
    "#                 self.num_inst[i] += len(pred_label.flat)\n",
    "            \n",
    "class CrossEntropyIlab(mx.metric.EvalMetric):\n",
    "    \"\"\"Calculate Cross Entropy loss\"\"\"\n",
    "    def __init__(self,task=0):\n",
    "        super(CrossEntropyIlab, self).__init__('cross-entropy', task)\n",
    "        self.task = task\n",
    "\n",
    "    def update(self, labels, preds):\n",
    "        mx.metric.check_label_shapes(labels, preds)\n",
    "\n",
    "        for label, pred in zip(labels, preds):\n",
    "            label = label[self.task].asnumpy().astype('int32')\n",
    "            #label = label.asnumpy()\n",
    "            pred = pred.asnumpy()\n",
    "\n",
    "            label = label.ravel()\n",
    "            assert label.shape[0] == pred.shape[0]\n",
    "            prob = pred[numpy.arange(label.shape[0]), numpy.int64(label)]\n",
    "            self.sum_metric += (-numpy.log(prob)).sum()\n",
    "            self.num_inst += label.shape[0]\n",
    "            f.open('trainig_stats.txt')\n",
    "            f.write(self.sum_metric)\n",
    "            f.close()\n",
    "\n",
    "class Multi_Accuracy(mx.metric.EvalMetric):\n",
    "    \"\"\"Calculate accuracies of multi label\"\"\"\n",
    "\n",
    "    def __init__(self, num=None):\n",
    "        super(Multi_Accuracy, self).__init__('multi-accuracy', num)\n",
    "\n",
    "    def update(self, labels, preds):\n",
    "        #print labels \n",
    "        #print preds\n",
    "        mx.metric.check_label_shapes(labels, preds)\n",
    "\n",
    "        if self.num != None:\n",
    "            assert len(labels) == self.num\n",
    "\n",
    "        for i in range(len(labels)):\n",
    "            pred_label = mx.nd.argmax_channel(preds[i]).asnumpy().astype('int32')\n",
    "            label = labels[i].asnumpy().astype('int32')\n",
    "\n",
    "            mx.metric.check_label_shapes(label, pred_label)\n",
    "\n",
    "            if i == None:\n",
    "                self.sum_metric += (pred_label.flat == label.flat).sum()\n",
    "                self.num_inst += len(pred_label.flat)\n",
    "            else:\n",
    "                self.sum_metric[i] += (pred_label.flat == label.flat).sum()\n",
    "                self.num_inst[i] += len(pred_label.flat)\n",
    "\n",
    "class Multi_Entropy(mx.metric.EvalMetric):\n",
    "    \"\"\"Calculate accuracies of multi label\"\"\"\n",
    "\n",
    "    def __init__(self, num=None):\n",
    "        super(Multi_Entropy, self).__init__('multi-entropy', num)\n",
    "\n",
    "    def update(self, labels, preds):\n",
    "        #mx.metric.check_label_shapes(labels, preds)\n",
    "\n",
    "        if self.num != None:\n",
    "            print labels\n",
    "            print len(labels)\n",
    "            assert len(labels) == self.num\n",
    "\n",
    "        for i in range(len(labels)):\n",
    "                #pred_label = mx.nd.argmax_channel(preds[i]).asnumpy()\n",
    "                #label = label.asnumpy()\n",
    "                pred = preds[i].asnumpy()\n",
    "                #pred = pred(pred_label)\n",
    "                #prb = pred.ravel()\n",
    "                label = labels[i].asnumpy().ravel()\n",
    "                assert label.shape[0] == pred.shape[0]\n",
    "                print label.shape, pred.shape\n",
    "                prob = pred[numpy.arange(label.shape[0]), numpy.int64(label)]\n",
    "                self.sum_metric[i] += (-numpy.log(prob)).sum()\n",
    "                self.num_inst[i] += label.shape[0]         \n",
    "\n",
    "class Cross_Entropy(mx.metric.EvalMetric):\n",
    "    \"\"\"Calculate accuracies of multi label\"\"\"\n",
    "\n",
    "    def __init__(self):\n",
    "        super(Cross_Entropy, self).__init__('single-entropy')\n",
    "        self.sum_metric=[]\n",
    "    def update(self, labels, preds):\n",
    "        mx.metric.check_label_shapes(labels, preds)\n",
    "\n",
    "        for j in range(len(labels)):\n",
    "            label = labels[j].asnumpy()\n",
    "            pred = preds[j].asnumpy()\n",
    "            for i in range(label.shape[0]):\n",
    "                prob = pred[i,numpy.int64(label[i])]\n",
    "                if len(labels) == 1:\n",
    "                    self.sum_metric += (-numpy.log(prob)).sum()\n",
    "                else:\n",
    "                    self.sum_metric[j] += (-numpy.log(prob)).sum()\n",
    "            #print self.sum_metric\n",
    "#                 #print len(labels)\n",
    "#                 #pred_label = mx.nd.argmax_channel(preds[i]).asnumpy()\n",
    "#                 #label = label.asnumpy()\n",
    "#                 pred = preds[i].asnumpy()\n",
    "#                 #pred = pred(pred_label)\n",
    "#                 #prb = pred.ravel()\n",
    "                \n",
    "#                 assert label.shape[0] == pred.shape[0]\n",
    "#                 print numpy.arange(label.shape[0]), label.shape, pred.shape\n",
    "#                 prob = pred[:,numpy.int64(label)]\n",
    "#                 print prob, prob.shape\n",
    "#                 self.sum_metric += (-numpy.log(prob)).sum()\n",
    "#                 self.num_inst += label.shape[0]  \n",
    "                #print self.sum_metric\n",
    "# if __name__ == '__main__':\n",
    "# download data\n",
    "\n",
    "# data setup\n",
    "# parse args\n",
    "\n"
   ]
  },
  {
   "cell_type": "code",
   "execution_count": 2,
   "metadata": {
    "collapsed": false
   },
   "outputs": [],
   "source": [
    "image_shape = '3,224,224'\n",
    "# load network\n",
    "from importlib import import_module\n",
    "#num_classes = [[10,0,0],[0,11,0],[0,0,8]]\n",
    "num_classes=[10,11,8]\n",
    "\n",
    "net = import_module('symbols.resnet_md')\n",
    "batch_size = 64\n",
    "\n",
    "train, val_raw = ilab_iterator(batch_size=batch_size)\n",
    "train=random_task_iterator(train,subset=[0,2,3])#,num_cl=num_classes)\n",
    "val=random_task_iterator(val_raw,subset=[0,2,3])#,num_cl=num_classes)\n",
    "multi_val = Multi_ilab_iterator(val_raw,subset=[0,2,3])\n",
    "\n",
    "\n",
    "def sym_gen(bucket_key):\n",
    "    num_classes=[10,11,8]\n",
    "    #num_classes=[10,10,10]\n",
    "    active = [[1,0,0],[0,1,0],[0,0,1]]\n",
    "    #num_classes = [[10,0],[0,8]]\n",
    "    if bucket_key == 3:\n",
    "        return net.get_vmt_symbol(num_classes, 50, image_shape, conv_workspace=256)\n",
    "    else:\n",
    "        return net.get_mt_symbol(num_classes,active[bucket_key], 50, image_shape, conv_workspace=256)\n",
    "\n",
    "def shared_sym_gen():\n",
    "    num_classes=[10,11,8]\n",
    "    #num_classes=[10,118]\n",
    "    #active = [[1,0,0],[0,1,0],[0,0,1]]\n",
    "    #num_classes = [[10,0,0],[0,11,0],[0,0,8]]\n",
    "    return net.get_vmt_symbol(num_classes, 50, image_shape, conv_workspace=256)\n",
    "#num_classes = [10,91,11,8]\n",
    "num_classes=[10,11,8]\n",
    "#num_classes=[10]\n",
    "#sym, label_names = net.get_vmt_symbol(num_classes, 50, image_shape, conv_workspace=256)\n",
    "#mod = mx.mod.Module(sym, label_names=(label_names), context=[mx.gpu(0)])\n",
    "mod = mx.mod.BucketingModule(sym_gen,default_bucket_key=3, context=[mx.gpu(0)])\n",
    "#sym_gen, default_bucket_key=None\n",
    "#mod = mx.mod.Module(sym, context=[mx.gpu(0)])\n",
    "\n",
    "\n",
    "\n",
    "#val=random_task_iterator(mx.io.DataIter)\n",
    "#train = Multi_ilab_iterator(train,subset=[0,2,3])\n",
    "#val = Multi_ilab_iterator(val,subset=[0,2,3])\n",
    "# train = Single_ilab_iterator(train,labid=1)\n",
    "# val = Single_ilab_iterator(val,labid=1)\n",
    "\n",
    "model_prefix = '/home/ubuntu/results/ilab10_rand'\n",
    "#model_prefix = '/home/ubuntu/results/ilab_cat50'\n",
    "checkpoint = mx.callback.do_checkpoint(model_prefix)\n",
    "\n",
    "\n",
    "\n",
    "\n",
    "#lr_schedule it isimilar to the CIFAR100 schedule but half length of the steps\n",
    "schedule = [20000,30000,40000]\n"
   ]
  },
  {
   "cell_type": "code",
   "execution_count": 3,
   "metadata": {
    "collapsed": false
   },
   "outputs": [],
   "source": [
    "#mon = mx.monitor.Monitor(1,pattern='softmax2_output')\n",
    "#safety check to see whether all outputs are there\n",
    "#sym.list_outputs()"
   ]
  },
  {
   "cell_type": "markdown",
   "metadata": {},
   "source": [
    "Actually train the nets"
   ]
  },
  {
   "cell_type": "code",
   "execution_count": 4,
   "metadata": {
    "collapsed": false
   },
   "outputs": [
    {
     "name": "stderr",
     "output_type": "stream",
     "text": [
      "/home/ubuntu/mxnet/python/mxnet/module/base_module.py:64: UserWarning: Data provided by label_shapes don't match names specified by label_names ([DataDesc[softmax1_label,(64L,),<type 'numpy.float32'>,NCHW], DataDesc[softmax2_label,(64L,),<type 'numpy.float32'>,NCHW]] vs. ['softmax1_label', 'softmax2_label', 'softmax3_label'])\n",
      "  warnings.warn(msg)\n"
     ]
    },
    {
     "name": "stdout",
     "output_type": "stream",
     "text": [
      "[<mxnet.module.module.Module object at 0x7fa5f80798d0>]\n"
     ]
    },
    {
     "name": "stderr",
     "output_type": "stream",
     "text": [
      "INFO:root:Iter[0] Batch[0] Train-single-entropy=nan\n"
     ]
    },
    {
     "name": "stdout",
     "output_type": "stream",
     "text": [
      "['[0] Eval metric = 2.40335542336 for bucket number 1']\n",
      "['[1] Eval metric = 2.0776568912 for bucket number 2']\n",
      "['[2] Eval metric = 2.32488366216 for bucket number 2']\n",
      "['[3] Eval metric = 2.316926267 for bucket number 0']\n",
      "['[4] Eval metric = 2.31554019265 for bucket number 2']\n",
      "['[5] Eval metric = 2.41737364978 for bucket number 1']\n",
      "['[6] Eval metric = 2.06407771434 for bucket number 0']\n",
      "['[7] Eval metric = 2.3517560414 for bucket number 2']\n",
      "['[8] Eval metric = 2.30957365129 for bucket number 0']\n",
      "['[9] Eval metric = 3.19358519092 for bucket number 0']\n",
      "['[10] Eval metric = 2.58327151602 for bucket number 1']\n",
      "['[11] Eval metric = 2.82502782531 for bucket number 0']\n",
      "['[12] Eval metric = 2.36306648143 for bucket number 0']\n",
      "['[13] Eval metric = 2.83019426931 for bucket number 0']\n",
      "['[14] Eval metric = 2.27912003919 for bucket number 2']\n",
      "['[15] Eval metric = 2.50541706569 for bucket number 1']\n",
      "['[16] Eval metric = 2.09087054944 for bucket number 2']\n",
      "['[17] Eval metric = 2.07573045045 for bucket number 2']\n",
      "['[18] Eval metric = 2.4597939048 for bucket number 0']\n",
      "['[19] Eval metric = 2.3649126729 for bucket number 0']\n",
      "['[20] Eval metric = 2.13765889965 for bucket number 2']\n",
      "['[21] Eval metric = 2.10809534788 for bucket number 2']\n",
      "['[22] Eval metric = 2.37730171159 for bucket number 1']\n",
      "['[23] Eval metric = 2.02855559578 for bucket number 0']\n",
      "['[24] Eval metric = 2.68381786905 for bucket number 1']\n",
      "['[25] Eval metric = 2.45015622675 for bucket number 0']\n",
      "['[26] Eval metric = 2.38315120246 for bucket number 1']\n",
      "['[27] Eval metric = 2.56257386133 for bucket number 1']\n"
     ]
    },
    {
     "ename": "KeyboardInterrupt",
     "evalue": "",
     "output_type": "error",
     "traceback": [
      "\u001b[0;31m\u001b[0m",
      "\u001b[0;31mKeyboardInterrupt\u001b[0mTraceback (most recent call last)",
      "\u001b[0;32m<ipython-input-4-ce96a7ec44aa>\u001b[0m in \u001b[0;36m<module>\u001b[0;34m()\u001b[0m\n\u001b[1;32m      6\u001b[0m         \u001b[0mallow_missing\u001b[0m\u001b[0;34m=\u001b[0m\u001b[0mFalse\u001b[0m\u001b[0;34m,\u001b[0m\u001b[0;34m\u001b[0m\u001b[0m\n\u001b[1;32m      7\u001b[0m         \u001b[0moptimizer_params\u001b[0m\u001b[0;34m=\u001b[0m\u001b[0;34m{\u001b[0m\u001b[0;34m'learning_rate'\u001b[0m\u001b[0;34m:\u001b[0m\u001b[0;36m0.05\u001b[0m\u001b[0;34m,\u001b[0m \u001b[0;34m'momentum'\u001b[0m\u001b[0;34m:\u001b[0m \u001b[0;36m0.9\u001b[0m\u001b[0;34m,\u001b[0m\u001b[0;34m'wd'\u001b[0m\u001b[0;34m:\u001b[0m\u001b[0;36m0.0004\u001b[0m\u001b[0;34m,\u001b[0m \u001b[0;34m'lr_scheduler'\u001b[0m\u001b[0;34m:\u001b[0m \u001b[0mmx\u001b[0m\u001b[0;34m.\u001b[0m\u001b[0mlr_scheduler\u001b[0m\u001b[0;34m.\u001b[0m\u001b[0mMultiFactorScheduler\u001b[0m\u001b[0;34m(\u001b[0m\u001b[0mstep\u001b[0m\u001b[0;34m=\u001b[0m\u001b[0mschedule\u001b[0m\u001b[0;34m,\u001b[0m\u001b[0mfactor\u001b[0m\u001b[0;34m=\u001b[0m\u001b[0;36m0.1\u001b[0m\u001b[0;34m)\u001b[0m \u001b[0;34m}\u001b[0m\u001b[0;34m,\u001b[0m\u001b[0;34m\u001b[0m\u001b[0m\n\u001b[0;32m----> 8\u001b[0;31m         num_epoch=20)\n\u001b[0m\u001b[1;32m      9\u001b[0m \u001b[0;31m# train loading form nepoch\u001b[0m\u001b[0;34m\u001b[0m\u001b[0;34m\u001b[0m\u001b[0m\n\u001b[1;32m     10\u001b[0m \u001b[0;31m# mod.fit(train, eval_data=val, epoch_end_callback=checkpoint, optimizer_params={'learning_rate':0.1, 'momentum': 0.9,'wd':0.0004}, num_epoch=300, arg_params=arg_params, aux_params=aux_params,\u001b[0m\u001b[0;34m\u001b[0m\u001b[0;34m\u001b[0m\u001b[0m\n",
      "\u001b[0;32m/home/ubuntu/mxnet/python/mxnet/module/base_module.pyc\u001b[0m in \u001b[0;36mfit\u001b[0;34m(self, train_data, eval_data, eval_metric, epoch_end_callback, batch_end_callback, kvstore, optimizer, optimizer_params, eval_end_callback, eval_batch_end_callback, initializer, arg_params, aux_params, allow_missing, force_rebind, force_init, begin_epoch, num_epoch, validation_metric, monitor)\u001b[0m\n\u001b[1;32m    464\u001b[0m                 \u001b[0mself\u001b[0m\u001b[0;34m.\u001b[0m\u001b[0mforward_backward\u001b[0m\u001b[0;34m(\u001b[0m\u001b[0mdata_batch\u001b[0m\u001b[0;34m)\u001b[0m\u001b[0;34m\u001b[0m\u001b[0m\n\u001b[1;32m    465\u001b[0m                 \u001b[0mself\u001b[0m\u001b[0;34m.\u001b[0m\u001b[0mupdate\u001b[0m\u001b[0;34m(\u001b[0m\u001b[0;34m)\u001b[0m\u001b[0;34m\u001b[0m\u001b[0m\n\u001b[0;32m--> 466\u001b[0;31m                 \u001b[0mself\u001b[0m\u001b[0;34m.\u001b[0m\u001b[0mupdate_metric\u001b[0m\u001b[0;34m(\u001b[0m\u001b[0meval_metric\u001b[0m\u001b[0;34m,\u001b[0m \u001b[0mdata_batch\u001b[0m\u001b[0;34m.\u001b[0m\u001b[0mlabel\u001b[0m\u001b[0;34m)\u001b[0m\u001b[0;34m\u001b[0m\u001b[0m\n\u001b[0m\u001b[1;32m    467\u001b[0m \u001b[0;34m\u001b[0m\u001b[0m\n\u001b[1;32m    468\u001b[0m                 \u001b[0;32mif\u001b[0m \u001b[0mmonitor\u001b[0m \u001b[0;32mis\u001b[0m \u001b[0;32mnot\u001b[0m \u001b[0mNone\u001b[0m\u001b[0;34m:\u001b[0m\u001b[0;34m\u001b[0m\u001b[0m\n",
      "\u001b[0;32m/home/ubuntu/mxnet/python/mxnet/module/bucketing_module.pyc\u001b[0m in \u001b[0;36mupdate_metric\u001b[0;34m(self, eval_metric, labels)\u001b[0m\n\u001b[1;32m    435\u001b[0m         \"\"\"\n\u001b[1;32m    436\u001b[0m         \u001b[0;32massert\u001b[0m \u001b[0mself\u001b[0m\u001b[0;34m.\u001b[0m\u001b[0mbinded\u001b[0m \u001b[0;32mand\u001b[0m \u001b[0mself\u001b[0m\u001b[0;34m.\u001b[0m\u001b[0mparams_initialized\u001b[0m\u001b[0;34m\u001b[0m\u001b[0m\n\u001b[0;32m--> 437\u001b[0;31m         \u001b[0mself\u001b[0m\u001b[0;34m.\u001b[0m\u001b[0m_curr_module\u001b[0m\u001b[0;34m.\u001b[0m\u001b[0mupdate_metric\u001b[0m\u001b[0;34m(\u001b[0m\u001b[0meval_metric\u001b[0m\u001b[0;34m,\u001b[0m \u001b[0mlabels\u001b[0m\u001b[0;34m)\u001b[0m\u001b[0;34m\u001b[0m\u001b[0m\n\u001b[0m\u001b[1;32m    438\u001b[0m \u001b[0;34m\u001b[0m\u001b[0m\n\u001b[1;32m    439\u001b[0m     \u001b[0;34m@\u001b[0m\u001b[0mproperty\u001b[0m\u001b[0;34m\u001b[0m\u001b[0m\n",
      "\u001b[0;32m/home/ubuntu/mxnet/python/mxnet/module/module.pyc\u001b[0m in \u001b[0;36mupdate_metric\u001b[0;34m(self, eval_metric, labels)\u001b[0m\n\u001b[1;32m    685\u001b[0m             \u001b[0mTypically\u001b[0m \u001b[0;34m`\u001b[0m\u001b[0mdata_batch\u001b[0m\u001b[0;34m.\u001b[0m\u001b[0mlabel\u001b[0m\u001b[0;34m`\u001b[0m\u001b[0;34m.\u001b[0m\u001b[0;34m\u001b[0m\u001b[0m\n\u001b[1;32m    686\u001b[0m         \"\"\"\n\u001b[0;32m--> 687\u001b[0;31m         \u001b[0mself\u001b[0m\u001b[0;34m.\u001b[0m\u001b[0m_exec_group\u001b[0m\u001b[0;34m.\u001b[0m\u001b[0mupdate_metric\u001b[0m\u001b[0;34m(\u001b[0m\u001b[0meval_metric\u001b[0m\u001b[0;34m,\u001b[0m \u001b[0mlabels\u001b[0m\u001b[0;34m)\u001b[0m\u001b[0;34m\u001b[0m\u001b[0m\n\u001b[0m\u001b[1;32m    688\u001b[0m \u001b[0;34m\u001b[0m\u001b[0m\n\u001b[1;32m    689\u001b[0m     \u001b[0;32mdef\u001b[0m \u001b[0m_sync_params_from_devices\u001b[0m\u001b[0;34m(\u001b[0m\u001b[0mself\u001b[0m\u001b[0;34m)\u001b[0m\u001b[0;34m:\u001b[0m\u001b[0;34m\u001b[0m\u001b[0m\n",
      "\u001b[0;32m/home/ubuntu/mxnet/python/mxnet/module/executor_group.pyc\u001b[0m in \u001b[0;36mupdate_metric\u001b[0;34m(self, eval_metric, labels)\u001b[0m\n\u001b[1;32m    526\u001b[0m                     \u001b[0mlabels_slice\u001b[0m\u001b[0;34m.\u001b[0m\u001b[0mappend\u001b[0m\u001b[0;34m(\u001b[0m\u001b[0mlabel\u001b[0m\u001b[0;34m)\u001b[0m\u001b[0;34m\u001b[0m\u001b[0m\n\u001b[1;32m    527\u001b[0m \u001b[0;34m\u001b[0m\u001b[0m\n\u001b[0;32m--> 528\u001b[0;31m             \u001b[0meval_metric\u001b[0m\u001b[0;34m.\u001b[0m\u001b[0mupdate\u001b[0m\u001b[0;34m(\u001b[0m\u001b[0mlabels_slice\u001b[0m\u001b[0;34m,\u001b[0m \u001b[0mtexec\u001b[0m\u001b[0;34m.\u001b[0m\u001b[0moutputs\u001b[0m\u001b[0;34m)\u001b[0m\u001b[0;34m\u001b[0m\u001b[0m\n\u001b[0m\u001b[1;32m    529\u001b[0m \u001b[0;34m\u001b[0m\u001b[0m\n\u001b[1;32m    530\u001b[0m     \u001b[0;32mdef\u001b[0m \u001b[0m_bind_ith_exec\u001b[0m\u001b[0;34m(\u001b[0m\u001b[0mself\u001b[0m\u001b[0;34m,\u001b[0m \u001b[0mi\u001b[0m\u001b[0;34m,\u001b[0m \u001b[0mdata_shapes\u001b[0m\u001b[0;34m,\u001b[0m \u001b[0mlabel_shapes\u001b[0m\u001b[0;34m,\u001b[0m \u001b[0mshared_group\u001b[0m\u001b[0;34m)\u001b[0m\u001b[0;34m:\u001b[0m\u001b[0;34m\u001b[0m\u001b[0m\n",
      "\u001b[0;32m<ipython-input-1-b2524f2b849e>\u001b[0m in \u001b[0;36mupdate\u001b[0;34m(self, labels, preds)\u001b[0m\n\u001b[1;32m    122\u001b[0m         \u001b[0;32mfor\u001b[0m \u001b[0mj\u001b[0m \u001b[0;32min\u001b[0m \u001b[0mrange\u001b[0m\u001b[0;34m(\u001b[0m\u001b[0mlen\u001b[0m\u001b[0;34m(\u001b[0m\u001b[0mlabels\u001b[0m\u001b[0;34m)\u001b[0m\u001b[0;34m)\u001b[0m\u001b[0;34m:\u001b[0m\u001b[0;34m\u001b[0m\u001b[0m\n\u001b[1;32m    123\u001b[0m             \u001b[0mlabel\u001b[0m \u001b[0;34m=\u001b[0m \u001b[0mlabels\u001b[0m\u001b[0;34m[\u001b[0m\u001b[0mj\u001b[0m\u001b[0;34m]\u001b[0m\u001b[0;34m.\u001b[0m\u001b[0masnumpy\u001b[0m\u001b[0;34m(\u001b[0m\u001b[0;34m)\u001b[0m\u001b[0;34m\u001b[0m\u001b[0m\n\u001b[0;32m--> 124\u001b[0;31m             \u001b[0mpred\u001b[0m \u001b[0;34m=\u001b[0m \u001b[0mpreds\u001b[0m\u001b[0;34m[\u001b[0m\u001b[0mj\u001b[0m\u001b[0;34m]\u001b[0m\u001b[0;34m.\u001b[0m\u001b[0masnumpy\u001b[0m\u001b[0;34m(\u001b[0m\u001b[0;34m)\u001b[0m\u001b[0;34m\u001b[0m\u001b[0m\n\u001b[0m\u001b[1;32m    125\u001b[0m             \u001b[0;32mfor\u001b[0m \u001b[0mi\u001b[0m \u001b[0;32min\u001b[0m \u001b[0mrange\u001b[0m\u001b[0;34m(\u001b[0m\u001b[0mlabel\u001b[0m\u001b[0;34m.\u001b[0m\u001b[0mshape\u001b[0m\u001b[0;34m[\u001b[0m\u001b[0;36m0\u001b[0m\u001b[0;34m]\u001b[0m\u001b[0;34m)\u001b[0m\u001b[0;34m:\u001b[0m\u001b[0;34m\u001b[0m\u001b[0m\n\u001b[1;32m    126\u001b[0m                 \u001b[0mprob\u001b[0m \u001b[0;34m=\u001b[0m \u001b[0mpred\u001b[0m\u001b[0;34m[\u001b[0m\u001b[0mi\u001b[0m\u001b[0;34m,\u001b[0m\u001b[0mnumpy\u001b[0m\u001b[0;34m.\u001b[0m\u001b[0mint64\u001b[0m\u001b[0;34m(\u001b[0m\u001b[0mlabel\u001b[0m\u001b[0;34m[\u001b[0m\u001b[0mi\u001b[0m\u001b[0;34m]\u001b[0m\u001b[0;34m)\u001b[0m\u001b[0;34m]\u001b[0m\u001b[0;34m\u001b[0m\u001b[0m\n",
      "\u001b[0;32m/home/ubuntu/mxnet/python/mxnet/ndarray.pyc\u001b[0m in \u001b[0;36masnumpy\u001b[0;34m(self)\u001b[0m\n\u001b[1;32m    686\u001b[0m             \u001b[0mself\u001b[0m\u001b[0;34m.\u001b[0m\u001b[0mhandle\u001b[0m\u001b[0;34m,\u001b[0m\u001b[0;34m\u001b[0m\u001b[0m\n\u001b[1;32m    687\u001b[0m             \u001b[0mdata\u001b[0m\u001b[0;34m.\u001b[0m\u001b[0mctypes\u001b[0m\u001b[0;34m.\u001b[0m\u001b[0mdata_as\u001b[0m\u001b[0;34m(\u001b[0m\u001b[0mctypes\u001b[0m\u001b[0;34m.\u001b[0m\u001b[0mc_void_p\u001b[0m\u001b[0;34m)\u001b[0m\u001b[0;34m,\u001b[0m\u001b[0;34m\u001b[0m\u001b[0m\n\u001b[0;32m--> 688\u001b[0;31m             ctypes.c_size_t(data.size)))\n\u001b[0m\u001b[1;32m    689\u001b[0m         \u001b[0;32mreturn\u001b[0m \u001b[0mdata\u001b[0m\u001b[0;34m\u001b[0m\u001b[0m\n\u001b[1;32m    690\u001b[0m \u001b[0;34m\u001b[0m\u001b[0m\n",
      "\u001b[0;31mKeyboardInterrupt\u001b[0m: "
     ]
    }
   ],
   "source": [
    "mod.fit(train,\n",
    "        eval_data=val,\n",
    "        eval_metric=Cross_Entropy(),\n",
    "        batch_end_callback = mx.callback.log_train_metric(100),\n",
    "        epoch_end_callback=checkpoint,\n",
    "        allow_missing=False,\n",
    "        optimizer_params={'learning_rate':0.05, 'momentum': 0.9,'wd':0.0004, 'lr_scheduler': mx.lr_scheduler.MultiFactorScheduler(step=schedule,factor=0.1) },\n",
    "        num_epoch=20)\n",
    "# train loading form nepoch\n",
    "# mod.fit(train, eval_data=val, epoch_end_callback=checkpoint, optimizer_params={'learning_rate':0.1, 'momentum': 0.9,'wd':0.0004}, num_epoch=300, arg_params=arg_params, aux_params=aux_params,\n",
    "#         begin_epoch=n_epoch_load)\n"
   ]
  },
  {
   "cell_type": "markdown",
   "metadata": {},
   "source": [
    "Get evaluation of multi accuracy and entropy on validation set at a specified epoch"
   ]
  },
  {
   "cell_type": "code",
   "execution_count": 5,
   "metadata": {
    "collapsed": false
   },
   "outputs": [],
   "source": [
    "#model_prefix = '/home/ubuntu/results/ilab10_rand_multi'\n",
    "#model_prefix = '/home/ubuntu/results/ilab_cat50'\n",
    "#checkpoint = mx.callback.do_checkpoint(model_prefix)\n",
    "#sym, arg_params, aux_params = \\\n",
    "#       mx.model.load_checkpoint(model_prefix, 5)\n",
    "#mod.bind(data_shapes=val.provide_data,\n",
    "#        label_shapes=val.provide_label)    \n",
    "#mod.set_params(arg_params, aux_params)\n",
    "# mod.score(multi_val, Multi_Entropy(num=3),num_batch=100)\n",
    "# mod.score(val, Multi_Entropy(num=3),num_batch=100)\n",
    "\n",
    "# mod.score(val, AccuracyIlab,num_batch=1)"
   ]
  },
  {
   "cell_type": "code",
   "execution_count": 6,
   "metadata": {
    "collapsed": false
   },
   "outputs": [],
   "source": [
    "#mod._shared_module.bind(data_shapes=multi_val.provide_data,\n",
    "#         label_shapes=multi_val.provide_label,force_rebind=True)   \n",
    "#mod._shared_module.score(multi_val, Multi_Accuracy(num=3),num_batch=100)\n",
    "#multi_val.provide_label"
   ]
  },
  {
   "cell_type": "code",
   "execution_count": 7,
   "metadata": {
    "collapsed": false
   },
   "outputs": [],
   "source": [
    "#mod._buckets[0]._symbol.list_arguments()\n",
    "#mx.viz.plot_network(mod._shared_module._symbol, shape={\"data\":(1, 3, 224, 224)}, node_attrs={\"shape\":'rect',\"fixedsize\":'false'})"
   ]
  },
  {
   "cell_type": "code",
   "execution_count": 8,
   "metadata": {
    "collapsed": false
   },
   "outputs": [],
   "source": [
    "#mod._shared_module._symbol.list_arguments()\n",
    "\n",
    "#multi_val.provide_label"
   ]
  },
  {
   "cell_type": "code",
   "execution_count": 9,
   "metadata": {
    "collapsed": false
   },
   "outputs": [],
   "source": [
    "#mod._shared_module._label_shapes = multi_val.provide_label\n",
    "#mod._buckets[1]._label_shapes\n",
    "#mod._buckets[0]._label_shapes"
   ]
  },
  {
   "cell_type": "code",
   "execution_count": 10,
   "metadata": {
    "collapsed": false
   },
   "outputs": [],
   "source": [
    "#model_prefix = '/home/ubuntu/results/ilab10_rand_multi'\n",
    "#model_prefix = '/home/ubuntu/results/ilab_cat50'\n",
    "#checkpoint = mx.callback.do_checkpoint(model_prefix)\n",
    "#sym, arg_params, aux_params = \\\n",
    "#mx.model.load_checkpoint(model_prefix, 2)\n",
    " \n",
    "#multi_val= Multi_ilab_iterator(val_raw,subset=[0,2,3])\n",
    "#mod._shared_module.bind(data_shapes=multi_val.provide_data,\\\n",
    "#        label_shapes=multi_val.provide_label,force_rebind=True)  \n",
    "#mod._shared_module.set_params(arg_params, aux_params)#\n",
    "\n",
    "#mod._shared_module.score(multi_val, Multi_Accuracy(num=3),num_batch=100)\n",
    "#multi_val.provide_label\n",
    "#mod._shared_module._label_shapes.shape"
   ]
  },
  {
   "cell_type": "code",
   "execution_count": 11,
   "metadata": {
    "collapsed": false
   },
   "outputs": [],
   "source": [
    "a = mx.symbol.Variable('mona' ,init = mx.initializer.Xavier())"
   ]
  },
  {
   "cell_type": "code",
   "execution_count": 12,
   "metadata": {
    "collapsed": false
   },
   "outputs": [
    {
     "data": {
      "text/plain": [
       "<function mxnet.symbol.var>"
      ]
     },
     "execution_count": 12,
     "metadata": {},
     "output_type": "execute_result"
    }
   ],
   "source": [
    "mx.symbol.Variable"
   ]
  },
  {
   "cell_type": "code",
   "execution_count": 13,
   "metadata": {
    "collapsed": false
   },
   "outputs": [
    {
     "name": "stdout",
     "output_type": "stream",
     "text": [
      "[<NDArray 64 @cpu(0)>]\n",
      "1\n",
      "(64,) (64, 10)\n",
      "[<NDArray 64 @cpu(0)>]\n",
      "1\n"
     ]
    },
    {
     "name": "stderr",
     "output_type": "stream",
     "text": [
      "/usr/local/lib/python2.7/dist-packages/ipykernel/__main__.py:110: RuntimeWarning: divide by zero encountered in log\n"
     ]
    },
    {
     "name": "stdout",
     "output_type": "stream",
     "text": [
      "(64,) (64, 10)\n",
      "[<NDArray 64 @cpu(0)>]\n",
      "1\n",
      "(64,) (64, 10)\n",
      "[<NDArray 64 @cpu(0)>]\n",
      "1\n",
      "(64,) (64, 10)\n"
     ]
    },
    {
     "ename": "IndexError",
     "evalue": "index 10 is out of bounds for axis 1 with size 10",
     "output_type": "error",
     "traceback": [
      "\u001b[0;31m\u001b[0m",
      "\u001b[0;31mIndexError\u001b[0mTraceback (most recent call last)",
      "\u001b[0;32m<ipython-input-13-c490e1154755>\u001b[0m in \u001b[0;36m<module>\u001b[0;34m()\u001b[0m\n\u001b[1;32m      1\u001b[0m \u001b[0;31m#mod._buckets[0].keys_dict\u001b[0m\u001b[0;34m\u001b[0m\u001b[0;34m\u001b[0m\u001b[0m\n\u001b[1;32m      2\u001b[0m \u001b[0;31m#mod._buckets[0].idx2name\u001b[0m\u001b[0;34m\u001b[0m\u001b[0;34m\u001b[0m\u001b[0m\n\u001b[0;32m----> 3\u001b[0;31m \u001b[0mmod\u001b[0m\u001b[0;34m.\u001b[0m\u001b[0m_buckets\u001b[0m\u001b[0;34m[\u001b[0m\u001b[0;36m0\u001b[0m\u001b[0;34m]\u001b[0m\u001b[0;34m.\u001b[0m\u001b[0mscore\u001b[0m\u001b[0;34m(\u001b[0m\u001b[0mval\u001b[0m\u001b[0;34m,\u001b[0m\u001b[0mMulti_Entropy\u001b[0m\u001b[0;34m(\u001b[0m\u001b[0mnum\u001b[0m\u001b[0;34m=\u001b[0m\u001b[0;36m1\u001b[0m\u001b[0;34m)\u001b[0m\u001b[0;34m,\u001b[0m \u001b[0mnum_batch\u001b[0m\u001b[0;34m=\u001b[0m\u001b[0;36m100\u001b[0m\u001b[0;34m)\u001b[0m\u001b[0;34m\u001b[0m\u001b[0m\n\u001b[0m\u001b[1;32m      4\u001b[0m \u001b[0;31m#mod._buckets[0]._arg_params\u001b[0m\u001b[0;34m\u001b[0m\u001b[0;34m\u001b[0m\u001b[0m\n",
      "\u001b[0;32m/home/ubuntu/mxnet/python/mxnet/module/base_module.pyc\u001b[0m in \u001b[0;36mscore\u001b[0;34m(self, eval_data, eval_metric, num_batch, batch_end_callback, score_end_callback, reset, epoch)\u001b[0m\n\u001b[1;32m    240\u001b[0m \u001b[0;34m\u001b[0m\u001b[0m\n\u001b[1;32m    241\u001b[0m             \u001b[0mself\u001b[0m\u001b[0;34m.\u001b[0m\u001b[0mforward\u001b[0m\u001b[0;34m(\u001b[0m\u001b[0meval_batch\u001b[0m\u001b[0;34m,\u001b[0m \u001b[0mis_train\u001b[0m\u001b[0;34m=\u001b[0m\u001b[0mFalse\u001b[0m\u001b[0;34m)\u001b[0m\u001b[0;34m\u001b[0m\u001b[0m\n\u001b[0;32m--> 242\u001b[0;31m             \u001b[0mself\u001b[0m\u001b[0;34m.\u001b[0m\u001b[0mupdate_metric\u001b[0m\u001b[0;34m(\u001b[0m\u001b[0meval_metric\u001b[0m\u001b[0;34m,\u001b[0m \u001b[0meval_batch\u001b[0m\u001b[0;34m.\u001b[0m\u001b[0mlabel\u001b[0m\u001b[0;34m)\u001b[0m\u001b[0;34m\u001b[0m\u001b[0m\n\u001b[0m\u001b[1;32m    243\u001b[0m \u001b[0;34m\u001b[0m\u001b[0m\n\u001b[1;32m    244\u001b[0m             \u001b[0;32mif\u001b[0m \u001b[0mbatch_end_callback\u001b[0m \u001b[0;32mis\u001b[0m \u001b[0;32mnot\u001b[0m \u001b[0mNone\u001b[0m\u001b[0;34m:\u001b[0m\u001b[0;34m\u001b[0m\u001b[0m\n",
      "\u001b[0;32m/home/ubuntu/mxnet/python/mxnet/module/module.pyc\u001b[0m in \u001b[0;36mupdate_metric\u001b[0;34m(self, eval_metric, labels)\u001b[0m\n\u001b[1;32m    685\u001b[0m             \u001b[0mTypically\u001b[0m \u001b[0;34m`\u001b[0m\u001b[0mdata_batch\u001b[0m\u001b[0;34m.\u001b[0m\u001b[0mlabel\u001b[0m\u001b[0;34m`\u001b[0m\u001b[0;34m.\u001b[0m\u001b[0;34m\u001b[0m\u001b[0m\n\u001b[1;32m    686\u001b[0m         \"\"\"\n\u001b[0;32m--> 687\u001b[0;31m         \u001b[0mself\u001b[0m\u001b[0;34m.\u001b[0m\u001b[0m_exec_group\u001b[0m\u001b[0;34m.\u001b[0m\u001b[0mupdate_metric\u001b[0m\u001b[0;34m(\u001b[0m\u001b[0meval_metric\u001b[0m\u001b[0;34m,\u001b[0m \u001b[0mlabels\u001b[0m\u001b[0;34m)\u001b[0m\u001b[0;34m\u001b[0m\u001b[0m\n\u001b[0m\u001b[1;32m    688\u001b[0m \u001b[0;34m\u001b[0m\u001b[0m\n\u001b[1;32m    689\u001b[0m     \u001b[0;32mdef\u001b[0m \u001b[0m_sync_params_from_devices\u001b[0m\u001b[0;34m(\u001b[0m\u001b[0mself\u001b[0m\u001b[0;34m)\u001b[0m\u001b[0;34m:\u001b[0m\u001b[0;34m\u001b[0m\u001b[0m\n",
      "\u001b[0;32m/home/ubuntu/mxnet/python/mxnet/module/executor_group.pyc\u001b[0m in \u001b[0;36mupdate_metric\u001b[0;34m(self, eval_metric, labels)\u001b[0m\n\u001b[1;32m    526\u001b[0m                     \u001b[0mlabels_slice\u001b[0m\u001b[0;34m.\u001b[0m\u001b[0mappend\u001b[0m\u001b[0;34m(\u001b[0m\u001b[0mlabel\u001b[0m\u001b[0;34m)\u001b[0m\u001b[0;34m\u001b[0m\u001b[0m\n\u001b[1;32m    527\u001b[0m \u001b[0;34m\u001b[0m\u001b[0m\n\u001b[0;32m--> 528\u001b[0;31m             \u001b[0meval_metric\u001b[0m\u001b[0;34m.\u001b[0m\u001b[0mupdate\u001b[0m\u001b[0;34m(\u001b[0m\u001b[0mlabels_slice\u001b[0m\u001b[0;34m,\u001b[0m \u001b[0mtexec\u001b[0m\u001b[0;34m.\u001b[0m\u001b[0moutputs\u001b[0m\u001b[0;34m)\u001b[0m\u001b[0;34m\u001b[0m\u001b[0m\n\u001b[0m\u001b[1;32m    529\u001b[0m \u001b[0;34m\u001b[0m\u001b[0m\n\u001b[1;32m    530\u001b[0m     \u001b[0;32mdef\u001b[0m \u001b[0m_bind_ith_exec\u001b[0m\u001b[0;34m(\u001b[0m\u001b[0mself\u001b[0m\u001b[0;34m,\u001b[0m \u001b[0mi\u001b[0m\u001b[0;34m,\u001b[0m \u001b[0mdata_shapes\u001b[0m\u001b[0;34m,\u001b[0m \u001b[0mlabel_shapes\u001b[0m\u001b[0;34m,\u001b[0m \u001b[0mshared_group\u001b[0m\u001b[0;34m)\u001b[0m\u001b[0;34m:\u001b[0m\u001b[0;34m\u001b[0m\u001b[0m\n",
      "\u001b[0;32m<ipython-input-1-b2524f2b849e>\u001b[0m in \u001b[0;36mupdate\u001b[0;34m(self, labels, preds)\u001b[0m\n\u001b[1;32m    107\u001b[0m                 \u001b[0;32massert\u001b[0m \u001b[0mlabel\u001b[0m\u001b[0;34m.\u001b[0m\u001b[0mshape\u001b[0m\u001b[0;34m[\u001b[0m\u001b[0;36m0\u001b[0m\u001b[0;34m]\u001b[0m \u001b[0;34m==\u001b[0m \u001b[0mpred\u001b[0m\u001b[0;34m.\u001b[0m\u001b[0mshape\u001b[0m\u001b[0;34m[\u001b[0m\u001b[0;36m0\u001b[0m\u001b[0;34m]\u001b[0m\u001b[0;34m\u001b[0m\u001b[0m\n\u001b[1;32m    108\u001b[0m                 \u001b[0;32mprint\u001b[0m \u001b[0mlabel\u001b[0m\u001b[0;34m.\u001b[0m\u001b[0mshape\u001b[0m\u001b[0;34m,\u001b[0m \u001b[0mpred\u001b[0m\u001b[0;34m.\u001b[0m\u001b[0mshape\u001b[0m\u001b[0;34m\u001b[0m\u001b[0m\n\u001b[0;32m--> 109\u001b[0;31m                 \u001b[0mprob\u001b[0m \u001b[0;34m=\u001b[0m \u001b[0mpred\u001b[0m\u001b[0;34m[\u001b[0m\u001b[0mnumpy\u001b[0m\u001b[0;34m.\u001b[0m\u001b[0marange\u001b[0m\u001b[0;34m(\u001b[0m\u001b[0mlabel\u001b[0m\u001b[0;34m.\u001b[0m\u001b[0mshape\u001b[0m\u001b[0;34m[\u001b[0m\u001b[0;36m0\u001b[0m\u001b[0;34m]\u001b[0m\u001b[0;34m)\u001b[0m\u001b[0;34m,\u001b[0m \u001b[0mnumpy\u001b[0m\u001b[0;34m.\u001b[0m\u001b[0mint64\u001b[0m\u001b[0;34m(\u001b[0m\u001b[0mlabel\u001b[0m\u001b[0;34m)\u001b[0m\u001b[0;34m]\u001b[0m\u001b[0;34m\u001b[0m\u001b[0m\n\u001b[0m\u001b[1;32m    110\u001b[0m                 \u001b[0mself\u001b[0m\u001b[0;34m.\u001b[0m\u001b[0msum_metric\u001b[0m\u001b[0;34m[\u001b[0m\u001b[0mi\u001b[0m\u001b[0;34m]\u001b[0m \u001b[0;34m+=\u001b[0m \u001b[0;34m(\u001b[0m\u001b[0;34m-\u001b[0m\u001b[0mnumpy\u001b[0m\u001b[0;34m.\u001b[0m\u001b[0mlog\u001b[0m\u001b[0;34m(\u001b[0m\u001b[0mprob\u001b[0m\u001b[0;34m)\u001b[0m\u001b[0;34m)\u001b[0m\u001b[0;34m.\u001b[0m\u001b[0msum\u001b[0m\u001b[0;34m(\u001b[0m\u001b[0;34m)\u001b[0m\u001b[0;34m\u001b[0m\u001b[0m\n\u001b[1;32m    111\u001b[0m                 \u001b[0mself\u001b[0m\u001b[0;34m.\u001b[0m\u001b[0mnum_inst\u001b[0m\u001b[0;34m[\u001b[0m\u001b[0mi\u001b[0m\u001b[0;34m]\u001b[0m \u001b[0;34m+=\u001b[0m \u001b[0mlabel\u001b[0m\u001b[0;34m.\u001b[0m\u001b[0mshape\u001b[0m\u001b[0;34m[\u001b[0m\u001b[0;36m0\u001b[0m\u001b[0;34m]\u001b[0m\u001b[0;34m\u001b[0m\u001b[0m\n",
      "\u001b[0;31mIndexError\u001b[0m: index 10 is out of bounds for axis 1 with size 10"
     ]
    }
   ],
   "source": [
    "#mod._buckets[0].keys_dict\n",
    "#mod._buckets[0].idx2name\n",
    "mod._buckets[0].score(val,Multi_Entropy(num=1), num_batch=100)\n",
    "#mod._buckets[0]._arg_params"
   ]
  },
  {
   "cell_type": "code",
   "execution_count": null,
   "metadata": {
    "collapsed": false
   },
   "outputs": [],
   "source": [
    "#mod._buckets[2]._arg_params\n",
    "diction0=mod._buckets[0].get_params()\n",
    "diction1=mod._buckets[1].get_params()\n",
    "#diction2=mod._buckets[2].get_params()\n",
    "dictionGOD=mod._buckets[2].get_params()"
   ]
  },
  {
   "cell_type": "code",
   "execution_count": null,
   "metadata": {
    "collapsed": false
   },
   "outputs": [],
   "source": [
    "diction0[0]['fc1_bias'].asnumpy()"
   ]
  },
  {
   "cell_type": "code",
   "execution_count": null,
   "metadata": {
    "collapsed": false
   },
   "outputs": [],
   "source": [
    "diction1[0]['fc2_bias'].asnumpy()"
   ]
  },
  {
   "cell_type": "code",
   "execution_count": null,
   "metadata": {
    "collapsed": false
   },
   "outputs": [],
   "source": [
    "dictionGOD[0]['fc2_bias'].asnumpy()"
   ]
  },
  {
   "cell_type": "code",
   "execution_count": null,
   "metadata": {
    "collapsed": false
   },
   "outputs": [],
   "source": [
    "diction2[0]['fc3_bias'].asnumpy()"
   ]
  },
  {
   "cell_type": "code",
   "execution_count": null,
   "metadata": {
    "collapsed": false
   },
   "outputs": [],
   "source": [
    "mod._curr_module._param_names\n",
    "aux_params = {name:[] for name in mod._curr_module._param_names}\n"
   ]
  },
  {
   "cell_type": "code",
   "execution_count": null,
   "metadata": {
    "collapsed": false
   },
   "outputs": [],
   "source": [
    "mod._buckets[2]._arg_params['bn0_beta'].asnumpy()"
   ]
  },
  {
   "cell_type": "code",
   "execution_count": null,
   "metadata": {
    "collapsed": false
   },
   "outputs": [],
   "source": [
    "mod._buckets[2]._param_names"
   ]
  },
  {
   "cell_type": "code",
   "execution_count": null,
   "metadata": {
    "collapsed": true
   },
   "outputs": [],
   "source": []
  },
  {
   "cell_type": "code",
   "execution_count": null,
   "metadata": {
    "collapsed": true
   },
   "outputs": [],
   "source": []
  }
 ],
 "metadata": {
  "kernelspec": {
   "display_name": "Python 2",
   "language": "python",
   "name": "python2"
  },
  "language_info": {
   "codemirror_mode": {
    "name": "ipython",
    "version": 2
   },
   "file_extension": ".py",
   "mimetype": "text/x-python",
   "name": "python",
   "nbconvert_exporter": "python",
   "pygments_lexer": "ipython2",
   "version": "2.7.6"
  }
 },
 "nbformat": 4,
 "nbformat_minor": 1
}
