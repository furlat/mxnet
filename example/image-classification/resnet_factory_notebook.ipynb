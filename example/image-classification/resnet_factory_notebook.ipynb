{
 "cells": [
  {
   "cell_type": "code",
   "execution_count": null,
   "metadata": {
    "collapsed": true
   },
   "outputs": [],
   "source": [
    "import os\n",
    "import argparse\n",
    "import logging\n",
    "logging.basicConfig(level=logging.DEBUG)\n",
    "from common import find_mxnet, data, fit\n",
    "from common.util import download_file\n",
    "from ilab_iterator import ilab_iterator, Multi_ilab_iterator, Single_ilab_iterator, random_task_iterator\n",
    "import mxnet as mx\n",
    "import numpy as np\n",
    "import numpy \n",
    "from mxnet import nd\n"
   ]
  },
  {
   "cell_type": "code",
   "execution_count": null,
   "metadata": {
    "collapsed": false
   },
   "outputs": [],
   "source": [
    "class Cross_Entropy(mx.metric.EvalMetric):\n",
    "    \"\"\"Calculate accuracies of multi label\"\"\"\n",
    "\n",
    "    def __init__(self):\n",
    "        super(Cross_Entropy, self).__init__('cross-entropy')\n",
    "    def update(self, labels, preds):\n",
    "        mx.metric.check_label_shapes(labels, preds)\n",
    "        label = labels[0].asnumpy()\n",
    "        pred = preds[0].asnumpy()\n",
    "        for i in range(label.shape[0]):\n",
    "            prob = pred[i,numpy.int64(label[i])]\n",
    "            if len(labels) == 1:\n",
    "                self.sum_metric += (-numpy.log(prob)).sum()\n",
    "        self.num_inst += label.shape[0]\n",
    "        \n",
    "\n",
    "def imagenet_iterator(data_dir,batch_size):\n",
    "    train = mx.io.ImageRecordIter(\n",
    "            path_imgrec         = os.path.join(data_dir, \"imagenet_small_train.rec\"),\n",
    "            label_width         = 1,\n",
    "            data_name           = 'data',\n",
    "            label_name          = 'softmax1_label',\n",
    "            data_shape          = (3, 224, 224),\n",
    "            batch_size          = batch_size,\n",
    "            pad                 = 0,\n",
    "            fill_value          = 127,  # only used when pad is valid\n",
    "            rand_crop           = True,\n",
    "            max_random_scale    = 1.0,  # 480 with imagnet, 32 with cifar10\n",
    "            min_random_scale    = 0.533,  # 256.0/480.0\n",
    "            max_aspect_ratio    =  0.25,\n",
    "            random_h            = 36,  # 0.4*90\n",
    "            random_s            = 50,  # 0.4*127\n",
    "            random_l            = 50,  # 0.4*127\n",
    "            #max_rotate_angle    = 10,\n",
    "            #max_shear_ratio     = 0.1, #\n",
    "            rand_mirror         = True,\n",
    "            shuffle             = True)\n",
    "            #num_parts           = kv.num_workers,\n",
    "            #part_index          = kv.rank)\n",
    "    val = mx.io.ImageRecordIter(\n",
    "            path_imgrec         = os.path.join(data_dir, \"imagenet_small_val.rec\"),\n",
    "            label_width         = 1,\n",
    "            data_name           = 'data',\n",
    "            label_name          = 'softmax1_label',\n",
    "            batch_size          = batch_size,\n",
    "            max_random_scale    = 0.533,  # 480 with imagnet, 32 with cifar10\n",
    "            min_random_scale    = 0.533,  # 256.0/480.\n",
    "            data_shape          = (3, 224, 224),\n",
    "            rand_crop           = False,\n",
    "            rand_mirror         = False)\n",
    "            #num_parts           = kv.num_workers,\n",
    "            #part_index          = kv.rank)\n",
    "    return train, val\n",
    "\n",
    "batch_size = 640\n",
    "data_dir='/efs/datasets/users/furlat/imagenet'\n",
    "#imagenet\n",
    "train_imag, val_imag = imagenet_iterator(data_dir,batch_size)\n",
    "\n"
   ]
  },
  {
   "cell_type": "code",
   "execution_count": null,
   "metadata": {
    "collapsed": false
   },
   "outputs": [],
   "source": [
    "from importlib import import_module\n",
    "net = import_module('symbols.resnet_factory')\n",
    "image_shape = '3,224,224'\n",
    "label_names = [train_imag.provide_label[0][0]]\n",
    "num_classes=1000"
   ]
  },
  {
   "cell_type": "code",
   "execution_count": null,
   "metadata": {
    "collapsed": false
   },
   "outputs": [],
   "source": [
    "#sym = net.get_gated_vmt_symbol(num_classes, 50, image_shape, conv_workspace=256)  \n",
    "ctx=[mx.gpu(0),mx.gpu(1),mx.gpu(2),mx.gpu(3),mx.gpu(4),mx.gpu(5),mx.gpu(6),mx.gpu(7),mx.gpu(8),mx.gpu(9),mx.gpu(10),mx.gpu(11),mx.gpu(12),mx.gpu(13),mx.gpu(14),mx.gpu(15)]\n",
    "#ctx=[mx.gpu(0)]\n",
    "#sym,data,labels=net.get_symbol_mbranch(num_classes=1000,active=1,num_branch=2,gate_prefix='imagenet',rescale_grad=1, num_layers=50,gated=True, image_shape=image_shape)\n",
    "# sym,data,labels=net.get_symbol(num_classes=1000,active=1,gate_prefix=None,rescale_grad=1, num_layers=50,gated=True, image_shape=image_shape)\n",
    "sym,data,labels=net.get_symbol_2branch(num_classes=1000,active=1,gate_prefix=None,rescale_grad=1, num_layers=50,gated=True, image_shape=image_shape)"
   ]
  },
  {
   "cell_type": "code",
   "execution_count": null,
   "metadata": {
    "collapsed": false
   },
   "outputs": [],
   "source": [
    "imagenet_weights= '/efs/datasets/users/furlat/results_imagenet/imagenet_r50-lr05'\n",
    "model_prefix= 'tryhard-resnet'\n",
    "prefix = imagenet_weights\n",
    "#prefix = model_prefix\n",
    "epoch=120\n",
    "save_dict = nd.load('%s-%04d.params' % (prefix, epoch))\n",
    "\n",
    "arg_params_imag = {}\n",
    "aux_params_imag = {}\n",
    "for k, v in save_dict.items():\n",
    "    tp, name = k.split(':', 1)\n",
    "    if tp == 'arg':\n",
    "        arg_params_imag[name] = v\n",
    "    if tp == 'aux':\n",
    "        aux_params_imag[name] = v\n",
    "# del arg_params_imag['fc1_bias']\n",
    "# del arg_params_imag['fc1_weight']\n",
    "symlist=sym.list_arguments()\n",
    "gatelist=[s for s in symlist if 'gate' in s]\n",
    "#print gatelist"
   ]
  },
  {
   "cell_type": "code",
   "execution_count": null,
   "metadata": {
    "collapsed": false
   },
   "outputs": [],
   "source": [
    "#fixed_param_names=arg_params_imag.keys()+gatelist,\n",
    "#arg_params_imag.keys()+gatelist\n",
    "mod = mx.mod.Module(sym, label_names=label_names,fixed_param_names=arg_params_imag.keys(),context=ctx)\n",
    "#\n",
    "checkpoint = mx.callback.module_checkpoint(mod,model_prefix)\n",
    "mod.bind(data_shapes=train_imag.provide_data, label_shapes=val_imag.provide_label)\n",
    "# mod.init_params()\n",
    "# print mod.get_params()[0]['bn0_beta'].asnumpy()\n",
    "#mod.set_params(arg_params_imag, aux_params_imag, allow_missing=True)\n",
    "mod.init_params(initializer=mx.initializer.Uniform(0.01), arg_params=arg_params_imag, aux_params=aux_params_imag,\n",
    "                    allow_missing=True, force_init=False)\n",
    "# print mod.get_params()[0]['bn0_beta'].asnumpy()"
   ]
  },
  {
   "cell_type": "code",
   "execution_count": null,
   "metadata": {
    "collapsed": false
   },
   "outputs": [],
   "source": [
    "arg_params_imag.keys()+gatelist\n",
    "mod.get_params()[0]['_a_stage1_unit1_conv3_gate'].asnumpy()"
   ]
  },
  {
   "cell_type": "code",
   "execution_count": null,
   "metadata": {
    "collapsed": false
   },
   "outputs": [],
   "source": [
    "# #ctx=[mx.gpu(0)]\n",
    "# mod = mx.mod.Module(sym, label_names=label_names, context=ctx)\n",
    "# mod.bind(data_shapes=train_imag.provide_data,label_shapes=val_imag.provide_label)\n",
    "# mod.init_params()\n",
    "# # # mod.init_params()\n",
    "# mod.get_params()[0]['stage1_unit1_bn2_beta'].asnumpy()\n",
    "# mod.get_params()[0]['stage1_unit1_conv3_imagenet_gate'].asnumpy()"
   ]
  },
  {
   "cell_type": "code",
   "execution_count": null,
   "metadata": {
    "collapsed": false
   },
   "outputs": [],
   "source": [
    "#mx.viz.plot_network(sym, shape={\"data\":(1,3, 224, 224)})"
   ]
  },
  {
   "cell_type": "code",
   "execution_count": null,
   "metadata": {
    "collapsed": false
   },
   "outputs": [],
   "source": [
    "model_prefix = '/home/ubuntu/results/resnet-factory-gated' \n",
    "#pre_trained_imagenet = '/efs/datasets/users/furlat/results_imagenet/imagenet_r50-lr05'\n",
    "checkpoint = mx.callback.module_checkpoint(mod,model_prefix)"
   ]
  },
  {
   "cell_type": "code",
   "execution_count": null,
   "metadata": {
    "collapsed": false
   },
   "outputs": [],
   "source": [
    "mod.fit(train_imag,\n",
    "        eval_data=val_imag,\n",
    "        eval_metric=[Cross_Entropy()],\n",
    "        #eval_metric=[mx.metric.Accuracy()],\n",
    "\n",
    "        batch_end_callback = [mx.callback.log_train_metric(1),mx.callback.Speedometer(batch_size,1)],\n",
    "        epoch_end_callback=checkpoint,\n",
    "        allow_missing=False,\n",
    "        begin_epoch=0,\n",
    "        log_prefix = model_prefix,\n",
    "        optimizer_params={'learning_rate':0.00005, 'momentum': 0.9,'wd':0.0001 },\n",
    "        num_epoch=25)"
   ]
  },
  {
   "cell_type": "code",
   "execution_count": null,
   "metadata": {
    "collapsed": false
   },
   "outputs": [],
   "source": [
    "mod.get_params()[0]['_a_stage3_unit1_conv4_gate'].asnumpy()"
   ]
  },
  {
   "cell_type": "code",
   "execution_count": null,
   "metadata": {
    "collapsed": false
   },
   "outputs": [],
   "source": [
    "mod.get_params()[0]['_a_stage1_unit1_conv1_weight'].asnumpy()\n",
    "#mod.get_params()[0]['2_stage1_unit1_conv1_weight'].asnumpy()"
   ]
  },
  {
   "cell_type": "code",
   "execution_count": null,
   "metadata": {
    "collapsed": true
   },
   "outputs": [],
   "source": []
  }
 ],
 "metadata": {
  "kernelspec": {
   "display_name": "Python 2",
   "language": "python",
   "name": "python2"
  },
  "language_info": {
   "codemirror_mode": {
    "name": "ipython",
    "version": 2
   },
   "file_extension": ".py",
   "mimetype": "text/x-python",
   "name": "python",
   "nbconvert_exporter": "python",
   "pygments_lexer": "ipython2",
   "version": "2.7.6"
  }
 },
 "nbformat": 4,
 "nbformat_minor": 1
}
