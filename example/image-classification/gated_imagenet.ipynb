{
 "cells": [
  {
   "cell_type": "code",
   "execution_count": 1,
   "metadata": {
    "collapsed": false
   },
   "outputs": [
    {
     "name": "stdout",
     "output_type": "stream",
     "text": [
      "(0, 256L, 56L, 56L)\n",
      "(0, 256L, 56L, 56L)\n",
      "(0, 256L, 56L, 56L)\n",
      "(0, 512L, 28L, 28L)\n",
      "(0, 512L, 28L, 28L)\n",
      "(0, 512L, 28L, 28L)\n",
      "(0, 512L, 28L, 28L)\n",
      "(0, 1024L, 14L, 14L)\n",
      "(0, 1024L, 14L, 14L)\n",
      "(0, 1024L, 14L, 14L)\n",
      "(0, 1024L, 14L, 14L)\n",
      "(0, 1024L, 14L, 14L)\n",
      "(0, 1024L, 14L, 14L)\n",
      "(0, 2048L, 7L, 7L)\n",
      "(0, 2048L, 7L, 7L)\n",
      "(0, 2048L, 7L, 7L)\n"
     ]
    },
    {
     "name": "stderr",
     "output_type": "stream",
     "text": [
      "WARNING:root:Already binded, ignoring bind()\n"
     ]
    }
   ],
   "source": [
    "import os\n",
    "import argparse\n",
    "import logging\n",
    "logging.basicConfig(level=logging.DEBUG)\n",
    "from common import find_mxnet, data, fit\n",
    "from common.util import download_file\n",
    "from ilab_iterator import ilab_iterator, Multi_ilab_iterator, Single_ilab_iterator, random_task_iterator\n",
    "import mxnet as mx\n",
    "import numpy as np\n",
    "import numpy \n",
    "\n",
    "class Cross_Entropy(mx.metric.EvalMetric):\n",
    "    \"\"\"Calculate accuracies of multi label\"\"\"\n",
    "\n",
    "    def __init__(self):\n",
    "        super(Cross_Entropy, self).__init__('cross-entropy')\n",
    "    def update(self, labels, preds):\n",
    "        mx.metric.check_label_shapes(labels, preds)\n",
    "        label = labels[0].asnumpy()\n",
    "        pred = preds[0].asnumpy()\n",
    "        for i in range(label.shape[0]):\n",
    "            prob = pred[i,numpy.int64(label[i])]\n",
    "            if len(labels) == 1:\n",
    "                self.sum_metric += (-numpy.log(prob)).sum()\n",
    "        self.num_inst += label.shape[0]\n",
    "        \n",
    "\n",
    "def imagenet_iterator(data_dir,batch_size):\n",
    "    train = mx.io.ImageRecordIter(\n",
    "            path_imgrec         = os.path.join(data_dir, \"imagenet_small_train.rec\"),\n",
    "            label_width         = 1,\n",
    "            data_name           = 'data',\n",
    "            label_name          = 'softmax1_label',\n",
    "            data_shape          = (3, 224, 224),\n",
    "            batch_size          = batch_size,\n",
    "            pad                 = 0,\n",
    "            fill_value          = 127,  # only used when pad is valid\n",
    "            rand_crop           = True,\n",
    "            max_random_scale    = 1.0,  # 480 with imagnet, 32 with cifar10\n",
    "            min_random_scale    = 0.533,  # 256.0/480.0\n",
    "            max_aspect_ratio    =  0.25,\n",
    "            random_h            = 36,  # 0.4*90\n",
    "            random_s            = 50,  # 0.4*127\n",
    "            random_l            = 50,  # 0.4*127\n",
    "            #max_rotate_angle    = 10,\n",
    "            #max_shear_ratio     = 0.1, #\n",
    "            rand_mirror         = True,\n",
    "            shuffle             = True)\n",
    "            #num_parts           = kv.num_workers,\n",
    "            #part_index          = kv.rank)\n",
    "    val = mx.io.ImageRecordIter(\n",
    "            path_imgrec         = os.path.join(data_dir, \"imagenet_small_val.rec\"),\n",
    "            label_width         = 1,\n",
    "            data_name           = 'data',\n",
    "            label_name          = 'softmax1_label',\n",
    "            batch_size          = batch_size,\n",
    "            max_random_scale    = 0.533,  # 480 with imagnet, 32 with cifar10\n",
    "            min_random_scale    = 0.533,  # 256.0/480.\n",
    "            data_shape          = (3, 224, 224),\n",
    "            rand_crop           = False,\n",
    "            rand_mirror         = False)\n",
    "            #num_parts           = kv.num_workers,\n",
    "            #part_index          = kv.rank)\n",
    "    return train, val\n",
    "\n",
    "batch_size = 640\n",
    "data_dir='/efs/datasets/users/furlat/imagenet'\n",
    "#imagenet\n",
    "train_imag, val_imag = imagenet_iterator(data_dir,batch_size)\n",
    "\n",
    "from importlib import import_module\n",
    "net = import_module('symbols.resnet_md')\n",
    "image_shape = '3,224,224'\n",
    "label_names = [train_imag.provide_label[0][0]]\n",
    "num_classes=[1000]\n",
    "sym = net.get_gated_vmt_symbol(num_classes, 50, image_shape, conv_workspace=256)  \n",
    "#sym = net.get_vmt_symbol(num_classes, 50, image_shape, conv_workspace=256)  \n",
    "sym=sym[0]\n",
    "#ctx=[mx.gpu(0),mx.gpu(1)]\n",
    "ctx=[mx.gpu(0),mx.gpu(1),mx.gpu(2),mx.gpu(3),mx.gpu(4),mx.gpu(5),mx.gpu(6),mx.gpu(7),mx.gpu(8),mx.gpu(9),mx.gpu(10),mx.gpu(11),mx.gpu(12),mx.gpu(13),mx.gpu(14),mx.gpu(15)]\n",
    "\n",
    "mod = mx.mod.Module(sym, label_names=label_names, context=ctx)\n",
    "mod.bind(data_shapes=train_imag.provide_data,label_shapes=val_imag.provide_label) \n",
    "mod.init_params()\n",
    "#newparams=mod.get_params()\n",
    "model_prefix = '/home/ubuntu/results/gated-imagenet_r50-imag70init' \n",
    "pre_trained_imagenet = '/efs/datasets/users/furlat/results_imagenet/imagenet_r50-lr05'\n",
    "checkpoint = mx.callback.module_checkpoint(mod,model_prefix)\n",
    "sym, arg_params, aux_params = mx.model.load_checkpoint(pre_trained_imagenet,70)\n",
    "mod.bind(data_shapes=train_imag.provide_data,label_shapes=val_imag.provide_label)\n",
    "#mod._params_dirty=False\n",
    "#mod.init_params(arg_params=arg_params,aux_params=aux_params)\n",
    "\n",
    "mod.set_params(arg_params, aux_params,allow_missing=True)\n",
    "#lr_schedule it isimilar to the CIFAR100 schedule but half length of the steps\n",
    "#schedule = [41000,71000,101000]\n",
    " #'lr_scheduler': mx.lr_scheduler.MultiFactorScheduler(step=schedule,factor=0.1)\n"
   ]
  },
  {
   "cell_type": "code",
   "execution_count": null,
   "metadata": {
    "collapsed": false
   },
   "outputs": [],
   "source": []
  },
  {
   "cell_type": "code",
   "execution_count": null,
   "metadata": {
    "collapsed": false
   },
   "outputs": [],
   "source": [
    "# arg_params['fc1_bias'].asnumpy()\n",
    "dictio=mod.get_params()\n",
    "dictio[0]['fc1_bias'].asnumpy()-arg_params['fc1_bias'].asnumpy()\n",
    "dictio[0]['stage1_unit3_conv3_gate_weight'].asnumpy()\n",
    "\n",
    "# for k, v in dictio[0].items():\n",
    "#     if k not in arg_params:\n",
    "#         print(\"Missing in arg_params: {0}\".format(k))\n",
    "#     else:\n",
    "#         diff = (arg_params[k].asnumpy() == v.asnumpy())\n",
    "#         print(diff.all())"
   ]
  },
  {
   "cell_type": "code",
   "execution_count": null,
   "metadata": {
    "collapsed": false,
    "scrolled": true
   },
   "outputs": [],
   "source": [
    "mod.fit(train_imag,\n",
    "        eval_data=val_imag,\n",
    "        eval_metric=[Cross_Entropy()],\n",
    "        #eval_metric=[mx.metric.Accuracy()],\n",
    "\n",
    "        batch_end_callback = [mx.callback.log_train_metric(1),mx.callback.Speedometer(batch_size,1)],\n",
    "        epoch_end_callback=checkpoint,\n",
    "        allow_missing=False,\n",
    "        begin_epoch=0,\n",
    "        log_prefix = model_prefix,\n",
    "        optimizer_params={'learning_rate':0.00001, 'momentum': 0.9,'wd':0.0001 },\n",
    "        num_epoch=25)"
   ]
  },
  {
   "cell_type": "code",
   "execution_count": null,
   "metadata": {
    "collapsed": false
   },
   "outputs": [],
   "source": [
    "# mod.fit(train_imag,\n",
    "#         eval_data=val_imag,\n",
    "#         eval_metric=[Cross_Entropy()],\n",
    "#         batch_end_callback = [mx.callback.log_train_metric(1),mx.callback.Speedometer(batch_size,1)],\n",
    "#         epoch_end_callback=checkpoint,\n",
    "#         allow_missing=False,\n",
    "#         begin_epoch=1,\n",
    "#         log_prefix = model_prefix,\n",
    "#         optimizer_params={'learning_rate':0.5, 'momentum': 0.9,'wd':0.0001 },\n",
    "#         num_epoch=25)"
   ]
  },
  {
   "cell_type": "code",
   "execution_count": null,
   "metadata": {
    "collapsed": false
   },
   "outputs": [],
   "source": [
    "# Bsize 64 gated+relu+broad_mul,Speed: 4.54 samples/sec\t\n",
    "# gated+broad_mul  Speed: 4.53 samples/sec"
   ]
  },
  {
   "cell_type": "code",
   "execution_count": null,
   "metadata": {
    "collapsed": false,
    "scrolled": true
   },
   "outputs": [],
   "source": [
    "# mod.get_params()\n",
    "# lel\n",
    "#print lel\n",
    "#lel[0]['stage4_unit3_conv3_gate_weight'].asnumpy()"
   ]
  },
  {
   "cell_type": "code",
   "execution_count": null,
   "metadata": {
    "collapsed": false
   },
   "outputs": [],
   "source": [
    "mx.sym.Convolution?"
   ]
  },
  {
   "cell_type": "code",
   "execution_count": null,
   "metadata": {
    "collapsed": false
   },
   "outputs": [],
   "source": [
    "# mod.fit(train_imag,\n",
    "#         eval_data=val_imag,\n",
    "#         eval_metric=[Cross_Entropy()],\n",
    "#         batch_end_callback = mx.callback.log_train_metric(1),\n",
    "#         epoch_end_callback=checkpoint,\n",
    "#         allow_missing=False,\n",
    "#         begin_epoch=1,\n",
    "#         log_prefix = model_prefix,\n",
    "#         optimizer_params={'learning_rate':0.5, 'momentum': 0.9,'wd':0.0001, 'lr_scheduler': mx.lr_scheduler.MultiFactorScheduler(step=schedule,factor=0.1) },\n",
    "#         num_epoch=200)"
   ]
  },
  {
   "cell_type": "code",
   "execution_count": null,
   "metadata": {
    "collapsed": false
   },
   "outputs": [],
   "source": [
    "# for i in range(100,101):\n",
    "    \n",
    "#     sym, arg_params, aux_params = \\\n",
    "#             mx.model.load_checkpoint(model_prefix, i+1)\n",
    "#     #mod.bind(data_shapes=train_imag.provide_data,\n",
    "#              #label_shapes=val_imag.provide_label)    \n",
    "#     mod.set_params(arg_params, aux_params)\n",
    "#     res_train= mod.score(train_imag, mx.metric.Accuracy(),num_batch=5)\n",
    "#     res_val= mod.score(val_imag, mx.metric.Accuracy(),num_batch=5)\n",
    "#     epoch = i\n",
    "#     for name, val in res_train:\n",
    "#         print 'Epoch[%d] Training-%s=%f' %(epoch, name, val)\n",
    "#     for name, val in res_val:\n",
    "#         print 'Epoch[%d] Validation-%s=%f' %(epoch, name, val)"
   ]
  }
 ],
 "metadata": {
  "kernelspec": {
   "display_name": "Python 2",
   "language": "python",
   "name": "python2"
  },
  "language_info": {
   "codemirror_mode": {
    "name": "ipython",
    "version": 2
   },
   "file_extension": ".py",
   "mimetype": "text/x-python",
   "name": "python",
   "nbconvert_exporter": "python",
   "pygments_lexer": "ipython2",
   "version": "2.7.6"
  }
 },
 "nbformat": 4,
 "nbformat_minor": 1
}
