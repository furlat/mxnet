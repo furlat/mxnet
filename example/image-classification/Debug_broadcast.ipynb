{
 "cells": [
  {
   "cell_type": "code",
   "execution_count": null,
   "metadata": {
    "collapsed": true
   },
   "outputs": [],
   "source": [
    "import mxnet as mx\n",
    "import numpy as np\n",
    "from time import time"
   ]
  },
  {
   "cell_type": "code",
   "execution_count": null,
   "metadata": {
    "collapsed": false
   },
   "outputs": [],
   "source": [
    "\n",
    "gate = mx.sym.Variable('gate', \n",
    "                       init=mx.initializer.One(),\n",
    "                       shape=(1,),\n",
    "                       dtype='float32'\n",
    "                       )\n",
    "matr1 = mx.sym.Variable('matr1', dtype='float32')\n",
    "matr2 = mx.sym.Variable('matr2', init=mx.initializer.One(),shape=(256,300,50,50),dtype='float32')\n",
    "#matr2 = mx.sym.Variable('matr2', init=mx.initializer.One(),shape=(256*50,300*50),dtype='float32')\n",
    "#matr2 = mx.sym.Variable('matr2', init=mx.initializer.One(),shape=(1280*50*300*50),dtype='float32')\n",
    "\n",
    "res_1 = mx.sym.broadcast_mul(gate,matr1)\n",
    "res_2 = matr1*matr2\n",
    "#rgate=mx.sym.Activation(data=gate, act_type='relu', name=name+'_relu_gate')\n",
    "data = {\"matr1\": mx.nd.array(2*np.ones((256,300,50,50)),dtype='float32')}\n",
    "#data = {\"matr1\": mx.nd.array(2*np.ones((256*50, 300*50)),dtype='float32')}\n",
    "#data = {\"matr1\": mx.nd.array(2*np.ones((1280*50*300*50)),dtype='float32')}\n",
    "\n",
    "def execute(symbol, data, ctx=[mx.gpu(6)]):\n",
    "    mod = mx.mod.Module(symbol, \n",
    "                        data_names=list(data.keys()),\n",
    "                        label_names=None,\n",
    "                        context=ctx)\n",
    "    mod.bind(data_shapes=[(name, d.shape) for name, d in data.items()])\n",
    "    mod.init_params()\n",
    "    mod.forward(mx.io.DataBatch(list(data.values()), []))\n",
    "    return mod\n"
   ]
  },
  {
   "cell_type": "code",
   "execution_count": null,
   "metadata": {
    "collapsed": false
   },
   "outputs": [],
   "source": [
    "\n"
   ]
  },
  {
   "cell_type": "code",
   "execution_count": null,
   "metadata": {
    "collapsed": false
   },
   "outputs": [],
   "source": [
    "start = time()\n",
    "mod = execute(res_2, data,ctx=[mx.gpu(7)])\n",
    "print time() - start\n",
    "start = time()\n",
    "mod2 = execute(res_1, data,ctx=[mx.gpu(7)])\n",
    "print time() - start"
   ]
  },
  {
   "cell_type": "code",
   "execution_count": null,
   "metadata": {
    "collapsed": true
   },
   "outputs": [],
   "source": []
  },
  {
   "cell_type": "code",
   "execution_count": null,
   "metadata": {
    "collapsed": false
   },
   "outputs": [],
   "source": []
  },
  {
   "cell_type": "code",
   "execution_count": null,
   "metadata": {
    "collapsed": false
   },
   "outputs": [],
   "source": []
  },
  {
   "cell_type": "code",
   "execution_count": null,
   "metadata": {
    "collapsed": false
   },
   "outputs": [],
   "source": [
    "# mod.get_outputs()[0].asnumpy(), mod.get_params()"
   ]
  },
  {
   "cell_type": "code",
   "execution_count": null,
   "metadata": {
    "collapsed": false
   },
   "outputs": [],
   "source": [
    "# mod = mx.mod.Module(res_1, label_names=None,data_names=['matr1', 'matr2'], context=mx.gpu(0))\n",
    "# mod.bind(data_shapes=[('matr1', (1000, 1000))])\n",
    "# mod.init_params()"
   ]
  },
  {
   "cell_type": "code",
   "execution_count": null,
   "metadata": {
    "collapsed": false
   },
   "outputs": [],
   "source": [
    "# dbatch = mx.io.DataBatch([], None)"
   ]
  },
  {
   "cell_type": "code",
   "execution_count": null,
   "metadata": {
    "collapsed": true
   },
   "outputs": [],
   "source": [
    "# mod.forward(dbatch)"
   ]
  },
  {
   "cell_type": "code",
   "execution_count": null,
   "metadata": {
    "collapsed": false
   },
   "outputs": [],
   "source": [
    "# mod.get_outputs()[0].asnumpy()"
   ]
  },
  {
   "cell_type": "code",
   "execution_count": null,
   "metadata": {
    "collapsed": false
   },
   "outputs": [],
   "source": [
    "# mod.get_params()"
   ]
  },
  {
   "cell_type": "code",
   "execution_count": null,
   "metadata": {
    "collapsed": true
   },
   "outputs": [],
   "source": []
  }
 ],
 "metadata": {
  "kernelspec": {
   "display_name": "Python 2",
   "language": "python",
   "name": "python2"
  },
  "language_info": {
   "codemirror_mode": {
    "name": "ipython",
    "version": 2
   },
   "file_extension": ".py",
   "mimetype": "text/x-python",
   "name": "python",
   "nbconvert_exporter": "python",
   "pygments_lexer": "ipython2",
   "version": "2.7.6"
  }
 },
 "nbformat": 4,
 "nbformat_minor": 1
}
