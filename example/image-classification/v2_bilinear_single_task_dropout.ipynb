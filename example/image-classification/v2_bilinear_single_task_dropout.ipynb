{
 "cells": [
  {
   "cell_type": "code",
   "execution_count": 1,
   "metadata": {
    "collapsed": true
   },
   "outputs": [],
   "source": [
    "import os\n",
    "import argparse\n",
    "import logging\n",
    "logging.basicConfig(level=logging.DEBUG)\n",
    "from common import find_mxnet, data, fit\n",
    "from common.util import download_file\n",
    "from tf_iterators import *\n",
    "import mxnet as mx\n",
    "import numpy as np\n",
    "import numpy \n",
    "from mxnet import nd\n",
    "#from mxnet.module.module_tf import *"
   ]
  },
  {
   "cell_type": "code",
   "execution_count": 2,
   "metadata": {},
   "outputs": [],
   "source": [
    "# in1=mx.sym.Variable(name='in', shape=(16,2048,14,14))\n",
    "# #in2=mx.sym.Variable(name='in2', shape=(16,2048,14,14))\n",
    "# in1=mx.sym.reshape(in1,shape=(-1,0,1))\n",
    "# #in2=mx.sym.reshape(in2,shape=(-1,0,1))\n",
    "# out=mx.sym.batch_dot(in1,in2,transpose_a=False,transpose_b=True)\n",
    "# out=mx.sym.reshape(out,shape=(0,-1))\n",
    "# out=mx.sym.reshape(out,shape=(-1,0,14,14))\n",
    "\n",
    "# out.infer_shape()"
   ]
  },
  {
   "cell_type": "code",
   "execution_count": 3,
   "metadata": {
    "collapsed": true
   },
   "outputs": [],
   "source": [
    "def birds_iterator(data_dir,batch_size):\n",
    "    train = mx.io.ImageRecordIter(\n",
    "            path_imgrec         = os.path.join(data_dir, \"birds_train.rec\"),\n",
    "            label_width         = 1,\n",
    "            data_name           = 'data',\n",
    "            label_name          = 'softmax1_label',\n",
    "            data_shape          = (3, 444, 444),\n",
    "            batch_size          = batch_size,\n",
    "            pad                 = 0,\n",
    "            fill_value          = 127,  # only used when pad is valid\n",
    "            rand_crop           = True,\n",
    "            max_random_scale    = 1.0,  # 480 with imagnet, 32 with cifar10 448 with birds 0.93\n",
    "            min_random_scale    = 0.93,  # 256.0/480.0\n",
    "            #max_aspect_ratio    =  0.25,\n",
    "            #random_h            = 36,  # 0.4*90\n",
    "            #random_s            = 50,  # 0.4*127\n",
    "            #random_l            = 50,  # 0.4*127\n",
    "            #max_rotate_angle    = 10,\n",
    "            #max_shear_ratio     = 0.1, #\n",
    "            rand_mirror         = True,\n",
    "            shuffle             = True)\n",
    "            #num_parts           = kv.num_workers,\n",
    "            #part_index          = kv.rank)\n",
    "    val = mx.io.ImageRecordIter(\n",
    "            path_imgrec         = os.path.join(data_dir, \"birds_test.rec\"),\n",
    "            label_width         = 1,\n",
    "            data_name           = 'data',\n",
    "            label_name          = 'softmax1_label',\n",
    "            batch_size          = batch_size,\n",
    "            max_random_scale    = 1,  # 480 with imagnet, 32 with cifar10\n",
    "            min_random_scale    = 1,  # 256.0/480.\n",
    "            data_shape          = (3, 444, 444),\n",
    "            rand_crop           = False,\n",
    "            rand_mirror         = False)\n",
    "            #num_parts           = kv.num_workers,\n",
    "            #part_index          = kv.rank)\n",
    "    return train, val"
   ]
  },
  {
   "cell_type": "code",
   "execution_count": 4,
   "metadata": {
    "collapsed": true
   },
   "outputs": [],
   "source": [
    "class Cross_Entropy(mx.metric.EvalMetric):\n",
    "    \"\"\"Calculate accuracies of multi label\"\"\"\n",
    "\n",
    "    def __init__(self):\n",
    "        super(Cross_Entropy, self).__init__('cross-entropy')\n",
    "    def update(self, labels, preds):\n",
    "        mx.metric.check_label_shapes(labels, preds)\n",
    "        label = labels[0].asnumpy()\n",
    "        pred = preds[0].asnumpy()\n",
    "        for i in range(label.shape[0]):\n",
    "            prob = pred[i,numpy.int64(label[i])]\n",
    "            if len(labels) == 1:\n",
    "                self.sum_metric += (-numpy.log(prob)).sum()\n",
    "        self.num_inst += label.shape[0]"
   ]
  },
  {
   "cell_type": "code",
   "execution_count": 5,
   "metadata": {
    "collapsed": true
   },
   "outputs": [],
   "source": [
    "image_shape = '3,444,444'\n",
    "batch_size = 32\n",
    "results_prefix='/home/ubuntu/results/'\n",
    "\n",
    "#results_prefix='/efs/users/furlat/v1_results/'http://127.0.0.1:8888/notebooks/example/image-classification/v2_single_task_template.ipynb#"
   ]
  },
  {
   "cell_type": "code",
   "execution_count": 6,
   "metadata": {
    "collapsed": true
   },
   "outputs": [],
   "source": [
    "dataset='birds'\n",
    "nstream=1\n",
    "init_1='imagenet'\n",
    "init_2='imagenet'\n",
    "freeze=0\n",
    "bilinear=True\n",
    "dropout=0.2\n",
    "num_layers=101\n",
    "\n"
   ]
  },
  {
   "cell_type": "code",
   "execution_count": 7,
   "metadata": {},
   "outputs": [
    {
     "name": "stdout",
     "output_type": "stream",
     "text": [
      "mona\n"
     ]
    }
   ],
   "source": [
    "if dataset == 'birds':\n",
    "    data_dir_birds='/home/ubuntu/data/birds'\n",
    "    train_birds, val_birds = birds_iterator(data_dir_birds,batch_size)\n",
    "    num_classes=201\n",
    "    print \"mona\"\n",
    "    "
   ]
  },
  {
   "cell_type": "code",
   "execution_count": 8,
   "metadata": {},
   "outputs": [
    {
     "name": "stdout",
     "output_type": "stream",
     "text": [
      "plain resnet\n",
      "mio shape [(1L, 2048L, 14L, 14L)]\n",
      "ho dropout 0.20\n",
      "mio shape [(1L, 122500L, 1L, 1L)]\n"
     ]
    }
   ],
   "source": [
    "\n",
    "\n",
    "    \n",
    "#elif dataset =='sketchy':\n",
    "#    data_dir_sketchy='/efs/datasets/users/furlat/sketchy_database'\n",
    "#    train_sketches, val_sketches = sketchy_iterator(data_dir_sketchy,batch_size)\n",
    "#    num_classes=125\n",
    "label_names = [train_birds.provide_label[0][0]]\n",
    "    \n",
    "from importlib import import_module\n",
    "net = import_module('symbols.resnet_factory')\n",
    "\n",
    "if nstream == 1:\n",
    "    print 'plain resnet'\n",
    "\n",
    "    ctx=[mx.gpu(4),mx.gpu(5),mx.gpu(6),mx.gpu(7)]    \n",
    "    #ctx=[mx.gpu(0+(3*gpu_block)),mx.gpu(1+(3*gpu_block)),mx.gpu(2+(3*gpu_block))]\n",
    "    #print 'gpu bloc%2d : using gpu %2d to %2d' %(gpu_block,0+(3*gpu_block),2+(3*gpu_block))\n",
    "\n",
    "    arch='resnet'\n",
    "    if bilinear:\n",
    "        arch+='_bilinear'\n",
    "    sym,data,labels=net.get_symbol(num_classes=num_classes,active=[1],dropout=dropout,bilinear=bilinear, gate_prefix=None,rescale_grad=1, num_layers=num_layers,gated=False, image_shape=image_shape)\n",
    "elif nstream==2:\n",
    "    print 'multi branch resnet - Good luck daddy ;)'\n",
    "    #with batch size 256  5*9686M +1*10550 ~6 full k80 Speed: 52.49 samples/sec\n",
    "    #if gpu_block == 1:\n",
    "        #print 'gpu block1: using gpu 0 to 6'\n",
    "        \n",
    "        #ctx=[mx.gpu(0),mx.gpu(1),mx.gpu(2),mx.gpu(3),mx.gpu(4),mx.gpu(5),mx.gpu(6)]\n",
    "#     elif gpu_block == 2:\n",
    "#         print 'gpu block2: using gpu 6 to 11'\n",
    "#         ctx=[mx.gpu(7),mx.gpu(8),mx.gpu(9),mx.gpu(10),mx.gpu(11),mx.gpu(12),mx.gpu(13)]\n",
    "#     elif gpu_block > 3:\n",
    "#         print 'gpu bloc3 is too small for this taks enjoy the error soon'\n",
    "    ctx=[mx.gpu(0)]     \n",
    "    arch='mpath'\n",
    "    sym,data,labels=net.get_symbol_2branch(num_classes=250,active=1, gate_prefix=None,rescale_grad=1, num_layers=50,gated=True, image_shape=image_shape,coupled=True)\n",
    "    "
   ]
  },
  {
   "cell_type": "code",
   "execution_count": 9,
   "metadata": {
    "collapsed": true
   },
   "outputs": [],
   "source": [
    "#mx.contrib.sym.count_sketch?\n",
    "#mx.contrib.sym.fft?"
   ]
  },
  {
   "cell_type": "code",
   "execution_count": 10,
   "metadata": {
    "collapsed": true
   },
   "outputs": [],
   "source": [
    "#S1 = mx.sym.Variable(name='mona',shape=(16,2048,14,14))\n",
    "#swapped=mx.sym.swapaxes\n",
    "#mx.sym.SwapAxis(data=S1,dim1=1,dim2=3)"
   ]
  },
  {
   "cell_type": "code",
   "execution_count": 11,
   "metadata": {
    "collapsed": true
   },
   "outputs": [],
   "source": [
    "#mx.viz.plot_network(symbol=sym)\n",
    "tornado_weights='/home/ubuntu/models/resnet-50'\n",
    "imagenet_weights= '/home/ubuntu/models/imagenet_r50-lr05'\n",
    "#model_prefix= 'tryhard-resnet'\n",
    "prefix = imagenet_weights\n",
    "prefix = tornado_weights\n",
    "\n",
    "#prefix = model_prefix\n",
    "epoch=0\n",
    "save_dict = nd.load('%s-%04d.params' % (prefix, epoch))\n",
    "arg_params_imag = {}\n",
    "aux_params_imag = {}\n",
    "ext_check=['sc','fc1','data']\n",
    "imagenet_par=[]\n",
    "exact_check=['bn1_beta','bn1_gamma']\n",
    "for k, v in save_dict.items():\n",
    "    tp, name = k.split(':', 1)\n",
    "\n",
    "    if tp == 'arg':\n",
    "        arg_params_imag[name] = v\n",
    "        \n",
    "        \n",
    "        #print name\n",
    "        if not any(ext in name for ext in ext_check):\n",
    "            if not any(ext == name for ext in exact_check):\n",
    "                imagenet_par.append(name)\n",
    "                if init_2=='imagenet':\n",
    "                    arg_params_imag['_a_'+name] = v\n",
    "\n",
    "\n",
    "    if tp == 'aux':\n",
    "        aux_params_imag[name] = v\n",
    "        if init_2=='imagenet':\n",
    "            aux_params_imag['_a_'+name] = v\n",
    "del arg_params_imag['fc1_bias']\n",
    "del arg_params_imag['fc1_weight']\n",
    "\n",
    "\n",
    "\n",
    "#arg_params_imag.list_arguments\n",
    "\n",
    "\n",
    "#_a_bn_data_beta\n",
    "\n",
    "symlist=sym.list_arguments()\n",
    "gatelist=[s for s in symlist if 'gate' in s]"
   ]
  },
  {
   "cell_type": "code",
   "execution_count": 12,
   "metadata": {
    "collapsed": true
   },
   "outputs": [],
   "source": [
    "#imagenet_par"
   ]
  },
  {
   "cell_type": "code",
   "execution_count": 13,
   "metadata": {},
   "outputs": [
    {
     "name": "stdout",
     "output_type": "stream",
     "text": [
      "initizalizing left stream from imagenet\n",
      "initizalizing right stream from imagenet\n",
      "resnet_bilinear-101-fix0-imagenet-birds\n"
     ]
    }
   ],
   "source": [
    "\n",
    "\n",
    "if init_1=='imagenet':\n",
    "    arg_params=arg_params_imag\n",
    "    aux_params=aux_params_imag\n",
    "    print 'initizalizing left stream from imagenet'\n",
    "    if init_2=='imagenet':\n",
    "        print 'initizalizing right stream from imagenet'\n",
    "else:\n",
    "    arg_params=None\n",
    "    aux_params=None\n",
    "    print 'initizalizing left stream from random'\n",
    "    \n",
    "    \n",
    "if nstream == 2:\n",
    "    model_prefix = arch+'-'+str(num_layers)+'-fix'+str(freeze)+'-'+init_1+'-'+init_2+'-'+dataset\n",
    "    if init_2=='rand':\n",
    "        print 'initizalizing right stream from random'\n",
    "    print model_prefix\n",
    "    if freeze==1:\n",
    "        \n",
    "        fixed=imagenet_par\n",
    "    else:\n",
    "        fixed=None\n",
    "else:\n",
    "    #only the parameters from the original 1stream imagenet network\n",
    "    model_prefix =  arch+'-'+str(num_layers)+'-fix'+str(freeze)+'-'+init_1+'-'+dataset\n",
    "    print model_prefix\n",
    "    if freeze==1:\n",
    "        \n",
    "        fixed=imagenet_par\n",
    "    else:\n",
    "        fixed=None\n",
    "\n",
    "mod = mx.mod.Module(sym, label_names=label_names,fixed_param_names=fixed,context=ctx)\n",
    "#\n",
    "checkpoint_path=results_prefix+model_prefix\n",
    "#checkpoint = mx.callback.module_checkpoint(mod,model_prefix)\n",
    "mod.bind(data_shapes=train_birds.provide_data, label_shapes=train_birds.provide_label)\n",
    "mod.init_params(initializer=mx.initializer.Uniform(0.01), arg_params=arg_params, aux_params=aux_params,\n",
    "                    allow_missing=True, force_init=False)\n",
    "\n",
    "checkpoint = mx.callback.module_checkpoint(mod,checkpoint_path,period=5)\n",
    "\n",
    "# for gate in gatelist:\n",
    "#     print mod.get_params()[0][gate].asnumpy(), gate\n",
    "\n",
    "# In[7]:\n",
    "\n",
    "\n"
   ]
  },
  {
   "cell_type": "code",
   "execution_count": 14,
   "metadata": {
    "collapsed": true
   },
   "outputs": [],
   "source": [
    "begin_epoch=0\n",
    "if begin_epoch>0:\n",
    "    sym, arg_params, aux_params =mx.model.load_checkpoint(checkpoint_path, begin_epoch)\n",
    "\n",
    "    mod.set_params(arg_params, aux_params)\n",
    "    \n",
    "logistic_init=False    \n",
    "if logistic_init:\n",
    "    logistic_path='/home/ubuntu/results/resnet-fix1-imagenet-birds'\n",
    "    _, arg_params, aux_params =mx.model.load_checkpoint(logistic_path, 120)\n",
    "\n",
    "    mod.set_params(arg_params, aux_params)    "
   ]
  },
  {
   "cell_type": "code",
   "execution_count": 15,
   "metadata": {
    "scrolled": false
   },
   "outputs": [
    {
     "name": "stderr",
     "output_type": "stream",
     "text": [
      "WARNING:root:Already binded, ignoring bind()\n",
      "/home/ubuntu/mxnet/python/mxnet/module/base_module_tf.py:448: UserWarning: Parameters already initialized and force_init=False. init_params call ignored.\n",
      "  allow_missing=allow_missing, force_init=force_init)\n",
      "INFO:root:Iter[0] Batch[0] Train-cross-entropy=5.623730\n",
      "INFO:root:Iter[0] Batch[15] Train-cross-entropy=5.645674\n",
      "INFO:root:Iter[0] Batch[30] Train-cross-entropy=5.626139\n",
      "INFO:root:Iter[0] Batch[45] Train-cross-entropy=5.599417\n",
      "INFO:root:Epoch[0] Batch [45]\tSpeed: 19.51 samples/sec\tTrain-cross-entropy=5.599417\n",
      "INFO:root:Iter[0] Batch[60] Train-cross-entropy=5.563704\n",
      "INFO:root:Iter[0] Batch[75] Train-cross-entropy=5.530081\n",
      "INFO:root:Iter[0] Batch[90] Train-cross-entropy=5.531722\n",
      "INFO:root:Epoch[0] Batch [90]\tSpeed: 19.12 samples/sec\tTrain-cross-entropy=5.531722\n",
      "INFO:root:Epoch[0] Train-cross-entropy=5.403086\n",
      "INFO:root:Epoch[0] Time cost=157.313\n",
      "/usr/local/lib/python2.7/dist-packages/ipykernel_launcher.py:13: RuntimeWarning: divide by zero encountered in log\n",
      "  del sys.path[0]\n",
      "INFO:root:Epoch[0] Validation-cross-entropy=inf\n"
     ]
    },
    {
     "name": "stdout",
     "output_type": "stream",
     "text": [
      "saving logfiles0  at resnet_bilinear-101-fix0-imagenet-birds-metric-log-0.txt\n"
     ]
    },
    {
     "name": "stderr",
     "output_type": "stream",
     "text": [
      "INFO:root:Iter[1] Batch[0] Train-cross-entropy=5.457166\n",
      "INFO:root:Iter[1] Batch[15] Train-cross-entropy=5.475098\n",
      "INFO:root:Iter[1] Batch[30] Train-cross-entropy=5.426174\n",
      "INFO:root:Iter[1] Batch[45] Train-cross-entropy=5.403975\n",
      "INFO:root:Epoch[1] Batch [45]\tSpeed: 19.15 samples/sec\tTrain-cross-entropy=5.403975\n"
     ]
    },
    {
     "ename": "KeyboardInterrupt",
     "evalue": "",
     "output_type": "error",
     "traceback": [
      "\u001b[0;31m---------------------------------------------------------------------------\u001b[0m",
      "\u001b[0;31mKeyboardInterrupt\u001b[0m                         Traceback (most recent call last)",
      "\u001b[0;32m<ipython-input-15-3d7c38bd643c>\u001b[0m in \u001b[0;36m<module>\u001b[0;34m()\u001b[0m\n\u001b[1;32m      9\u001b[0m          \u001b[0mlog_prefix\u001b[0m \u001b[0;34m=\u001b[0m \u001b[0mmodel_prefix\u001b[0m\u001b[0;34m,\u001b[0m\u001b[0;34m\u001b[0m\u001b[0m\n\u001b[1;32m     10\u001b[0m          \u001b[0moptimizer_params\u001b[0m\u001b[0;34m=\u001b[0m\u001b[0;34m{\u001b[0m\u001b[0;34m'learning_rate'\u001b[0m\u001b[0;34m:\u001b[0m\u001b[0;36m0.001\u001b[0m\u001b[0;34m,\u001b[0m \u001b[0;34m'momentum'\u001b[0m\u001b[0;34m:\u001b[0m \u001b[0;36m0.1\u001b[0m\u001b[0;34m,\u001b[0m\u001b[0;34m'wd'\u001b[0m\u001b[0;34m:\u001b[0m\u001b[0;36m0.0004\u001b[0m \u001b[0;34m}\u001b[0m\u001b[0;34m,\u001b[0m\u001b[0;34m\u001b[0m\u001b[0m\n\u001b[0;32m---> 11\u001b[0;31m          num_epoch=120)\n\u001b[0m",
      "\u001b[0;32m/home/ubuntu/mxnet/python/mxnet/module/base_module_tf.pyc\u001b[0m in \u001b[0;36mfit\u001b[0;34m(self, train_data, eval_data, eval_metric, epoch_end_callback, batch_end_callback, kvstore, optimizer, optimizer_params, eval_end_callback, eval_batch_end_callback, initializer, arg_params, aux_params, allow_missing, force_rebind, force_init, begin_epoch, num_epoch, validation_metric, monitor, log_prefix, multi_data)\u001b[0m\n\u001b[1;32m    475\u001b[0m                 \u001b[0mself\u001b[0m\u001b[0;34m.\u001b[0m\u001b[0mforward_backward\u001b[0m\u001b[0;34m(\u001b[0m\u001b[0mdata_batch\u001b[0m\u001b[0;34m)\u001b[0m\u001b[0;34m\u001b[0m\u001b[0m\n\u001b[1;32m    476\u001b[0m                 \u001b[0mself\u001b[0m\u001b[0;34m.\u001b[0m\u001b[0mupdate\u001b[0m\u001b[0;34m(\u001b[0m\u001b[0;34m)\u001b[0m\u001b[0;34m\u001b[0m\u001b[0m\n\u001b[0;32m--> 477\u001b[0;31m                 \u001b[0mself\u001b[0m\u001b[0;34m.\u001b[0m\u001b[0mupdate_metric\u001b[0m\u001b[0;34m(\u001b[0m\u001b[0meval_metric\u001b[0m\u001b[0;34m[\u001b[0m\u001b[0mbkey\u001b[0m\u001b[0;34m]\u001b[0m\u001b[0;34m,\u001b[0m \u001b[0mdata_batch\u001b[0m\u001b[0;34m.\u001b[0m\u001b[0mlabel\u001b[0m\u001b[0;34m)\u001b[0m\u001b[0;34m\u001b[0m\u001b[0m\n\u001b[0m\u001b[1;32m    478\u001b[0m                 \u001b[0;32mif\u001b[0m \u001b[0mnbatch\u001b[0m \u001b[0;34m%\u001b[0m \u001b[0;36m50\u001b[0m \u001b[0;34m==\u001b[0m \u001b[0;36m0\u001b[0m\u001b[0;34m:\u001b[0m\u001b[0;34m\u001b[0m\u001b[0m\n\u001b[1;32m    479\u001b[0m                     \u001b[0mlog_glob_batchid\u001b[0m\u001b[0;34m.\u001b[0m\u001b[0mappend\u001b[0m\u001b[0;34m(\u001b[0m\u001b[0mglobal_batch_id\u001b[0m\u001b[0;34m)\u001b[0m\u001b[0;34m\u001b[0m\u001b[0m\n",
      "\u001b[0;32m/home/ubuntu/mxnet/python/mxnet/module/module_tf.pyc\u001b[0m in \u001b[0;36mupdate_metric\u001b[0;34m(self, eval_metric, labels)\u001b[0m\n\u001b[1;32m    686\u001b[0m             \u001b[0mTypically\u001b[0m \u001b[0;34m`\u001b[0m\u001b[0mdata_batch\u001b[0m\u001b[0;34m.\u001b[0m\u001b[0mlabel\u001b[0m\u001b[0;34m`\u001b[0m\u001b[0;34m.\u001b[0m\u001b[0;34m\u001b[0m\u001b[0m\n\u001b[1;32m    687\u001b[0m         \"\"\"\n\u001b[0;32m--> 688\u001b[0;31m         \u001b[0mself\u001b[0m\u001b[0;34m.\u001b[0m\u001b[0m_exec_group\u001b[0m\u001b[0;34m.\u001b[0m\u001b[0mupdate_metric\u001b[0m\u001b[0;34m(\u001b[0m\u001b[0meval_metric\u001b[0m\u001b[0;34m,\u001b[0m \u001b[0mlabels\u001b[0m\u001b[0;34m)\u001b[0m\u001b[0;34m\u001b[0m\u001b[0m\n\u001b[0m\u001b[1;32m    689\u001b[0m \u001b[0;34m\u001b[0m\u001b[0m\n\u001b[1;32m    690\u001b[0m     \u001b[0;32mdef\u001b[0m \u001b[0m_sync_params_from_devices\u001b[0m\u001b[0;34m(\u001b[0m\u001b[0mself\u001b[0m\u001b[0;34m)\u001b[0m\u001b[0;34m:\u001b[0m\u001b[0;34m\u001b[0m\u001b[0m\n",
      "\u001b[0;32m/home/ubuntu/mxnet/python/mxnet/module/executor_group_tf.pyc\u001b[0m in \u001b[0;36mupdate_metric\u001b[0;34m(self, eval_metric, labels)\u001b[0m\n\u001b[1;32m    526\u001b[0m                     \u001b[0mlabels_slice\u001b[0m\u001b[0;34m.\u001b[0m\u001b[0mappend\u001b[0m\u001b[0;34m(\u001b[0m\u001b[0mlabel\u001b[0m\u001b[0;34m)\u001b[0m\u001b[0;34m\u001b[0m\u001b[0m\n\u001b[1;32m    527\u001b[0m \u001b[0;34m\u001b[0m\u001b[0m\n\u001b[0;32m--> 528\u001b[0;31m             \u001b[0meval_metric\u001b[0m\u001b[0;34m.\u001b[0m\u001b[0mupdate\u001b[0m\u001b[0;34m(\u001b[0m\u001b[0mlabels_slice\u001b[0m\u001b[0;34m,\u001b[0m \u001b[0mtexec\u001b[0m\u001b[0;34m.\u001b[0m\u001b[0moutputs\u001b[0m\u001b[0;34m)\u001b[0m\u001b[0;34m\u001b[0m\u001b[0m\n\u001b[0m\u001b[1;32m    529\u001b[0m \u001b[0;34m\u001b[0m\u001b[0m\n\u001b[1;32m    530\u001b[0m     \u001b[0;32mdef\u001b[0m \u001b[0m_bind_ith_exec\u001b[0m\u001b[0;34m(\u001b[0m\u001b[0mself\u001b[0m\u001b[0;34m,\u001b[0m \u001b[0mi\u001b[0m\u001b[0;34m,\u001b[0m \u001b[0mdata_shapes\u001b[0m\u001b[0;34m,\u001b[0m \u001b[0mlabel_shapes\u001b[0m\u001b[0;34m,\u001b[0m \u001b[0mshared_group\u001b[0m\u001b[0;34m)\u001b[0m\u001b[0;34m:\u001b[0m\u001b[0;34m\u001b[0m\u001b[0m\n",
      "\u001b[0;32m<ipython-input-4-9783e9ec8659>\u001b[0m in \u001b[0;36mupdate\u001b[0;34m(self, labels, preds)\u001b[0m\n\u001b[1;32m      7\u001b[0m         \u001b[0mmx\u001b[0m\u001b[0;34m.\u001b[0m\u001b[0mmetric\u001b[0m\u001b[0;34m.\u001b[0m\u001b[0mcheck_label_shapes\u001b[0m\u001b[0;34m(\u001b[0m\u001b[0mlabels\u001b[0m\u001b[0;34m,\u001b[0m \u001b[0mpreds\u001b[0m\u001b[0;34m)\u001b[0m\u001b[0;34m\u001b[0m\u001b[0m\n\u001b[1;32m      8\u001b[0m         \u001b[0mlabel\u001b[0m \u001b[0;34m=\u001b[0m \u001b[0mlabels\u001b[0m\u001b[0;34m[\u001b[0m\u001b[0;36m0\u001b[0m\u001b[0;34m]\u001b[0m\u001b[0;34m.\u001b[0m\u001b[0masnumpy\u001b[0m\u001b[0;34m(\u001b[0m\u001b[0;34m)\u001b[0m\u001b[0;34m\u001b[0m\u001b[0m\n\u001b[0;32m----> 9\u001b[0;31m         \u001b[0mpred\u001b[0m \u001b[0;34m=\u001b[0m \u001b[0mpreds\u001b[0m\u001b[0;34m[\u001b[0m\u001b[0;36m0\u001b[0m\u001b[0;34m]\u001b[0m\u001b[0;34m.\u001b[0m\u001b[0masnumpy\u001b[0m\u001b[0;34m(\u001b[0m\u001b[0;34m)\u001b[0m\u001b[0;34m\u001b[0m\u001b[0m\n\u001b[0m\u001b[1;32m     10\u001b[0m         \u001b[0;32mfor\u001b[0m \u001b[0mi\u001b[0m \u001b[0;32min\u001b[0m \u001b[0mrange\u001b[0m\u001b[0;34m(\u001b[0m\u001b[0mlabel\u001b[0m\u001b[0;34m.\u001b[0m\u001b[0mshape\u001b[0m\u001b[0;34m[\u001b[0m\u001b[0;36m0\u001b[0m\u001b[0;34m]\u001b[0m\u001b[0;34m)\u001b[0m\u001b[0;34m:\u001b[0m\u001b[0;34m\u001b[0m\u001b[0m\n\u001b[1;32m     11\u001b[0m             \u001b[0mprob\u001b[0m \u001b[0;34m=\u001b[0m \u001b[0mpred\u001b[0m\u001b[0;34m[\u001b[0m\u001b[0mi\u001b[0m\u001b[0;34m,\u001b[0m\u001b[0mnumpy\u001b[0m\u001b[0;34m.\u001b[0m\u001b[0mint64\u001b[0m\u001b[0;34m(\u001b[0m\u001b[0mlabel\u001b[0m\u001b[0;34m[\u001b[0m\u001b[0mi\u001b[0m\u001b[0;34m]\u001b[0m\u001b[0;34m)\u001b[0m\u001b[0;34m]\u001b[0m\u001b[0;34m\u001b[0m\u001b[0m\n",
      "\u001b[0;32m/home/ubuntu/mxnet/python/mxnet/ndarray.pyc\u001b[0m in \u001b[0;36masnumpy\u001b[0;34m(self)\u001b[0m\n\u001b[1;32m    739\u001b[0m             \u001b[0mself\u001b[0m\u001b[0;34m.\u001b[0m\u001b[0mhandle\u001b[0m\u001b[0;34m,\u001b[0m\u001b[0;34m\u001b[0m\u001b[0m\n\u001b[1;32m    740\u001b[0m             \u001b[0mdata\u001b[0m\u001b[0;34m.\u001b[0m\u001b[0mctypes\u001b[0m\u001b[0;34m.\u001b[0m\u001b[0mdata_as\u001b[0m\u001b[0;34m(\u001b[0m\u001b[0mctypes\u001b[0m\u001b[0;34m.\u001b[0m\u001b[0mc_void_p\u001b[0m\u001b[0;34m)\u001b[0m\u001b[0;34m,\u001b[0m\u001b[0;34m\u001b[0m\u001b[0m\n\u001b[0;32m--> 741\u001b[0;31m             ctypes.c_size_t(data.size)))\n\u001b[0m\u001b[1;32m    742\u001b[0m         \u001b[0;32mreturn\u001b[0m \u001b[0mdata\u001b[0m\u001b[0;34m\u001b[0m\u001b[0m\n\u001b[1;32m    743\u001b[0m \u001b[0;34m\u001b[0m\u001b[0m\n",
      "\u001b[0;31mKeyboardInterrupt\u001b[0m: "
     ]
    }
   ],
   "source": [
    "mod.fit(train_birds,\n",
    "         eval_data=val_birds,\n",
    "         eval_metric=[Cross_Entropy()],\n",
    "         #eval_metric=[mx.metric.Accuracy()],\n",
    "         batch_end_callback = [mx.callback.log_train_metric(15),mx.callback.Speedometer(batch_size,45)],\n",
    "         epoch_end_callback=checkpoint,\n",
    "         allow_missing=False,\n",
    "         begin_epoch=begin_epoch,\n",
    "         log_prefix = model_prefix,\n",
    "         optimizer_params={'learning_rate':0.001, 'momentum': 0.1,'wd':0.0004 },\n",
    "         num_epoch=120)"
   ]
  },
  {
   "cell_type": "code",
   "execution_count": null,
   "metadata": {
    "collapsed": true
   },
   "outputs": [],
   "source": [
    "checkpoint_path"
   ]
  },
  {
   "cell_type": "markdown",
   "metadata": {},
   "source": [
    "res101"
   ]
  },
  {
   "cell_type": "code",
   "execution_count": null,
   "metadata": {
    "collapsed": true
   },
   "outputs": [],
   "source": [
    "\n",
    "\n",
    "# In[ ]:\n",
    "# \n",
    "train_score=[]\n",
    "val_score=[]\n",
    "epoch=[]\n",
    "for i in range(45,46,5):\n",
    "    \n",
    "    sym, arg_params, aux_params =             mx.model.load_checkpoint(checkpoint_path, i)\n",
    "        \n",
    "    mod.set_params(arg_params, aux_params)\n",
    "    \n",
    "    #for gate in gatelist:\n",
    "        #print mod.get_params()[0][gate].asnumpy(), gate\n",
    "    res_train = mod.score(train_birds, mx.metric.Accuracy(),num_batch=46)\n",
    "    res_val= mod.score(val_birds, mx.metric.Accuracy(),num_batch=46)\n",
    "    epoch.append(i+1)\n",
    "    for name, value in res_train:\n",
    "        print 'Epoch[%d] Training-%s=%f' %(i, name, value)\n",
    "        train_score.append(value)\n",
    "    for name, value in res_val:\n",
    "        print 'Epoch[%d] Validation-%s=%f' %(i, name, value)\n",
    "        val_score.append(value)\n",
    "        \n",
    "#for gate in gatelist:\n",
    "    #print mod.get_params()[0][gate].asnumpy(), gate\n",
    "\n",
    "\n",
    "# In[ ]:\n",
    "\n",
    "logfile_url= '%s-eval-metric-log-accuracy.txt' % (results_prefix+'eval/'+model_prefix)\n",
    "print 'saving logfiles  at %s' % (logfile_url)\n",
    "logfile = open(logfile_url, 'w')\n",
    "for  epoch,train_metric, val_metric in zip(epoch,train_score,val_score):\n",
    "    #logfile.write(\"%s\\n\" % item)\n",
    "\n",
    "\n",
    "    logfile.write(str(epoch)+\"\\t\"+str(train_metric)+\"\\t\"+ str(val_metric)+\"\\n\")\n",
    "logfile.close()\n",
    "\n"
   ]
  },
  {
   "cell_type": "code",
   "execution_count": null,
   "metadata": {
    "collapsed": true
   },
   "outputs": [],
   "source": [
    "# Epoch[5] Training-accuracy=0.836617\n",
    "# Epoch[5] Validation-accuracy=0.568274\n",
    "# Epoch[10] Training-accuracy=0.946671\n",
    "# Epoch[10] Validation-accuracy=0.672554"
   ]
  },
  {
   "cell_type": "code",
   "execution_count": null,
   "metadata": {
    "collapsed": true
   },
   "outputs": [],
   "source": []
  }
 ],
 "metadata": {
  "kernelspec": {
   "display_name": "Python 2",
   "language": "python",
   "name": "python2"
  },
  "language_info": {
   "codemirror_mode": {
    "name": "ipython",
    "version": 2
   },
   "file_extension": ".py",
   "mimetype": "text/x-python",
   "name": "python",
   "nbconvert_exporter": "python",
   "pygments_lexer": "ipython2",
   "version": "2.7.6"
  }
 },
 "nbformat": 4,
 "nbformat_minor": 1
}
