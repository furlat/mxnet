{
 "cells": [
  {
   "cell_type": "code",
   "execution_count": 1,
   "metadata": {
    "collapsed": true
   },
   "outputs": [],
   "source": [
    "import os\n",
    "import argparse\n",
    "import logging\n",
    "logging.basicConfig(level=logging.DEBUG)\n",
    "from common import find_mxnet, data, fit\n",
    "from common.util import download_file\n",
    "from tf_iterators import *\n",
    "import mxnet as mx\n",
    "import numpy as np\n",
    "import numpy \n",
    "from mxnet import nd\n",
    "#from mxnet.module.module_tf import *"
   ]
  },
  {
   "cell_type": "code",
   "execution_count": null,
   "metadata": {
    "collapsed": true
   },
   "outputs": [],
   "source": []
  },
  {
   "cell_type": "code",
   "execution_count": 2,
   "metadata": {
    "collapsed": true
   },
   "outputs": [],
   "source": [
    "def birds_iterator(data_dir,batch_size):\n",
    "    train = mx.io.ImageRecordIter(\n",
    "            path_imgrec         = os.path.join(data_dir, \"birds_train.rec\"),\n",
    "            label_width         = 1,\n",
    "            data_name           = 'data',\n",
    "            label_name          = 'softmax1_label',\n",
    "            data_shape          = (3, 444, 444),\n",
    "            batch_size          = batch_size,\n",
    "            pad                 = 0,\n",
    "            fill_value          = 127,  # only used when pad is valid\n",
    "            rand_crop           = True,\n",
    "            max_random_scale    = 1.0,  # 480 with imagnet, 32 with cifar10 448 with birds 0.93\n",
    "            min_random_scale    = 0.93,  # 256.0/480.0\n",
    "            #max_aspect_ratio    =  0.25,\n",
    "            #random_h            = 36,  # 0.4*90\n",
    "            #random_s            = 50,  # 0.4*127\n",
    "            #random_l            = 50,  # 0.4*127\n",
    "            #max_rotate_angle    = 10,\n",
    "            #max_shear_ratio     = 0.1, #\n",
    "            rand_mirror         = True,\n",
    "            shuffle             = True)\n",
    "            #num_parts           = kv.num_workers,\n",
    "            #part_index          = kv.rank)\n",
    "    val = mx.io.ImageRecordIter(\n",
    "            path_imgrec         = os.path.join(data_dir, \"birds_test.rec\"),\n",
    "            label_width         = 1,\n",
    "            data_name           = 'data',\n",
    "            label_name          = 'softmax1_label',\n",
    "            batch_size          = batch_size,\n",
    "            max_random_scale    = 1,  # 480 with imagnet, 32 with cifar10\n",
    "            min_random_scale    = 1,  # 256.0/480.\n",
    "            data_shape          = (3, 444, 444),\n",
    "            rand_crop           = False,\n",
    "            rand_mirror         = False)\n",
    "            #num_parts           = kv.num_workers,\n",
    "            #part_index          = kv.rank)\n",
    "    return train, val"
   ]
  },
  {
   "cell_type": "code",
   "execution_count": 3,
   "metadata": {
    "collapsed": true
   },
   "outputs": [],
   "source": [
    "class Cross_Entropy(mx.metric.EvalMetric):\n",
    "    \"\"\"Calculate accuracies of multi label\"\"\"\n",
    "\n",
    "    def __init__(self):\n",
    "        super(Cross_Entropy, self).__init__('cross-entropy')\n",
    "    def update(self, labels, preds):\n",
    "        mx.metric.check_label_shapes(labels, preds)\n",
    "        label = labels[0].asnumpy()\n",
    "        pred = preds[0].asnumpy()\n",
    "        for i in range(label.shape[0]):\n",
    "            prob = pred[i,numpy.int64(label[i])]\n",
    "            if len(labels) == 1:\n",
    "                self.sum_metric += (-numpy.log(prob)).sum()\n",
    "        self.num_inst += label.shape[0]"
   ]
  },
  {
   "cell_type": "code",
   "execution_count": 4,
   "metadata": {
    "collapsed": true
   },
   "outputs": [],
   "source": [
    "image_shape = '3,444,444'\n",
    "batch_size = 64\n",
    "results_prefix='/home/ubuntu/results/'\n",
    "\n",
    "#results_prefix='/efs/users/furlat/v1_results/'http://127.0.0.1:8888/notebooks/example/image-classification/v2_single_task_template.ipynb#"
   ]
  },
  {
   "cell_type": "code",
   "execution_count": 5,
   "metadata": {
    "collapsed": true
   },
   "outputs": [],
   "source": [
    "dataset='birds'\n",
    "nstream=1\n",
    "init_1='imagenet'\n",
    "init_2='imagenet'\n",
    "freeze=0\n",
    "bilinear=True\n",
    "dropout=0.5\n",
    "\n"
   ]
  },
  {
   "cell_type": "code",
   "execution_count": 6,
   "metadata": {},
   "outputs": [
    {
     "name": "stdout",
     "output_type": "stream",
     "text": [
      "mona\n"
     ]
    }
   ],
   "source": [
    "if dataset == 'birds':\n",
    "    data_dir_birds='/home/ubuntu/data/birds'\n",
    "    train_birds, val_birds = birds_iterator(data_dir_birds,batch_size)\n",
    "    num_classes=201\n",
    "    print \"mona\"\n",
    "    "
   ]
  },
  {
   "cell_type": "code",
   "execution_count": 7,
   "metadata": {},
   "outputs": [
    {
     "name": "stdout",
     "output_type": "stream",
     "text": [
      "plain resnet\n",
      "mio shape [(1L, 2048L, 14L, 14L)]\n",
      "ho dropout 0.50\n",
      "mio shape [(1L, 4000L, 1L, 1L)]\n"
     ]
    }
   ],
   "source": [
    "\n",
    "\n",
    "    \n",
    "#elif dataset =='sketchy':\n",
    "#    data_dir_sketchy='/efs/datasets/users/furlat/sketchy_database'\n",
    "#    train_sketches, val_sketches = sketchy_iterator(data_dir_sketchy,batch_size)\n",
    "#    num_classes=125\n",
    "label_names = [train_birds.provide_label[0][0]]\n",
    "    \n",
    "from importlib import import_module\n",
    "net = import_module('symbols.resnet_factory')\n",
    "\n",
    "if nstream == 1:\n",
    "    print 'plain resnet'\n",
    "\n",
    "    ctx=[mx.gpu(4),mx.gpu(5),mx.gpu(6),mx.gpu(7)]    \n",
    "    #ctx=[mx.gpu(0+(3*gpu_block)),mx.gpu(1+(3*gpu_block)),mx.gpu(2+(3*gpu_block))]\n",
    "    #print 'gpu bloc%2d : using gpu %2d to %2d' %(gpu_block,0+(3*gpu_block),2+(3*gpu_block))\n",
    "\n",
    "    arch='resnet'\n",
    "    if bilinear:\n",
    "        arch+='_bilinear'\n",
    "    sym,data,labels=net.get_symbol(num_classes=num_classes,active=[1],dropout=dropout,bilinear=bilinear, gate_prefix=None,rescale_grad=1, num_layers=50,gated=False, image_shape=image_shape)\n",
    "elif nstream==2:\n",
    "    print 'multi branch resnet - Good luck daddy ;)'\n",
    "    #with batch size 256  5*9686M +1*10550 ~6 full k80 Speed: 52.49 samples/sec\n",
    "    #if gpu_block == 1:\n",
    "        #print 'gpu block1: using gpu 0 to 6'\n",
    "        \n",
    "        #ctx=[mx.gpu(0),mx.gpu(1),mx.gpu(2),mx.gpu(3),mx.gpu(4),mx.gpu(5),mx.gpu(6)]\n",
    "#     elif gpu_block == 2:\n",
    "#         print 'gpu block2: using gpu 6 to 11'\n",
    "#         ctx=[mx.gpu(7),mx.gpu(8),mx.gpu(9),mx.gpu(10),mx.gpu(11),mx.gpu(12),mx.gpu(13)]\n",
    "#     elif gpu_block > 3:\n",
    "#         print 'gpu bloc3 is too small for this taks enjoy the error soon'\n",
    "    ctx=[mx.gpu(0)]     \n",
    "    arch='mpath'\n",
    "    sym,data,labels=net.get_symbol_2branch(num_classes=250,active=1, gate_prefix=None,rescale_grad=1, num_layers=50,gated=True, image_shape=image_shape,coupled=True)\n",
    "    "
   ]
  },
  {
   "cell_type": "code",
   "execution_count": 8,
   "metadata": {
    "collapsed": true
   },
   "outputs": [],
   "source": [
    "#mx.contrib.sym.count_sketch?\n",
    "#mx.contrib.sym.fft?"
   ]
  },
  {
   "cell_type": "code",
   "execution_count": 9,
   "metadata": {
    "collapsed": true
   },
   "outputs": [],
   "source": [
    "#S1 = mx.sym.Variable(name='mona',shape=(16,2048,14,14))\n",
    "#swapped=mx.sym.swapaxes\n",
    "#mx.sym.SwapAxis(data=S1,dim1=1,dim2=3)"
   ]
  },
  {
   "cell_type": "code",
   "execution_count": 10,
   "metadata": {
    "collapsed": true
   },
   "outputs": [],
   "source": [
    "#mx.viz.plot_network(symbol=sym)\n",
    "tornado_weights='/home/ubuntu/models/resnet-50'\n",
    "imagenet_weights= '/home/ubuntu/models/imagenet_r50-lr05'\n",
    "#model_prefix= 'tryhard-resnet'\n",
    "prefix = imagenet_weights\n",
    "prefix = tornado_weights\n",
    "\n",
    "#prefix = model_prefix\n",
    "epoch=0\n",
    "save_dict = nd.load('%s-%04d.params' % (prefix, epoch))\n",
    "arg_params_imag = {}\n",
    "aux_params_imag = {}\n",
    "ext_check=['sc','fc1','data']\n",
    "imagenet_par=[]\n",
    "exact_check=['bn1_beta','bn1_gamma']\n",
    "for k, v in save_dict.items():\n",
    "    tp, name = k.split(':', 1)\n",
    "\n",
    "    if tp == 'arg':\n",
    "        arg_params_imag[name] = v\n",
    "        \n",
    "        \n",
    "        #print name\n",
    "        if not any(ext in name for ext in ext_check):\n",
    "            if not any(ext == name for ext in exact_check):\n",
    "                imagenet_par.append(name)\n",
    "                if init_2=='imagenet':\n",
    "                    arg_params_imag['_a_'+name] = v\n",
    "\n",
    "\n",
    "    if tp == 'aux':\n",
    "        aux_params_imag[name] = v\n",
    "        if init_2=='imagenet':\n",
    "            aux_params_imag['_a_'+name] = v\n",
    "del arg_params_imag['fc1_bias']\n",
    "del arg_params_imag['fc1_weight']\n",
    "\n",
    "\n",
    "\n",
    "#arg_params_imag.list_arguments\n",
    "\n",
    "\n",
    "#_a_bn_data_beta\n",
    "\n",
    "symlist=sym.list_arguments()\n",
    "gatelist=[s for s in symlist if 'gate' in s]"
   ]
  },
  {
   "cell_type": "code",
   "execution_count": 11,
   "metadata": {
    "collapsed": true
   },
   "outputs": [],
   "source": [
    "#imagenet_par"
   ]
  },
  {
   "cell_type": "code",
   "execution_count": 12,
   "metadata": {},
   "outputs": [
    {
     "name": "stdout",
     "output_type": "stream",
     "text": [
      "initizalizing left stream from imagenet\n",
      "initizalizing right stream from imagenet\n",
      "resnet_bilinear-fix0-imagenet-birds\n"
     ]
    }
   ],
   "source": [
    "\n",
    "\n",
    "if init_1=='imagenet':\n",
    "    arg_params=arg_params_imag\n",
    "    aux_params=aux_params_imag\n",
    "    print 'initizalizing left stream from imagenet'\n",
    "    if init_2=='imagenet':\n",
    "        print 'initizalizing right stream from imagenet'\n",
    "else:\n",
    "    arg_params=None\n",
    "    aux_params=None\n",
    "    print 'initizalizing left stream from random'\n",
    "    \n",
    "    \n",
    "if nstream == 2:\n",
    "    model_prefix = arch+'-fix'+str(freeze)+'-'+init_1+'-'+init_2+'-'+dataset\n",
    "    if init_2=='rand':\n",
    "        print 'initizalizing right stream from random'\n",
    "    print model_prefix\n",
    "    if freeze==1:\n",
    "        \n",
    "        fixed=imagenet_par\n",
    "    else:\n",
    "        fixed=None\n",
    "else:\n",
    "    #only the parameters from the original 1stream imagenet network\n",
    "    model_prefix =  arch+'-fix'+str(freeze)+'-'+init_1+'-'+dataset\n",
    "    print model_prefix\n",
    "    if freeze==1:\n",
    "        \n",
    "        fixed=imagenet_par\n",
    "    else:\n",
    "        fixed=None\n",
    "\n",
    "mod = mx.mod.Module(sym, label_names=label_names,fixed_param_names=fixed,context=ctx)\n",
    "#\n",
    "checkpoint_path=results_prefix+model_prefix\n",
    "#checkpoint = mx.callback.module_checkpoint(mod,model_prefix)\n",
    "mod.bind(data_shapes=train_birds.provide_data, label_shapes=train_birds.provide_label)\n",
    "mod.init_params(initializer=mx.initializer.Uniform(0.01), arg_params=arg_params, aux_params=aux_params,\n",
    "                    allow_missing=True, force_init=False)\n",
    "\n",
    "checkpoint = mx.callback.module_checkpoint(mod,checkpoint_path,period=5)\n",
    "\n",
    "# for gate in gatelist:\n",
    "#     print mod.get_params()[0][gate].asnumpy(), gate\n",
    "\n",
    "# In[7]:\n",
    "\n",
    "\n"
   ]
  },
  {
   "cell_type": "code",
   "execution_count": null,
   "metadata": {
    "collapsed": true
   },
   "outputs": [],
   "source": [
    "begin_epoch=0\n",
    "if begin_epoch>0:\n",
    "    sym, arg_params, aux_params =mx.model.load_checkpoint(checkpoint_path, begin_epoch)\n",
    "\n",
    "    mod.set_params(arg_params, aux_params)\n",
    "    \n",
    "logistic_init=False    \n",
    "if logistic_init:\n",
    "    logistic_path='/home/ubuntu/results/resnet-fix1-imagenet-birds'\n",
    "    _, arg_params, aux_params =mx.model.load_checkpoint(logistic_path, 120)\n",
    "\n",
    "    mod.set_params(arg_params, aux_params)    "
   ]
  },
  {
   "cell_type": "code",
   "execution_count": null,
   "metadata": {
    "scrolled": false
   },
   "outputs": [
    {
     "name": "stderr",
     "output_type": "stream",
     "text": [
      "WARNING:root:Already binded, ignoring bind()\n",
      "/home/ubuntu/mxnet/python/mxnet/module/base_module_tf.py:448: UserWarning: Parameters already initialized and force_init=False. init_params call ignored.\n",
      "  allow_missing=allow_missing, force_init=force_init)\n",
      "INFO:root:Iter[0] Batch[0] Train-cross-entropy=5.486312\n",
      "INFO:root:Iter[0] Batch[15] Train-cross-entropy=5.364095\n",
      "INFO:root:Iter[0] Batch[30] Train-cross-entropy=5.288297\n",
      "INFO:root:Iter[0] Batch[45] Train-cross-entropy=5.192720\n",
      "INFO:root:Epoch[0] Batch [45]\tSpeed: 39.47 samples/sec\tTrain-cross-entropy=5.192720\n",
      "INFO:root:Epoch[0] Train-cross-entropy=4.773784\n",
      "INFO:root:Epoch[0] Time cost=75.511\n",
      "INFO:root:Epoch[0] Validation-cross-entropy=4.779508\n"
     ]
    },
    {
     "name": "stdout",
     "output_type": "stream",
     "text": [
      "saving logfiles0  at resnet_bilinear-fix0-imagenet-birds-metric-log-0.txt\n"
     ]
    },
    {
     "name": "stderr",
     "output_type": "stream",
     "text": [
      "INFO:root:Iter[1] Batch[0] Train-cross-entropy=4.649915\n",
      "INFO:root:Iter[1] Batch[15] Train-cross-entropy=4.547369\n",
      "INFO:root:Iter[1] Batch[30] Train-cross-entropy=4.417968\n",
      "INFO:root:Iter[1] Batch[45] Train-cross-entropy=4.283198\n",
      "INFO:root:Epoch[1] Batch [45]\tSpeed: 39.19 samples/sec\tTrain-cross-entropy=4.283198\n",
      "INFO:root:Epoch[1] Train-cross-entropy=3.899781\n",
      "INFO:root:Epoch[1] Time cost=75.703\n",
      "INFO:root:Epoch[1] Validation-cross-entropy=3.581024\n"
     ]
    },
    {
     "name": "stdout",
     "output_type": "stream",
     "text": [
      "saving logfiles0  at resnet_bilinear-fix0-imagenet-birds-metric-log-0.txt\n"
     ]
    },
    {
     "name": "stderr",
     "output_type": "stream",
     "text": [
      "INFO:root:Iter[2] Batch[0] Train-cross-entropy=3.610938\n",
      "INFO:root:Iter[2] Batch[15] Train-cross-entropy=3.574475\n",
      "INFO:root:Iter[2] Batch[30] Train-cross-entropy=3.517708\n",
      "INFO:root:Iter[2] Batch[45] Train-cross-entropy=3.417838\n",
      "INFO:root:Epoch[2] Batch [45]\tSpeed: 39.14 samples/sec\tTrain-cross-entropy=3.417838\n",
      "INFO:root:Epoch[2] Train-cross-entropy=2.972560\n",
      "INFO:root:Epoch[2] Time cost=75.817\n",
      "INFO:root:Epoch[2] Validation-cross-entropy=2.889926\n"
     ]
    },
    {
     "name": "stdout",
     "output_type": "stream",
     "text": [
      "saving logfiles0  at resnet_bilinear-fix0-imagenet-birds-metric-log-0.txt\n"
     ]
    },
    {
     "name": "stderr",
     "output_type": "stream",
     "text": [
      "INFO:root:Iter[3] Batch[0] Train-cross-entropy=2.939918\n",
      "INFO:root:Iter[3] Batch[15] Train-cross-entropy=2.944882\n",
      "INFO:root:Iter[3] Batch[30] Train-cross-entropy=2.884626\n",
      "INFO:root:Iter[3] Batch[45] Train-cross-entropy=2.798247\n",
      "INFO:root:Epoch[3] Batch [45]\tSpeed: 39.09 samples/sec\tTrain-cross-entropy=2.798247\n",
      "INFO:root:Epoch[3] Train-cross-entropy=2.459177\n",
      "INFO:root:Epoch[3] Time cost=75.898\n",
      "INFO:root:Epoch[3] Validation-cross-entropy=2.489360\n"
     ]
    },
    {
     "name": "stdout",
     "output_type": "stream",
     "text": [
      "saving logfiles0  at resnet_bilinear-fix0-imagenet-birds-metric-log-0.txt\n"
     ]
    },
    {
     "name": "stderr",
     "output_type": "stream",
     "text": [
      "INFO:root:Iter[4] Batch[0] Train-cross-entropy=2.274853\n",
      "INFO:root:Iter[4] Batch[15] Train-cross-entropy=2.426263\n",
      "INFO:root:Iter[4] Batch[30] Train-cross-entropy=2.402102\n",
      "INFO:root:Iter[4] Batch[45] Train-cross-entropy=2.346128\n",
      "INFO:root:Epoch[4] Batch [45]\tSpeed: 39.10 samples/sec\tTrain-cross-entropy=2.346128\n",
      "INFO:root:Epoch[4] Train-cross-entropy=2.168903\n",
      "INFO:root:Epoch[4] Time cost=75.872\n",
      "INFO:root:Saved checkpoint to \"/home/ubuntu/results/resnet_bilinear-fix0-imagenet-birds-0005.params\"\n",
      "INFO:root:Epoch[4] Validation-cross-entropy=2.138734\n"
     ]
    },
    {
     "name": "stdout",
     "output_type": "stream",
     "text": [
      "saving logfiles0  at resnet_bilinear-fix0-imagenet-birds-metric-log-0.txt\n"
     ]
    },
    {
     "name": "stderr",
     "output_type": "stream",
     "text": [
      "INFO:root:Iter[5] Batch[0] Train-cross-entropy=2.101063\n",
      "INFO:root:Iter[5] Batch[15] Train-cross-entropy=2.091246\n",
      "INFO:root:Iter[5] Batch[30] Train-cross-entropy=2.057088\n",
      "INFO:root:Iter[5] Batch[45] Train-cross-entropy=1.994688\n",
      "INFO:root:Epoch[5] Batch [45]\tSpeed: 39.15 samples/sec\tTrain-cross-entropy=1.994688\n",
      "INFO:root:Epoch[5] Train-cross-entropy=1.618539\n",
      "INFO:root:Epoch[5] Time cost=75.787\n",
      "INFO:root:Epoch[5] Validation-cross-entropy=1.929023\n"
     ]
    },
    {
     "name": "stdout",
     "output_type": "stream",
     "text": [
      "saving logfiles0  at resnet_bilinear-fix0-imagenet-birds-metric-log-0.txt\n"
     ]
    },
    {
     "name": "stderr",
     "output_type": "stream",
     "text": [
      "INFO:root:Iter[6] Batch[0] Train-cross-entropy=1.852648\n",
      "INFO:root:Iter[6] Batch[15] Train-cross-entropy=1.780166\n",
      "INFO:root:Iter[6] Batch[30] Train-cross-entropy=1.750959\n",
      "INFO:root:Iter[6] Batch[45] Train-cross-entropy=1.706240\n",
      "INFO:root:Epoch[6] Batch [45]\tSpeed: 39.15 samples/sec\tTrain-cross-entropy=1.706240\n",
      "INFO:root:Epoch[6] Train-cross-entropy=1.518855\n",
      "INFO:root:Epoch[6] Time cost=75.763\n",
      "INFO:root:Epoch[6] Validation-cross-entropy=1.781864\n"
     ]
    },
    {
     "name": "stdout",
     "output_type": "stream",
     "text": [
      "saving logfiles0  at resnet_bilinear-fix0-imagenet-birds-metric-log-0.txt\n"
     ]
    },
    {
     "name": "stderr",
     "output_type": "stream",
     "text": [
      "INFO:root:Iter[7] Batch[0] Train-cross-entropy=1.346096\n",
      "INFO:root:Iter[7] Batch[15] Train-cross-entropy=1.557940\n",
      "INFO:root:Iter[7] Batch[30] Train-cross-entropy=1.533556\n",
      "INFO:root:Iter[7] Batch[45] Train-cross-entropy=1.479778\n",
      "INFO:root:Epoch[7] Batch [45]\tSpeed: 39.15 samples/sec\tTrain-cross-entropy=1.479778\n",
      "INFO:root:Epoch[7] Train-cross-entropy=nan\n",
      "INFO:root:Epoch[7] Time cost=74.152\n",
      "INFO:root:Epoch[7] Validation-cross-entropy=1.643934\n"
     ]
    },
    {
     "name": "stdout",
     "output_type": "stream",
     "text": [
      "saving logfiles0  at resnet_bilinear-fix0-imagenet-birds-metric-log-0.txt\n"
     ]
    },
    {
     "name": "stderr",
     "output_type": "stream",
     "text": [
      "INFO:root:Iter[8] Batch[0] Train-cross-entropy=1.491341\n",
      "INFO:root:Iter[8] Batch[15] Train-cross-entropy=1.320504\n",
      "INFO:root:Iter[8] Batch[30] Train-cross-entropy=1.323936\n",
      "INFO:root:Iter[8] Batch[45] Train-cross-entropy=1.301684\n",
      "INFO:root:Epoch[8] Batch [45]\tSpeed: 39.13 samples/sec\tTrain-cross-entropy=1.301684\n",
      "INFO:root:Epoch[8] Train-cross-entropy=1.140222\n",
      "INFO:root:Epoch[8] Time cost=76.180\n",
      "INFO:root:Epoch[8] Validation-cross-entropy=1.532938\n"
     ]
    },
    {
     "name": "stdout",
     "output_type": "stream",
     "text": [
      "saving logfiles0  at resnet_bilinear-fix0-imagenet-birds-metric-log-0.txt\n"
     ]
    },
    {
     "name": "stderr",
     "output_type": "stream",
     "text": [
      "INFO:root:Iter[9] Batch[0] Train-cross-entropy=1.110018\n",
      "INFO:root:Iter[9] Batch[15] Train-cross-entropy=1.161791\n",
      "INFO:root:Iter[9] Batch[30] Train-cross-entropy=1.175283\n",
      "INFO:root:Iter[9] Batch[45] Train-cross-entropy=1.142517\n",
      "INFO:root:Epoch[9] Batch [45]\tSpeed: 39.11 samples/sec\tTrain-cross-entropy=1.142517\n",
      "INFO:root:Epoch[9] Train-cross-entropy=1.046384\n",
      "INFO:root:Epoch[9] Time cost=75.853\n",
      "INFO:root:Saved checkpoint to \"/home/ubuntu/results/resnet_bilinear-fix0-imagenet-birds-0010.params\"\n",
      "INFO:root:Epoch[9] Validation-cross-entropy=1.451132\n"
     ]
    },
    {
     "name": "stdout",
     "output_type": "stream",
     "text": [
      "saving logfiles0  at resnet_bilinear-fix0-imagenet-birds-metric-log-0.txt\n"
     ]
    },
    {
     "name": "stderr",
     "output_type": "stream",
     "text": [
      "INFO:root:Iter[10] Batch[0] Train-cross-entropy=1.192421\n",
      "INFO:root:Iter[10] Batch[15] Train-cross-entropy=0.994633\n",
      "INFO:root:Iter[10] Batch[30] Train-cross-entropy=1.024309\n",
      "INFO:root:Iter[10] Batch[45] Train-cross-entropy=0.996928\n",
      "INFO:root:Epoch[10] Batch [45]\tSpeed: 39.15 samples/sec\tTrain-cross-entropy=0.996928\n",
      "INFO:root:Epoch[10] Train-cross-entropy=0.828212\n",
      "INFO:root:Epoch[10] Time cost=75.762\n",
      "INFO:root:Epoch[10] Validation-cross-entropy=1.403249\n"
     ]
    },
    {
     "name": "stdout",
     "output_type": "stream",
     "text": [
      "saving logfiles0  at resnet_bilinear-fix0-imagenet-birds-metric-log-0.txt\n"
     ]
    },
    {
     "name": "stderr",
     "output_type": "stream",
     "text": [
      "INFO:root:Iter[11] Batch[0] Train-cross-entropy=1.082327\n",
      "INFO:root:Iter[11] Batch[15] Train-cross-entropy=0.929796\n",
      "INFO:root:Iter[11] Batch[30] Train-cross-entropy=0.924880\n",
      "INFO:root:Iter[11] Batch[45] Train-cross-entropy=0.903857\n",
      "INFO:root:Epoch[11] Batch [45]\tSpeed: 39.15 samples/sec\tTrain-cross-entropy=0.903857\n",
      "INFO:root:Epoch[11] Train-cross-entropy=0.825586\n",
      "INFO:root:Epoch[11] Time cost=75.762\n",
      "INFO:root:Epoch[11] Validation-cross-entropy=1.355539\n"
     ]
    },
    {
     "name": "stdout",
     "output_type": "stream",
     "text": [
      "saving logfiles0  at resnet_bilinear-fix0-imagenet-birds-metric-log-0.txt\n"
     ]
    },
    {
     "name": "stderr",
     "output_type": "stream",
     "text": [
      "INFO:root:Iter[12] Batch[0] Train-cross-entropy=0.768236\n",
      "INFO:root:Iter[12] Batch[15] Train-cross-entropy=0.795825\n",
      "INFO:root:Iter[12] Batch[30] Train-cross-entropy=0.796381\n",
      "INFO:root:Iter[12] Batch[45] Train-cross-entropy=0.791742\n",
      "INFO:root:Epoch[12] Batch [45]\tSpeed: 39.13 samples/sec\tTrain-cross-entropy=0.791742\n",
      "INFO:root:Epoch[12] Train-cross-entropy=0.649271\n",
      "INFO:root:Epoch[12] Time cost=75.820\n",
      "INFO:root:Epoch[12] Validation-cross-entropy=1.276090\n"
     ]
    },
    {
     "name": "stdout",
     "output_type": "stream",
     "text": [
      "saving logfiles0  at resnet_bilinear-fix0-imagenet-birds-metric-log-0.txt\n"
     ]
    },
    {
     "name": "stderr",
     "output_type": "stream",
     "text": [
      "INFO:root:Iter[13] Batch[0] Train-cross-entropy=0.812385\n",
      "INFO:root:Iter[13] Batch[15] Train-cross-entropy=0.756940\n",
      "INFO:root:Iter[13] Batch[30] Train-cross-entropy=0.747766\n",
      "INFO:root:Iter[13] Batch[45] Train-cross-entropy=0.722611\n",
      "INFO:root:Epoch[13] Batch [45]\tSpeed: 39.15 samples/sec\tTrain-cross-entropy=0.722611\n",
      "INFO:root:Epoch[13] Train-cross-entropy=0.528641\n",
      "INFO:root:Epoch[13] Time cost=75.803\n",
      "INFO:root:Epoch[13] Validation-cross-entropy=1.258741\n"
     ]
    },
    {
     "name": "stdout",
     "output_type": "stream",
     "text": [
      "saving logfiles0  at resnet_bilinear-fix0-imagenet-birds-metric-log-0.txt\n"
     ]
    },
    {
     "name": "stderr",
     "output_type": "stream",
     "text": [
      "INFO:root:Iter[14] Batch[0] Train-cross-entropy=0.607299\n",
      "INFO:root:Iter[14] Batch[15] Train-cross-entropy=0.636819\n",
      "INFO:root:Iter[14] Batch[30] Train-cross-entropy=0.646707\n",
      "INFO:root:Iter[14] Batch[45] Train-cross-entropy=0.641304\n",
      "INFO:root:Epoch[14] Batch [45]\tSpeed: 39.15 samples/sec\tTrain-cross-entropy=0.641304\n",
      "INFO:root:Epoch[14] Train-cross-entropy=0.577672\n",
      "INFO:root:Epoch[14] Time cost=75.788\n",
      "INFO:root:Saved checkpoint to \"/home/ubuntu/results/resnet_bilinear-fix0-imagenet-birds-0015.params\"\n",
      "INFO:root:Epoch[14] Validation-cross-entropy=1.217717\n"
     ]
    },
    {
     "name": "stdout",
     "output_type": "stream",
     "text": [
      "saving logfiles0  at resnet_bilinear-fix0-imagenet-birds-metric-log-0.txt\n"
     ]
    },
    {
     "name": "stderr",
     "output_type": "stream",
     "text": [
      "INFO:root:Iter[15] Batch[0] Train-cross-entropy=0.633503\n",
      "INFO:root:Iter[15] Batch[15] Train-cross-entropy=0.596355\n",
      "INFO:root:Iter[15] Batch[30] Train-cross-entropy=0.599821\n",
      "INFO:root:Iter[15] Batch[45] Train-cross-entropy=0.577131\n",
      "INFO:root:Epoch[15] Batch [45]\tSpeed: 39.14 samples/sec\tTrain-cross-entropy=0.577131\n",
      "INFO:root:Epoch[15] Train-cross-entropy=nan\n",
      "INFO:root:Epoch[15] Time cost=74.155\n",
      "INFO:root:Epoch[15] Validation-cross-entropy=1.207392\n"
     ]
    },
    {
     "name": "stdout",
     "output_type": "stream",
     "text": [
      "saving logfiles0  at resnet_bilinear-fix0-imagenet-birds-metric-log-0.txt\n"
     ]
    },
    {
     "name": "stderr",
     "output_type": "stream",
     "text": [
      "INFO:root:Iter[16] Batch[0] Train-cross-entropy=0.505728\n",
      "INFO:root:Iter[16] Batch[15] Train-cross-entropy=0.524604\n",
      "INFO:root:Iter[16] Batch[30] Train-cross-entropy=0.520003\n",
      "INFO:root:Iter[16] Batch[45] Train-cross-entropy=0.520434\n",
      "INFO:root:Epoch[16] Batch [45]\tSpeed: 39.14 samples/sec\tTrain-cross-entropy=0.520434\n",
      "INFO:root:Epoch[16] Train-cross-entropy=0.365127\n",
      "INFO:root:Epoch[16] Time cost=76.189\n",
      "INFO:root:Epoch[16] Validation-cross-entropy=1.176346\n"
     ]
    },
    {
     "name": "stdout",
     "output_type": "stream",
     "text": [
      "saving logfiles0  at resnet_bilinear-fix0-imagenet-birds-metric-log-0.txt\n"
     ]
    },
    {
     "name": "stderr",
     "output_type": "stream",
     "text": [
      "INFO:root:Iter[17] Batch[0] Train-cross-entropy=0.560195\n",
      "INFO:root:Iter[17] Batch[15] Train-cross-entropy=0.499563\n",
      "INFO:root:Iter[17] Batch[30] Train-cross-entropy=0.490190\n",
      "INFO:root:Iter[17] Batch[45] Train-cross-entropy=0.493383\n",
      "INFO:root:Epoch[17] Batch [45]\tSpeed: 39.15 samples/sec\tTrain-cross-entropy=0.493383\n",
      "INFO:root:Epoch[17] Train-cross-entropy=0.348490\n",
      "INFO:root:Epoch[17] Time cost=75.758\n",
      "INFO:root:Epoch[17] Validation-cross-entropy=1.135559\n"
     ]
    },
    {
     "name": "stdout",
     "output_type": "stream",
     "text": [
      "saving logfiles0  at resnet_bilinear-fix0-imagenet-birds-metric-log-0.txt\n"
     ]
    },
    {
     "name": "stderr",
     "output_type": "stream",
     "text": [
      "INFO:root:Iter[18] Batch[0] Train-cross-entropy=0.435014\n",
      "INFO:root:Iter[18] Batch[15] Train-cross-entropy=0.424872\n",
      "INFO:root:Iter[18] Batch[30] Train-cross-entropy=0.434210\n",
      "INFO:root:Iter[18] Batch[45] Train-cross-entropy=0.419382\n",
      "INFO:root:Epoch[18] Batch [45]\tSpeed: 39.15 samples/sec\tTrain-cross-entropy=0.419382\n",
      "INFO:root:Epoch[18] Train-cross-entropy=0.376742\n",
      "INFO:root:Epoch[18] Time cost=75.778\n",
      "INFO:root:Epoch[18] Validation-cross-entropy=1.131144\n"
     ]
    },
    {
     "name": "stdout",
     "output_type": "stream",
     "text": [
      "saving logfiles0  at resnet_bilinear-fix0-imagenet-birds-metric-log-0.txt\n"
     ]
    },
    {
     "name": "stderr",
     "output_type": "stream",
     "text": [
      "INFO:root:Iter[19] Batch[0] Train-cross-entropy=0.374867\n",
      "INFO:root:Iter[19] Batch[15] Train-cross-entropy=0.392795\n",
      "INFO:root:Iter[19] Batch[30] Train-cross-entropy=0.402338\n",
      "INFO:root:Iter[19] Batch[45] Train-cross-entropy=0.392309\n",
      "INFO:root:Epoch[19] Batch [45]\tSpeed: 39.14 samples/sec\tTrain-cross-entropy=0.392309\n",
      "INFO:root:Epoch[19] Train-cross-entropy=0.263612\n",
      "INFO:root:Epoch[19] Time cost=75.781\n",
      "INFO:root:Saved checkpoint to \"/home/ubuntu/results/resnet_bilinear-fix0-imagenet-birds-0020.params\"\n",
      "INFO:root:Epoch[19] Validation-cross-entropy=1.121149\n"
     ]
    },
    {
     "name": "stdout",
     "output_type": "stream",
     "text": [
      "saving logfiles0  at resnet_bilinear-fix0-imagenet-birds-metric-log-0.txt\n"
     ]
    },
    {
     "name": "stderr",
     "output_type": "stream",
     "text": [
      "INFO:root:Iter[20] Batch[0] Train-cross-entropy=0.361435\n",
      "INFO:root:Iter[20] Batch[15] Train-cross-entropy=0.347109\n",
      "INFO:root:Iter[20] Batch[30] Train-cross-entropy=0.366989\n",
      "INFO:root:Iter[20] Batch[45] Train-cross-entropy=0.358477\n",
      "INFO:root:Epoch[20] Batch [45]\tSpeed: 39.16 samples/sec\tTrain-cross-entropy=0.358477\n",
      "INFO:root:Epoch[20] Train-cross-entropy=0.293790\n",
      "INFO:root:Epoch[20] Time cost=75.750\n",
      "INFO:root:Epoch[20] Validation-cross-entropy=1.087396\n"
     ]
    },
    {
     "name": "stdout",
     "output_type": "stream",
     "text": [
      "saving logfiles0  at resnet_bilinear-fix0-imagenet-birds-metric-log-0.txt\n"
     ]
    },
    {
     "name": "stderr",
     "output_type": "stream",
     "text": [
      "INFO:root:Iter[21] Batch[0] Train-cross-entropy=0.270081\n",
      "INFO:root:Iter[21] Batch[15] Train-cross-entropy=0.340258\n",
      "INFO:root:Iter[21] Batch[30] Train-cross-entropy=0.339579\n",
      "INFO:root:Iter[21] Batch[45] Train-cross-entropy=0.340082\n",
      "INFO:root:Epoch[21] Batch [45]\tSpeed: 39.14 samples/sec\tTrain-cross-entropy=0.340082\n",
      "INFO:root:Epoch[21] Train-cross-entropy=0.346015\n",
      "INFO:root:Epoch[21] Time cost=75.800\n",
      "INFO:root:Epoch[21] Validation-cross-entropy=1.080401\n"
     ]
    },
    {
     "name": "stdout",
     "output_type": "stream",
     "text": [
      "saving logfiles0  at resnet_bilinear-fix0-imagenet-birds-metric-log-0.txt\n"
     ]
    },
    {
     "name": "stderr",
     "output_type": "stream",
     "text": [
      "INFO:root:Iter[22] Batch[0] Train-cross-entropy=0.448800\n",
      "INFO:root:Iter[22] Batch[15] Train-cross-entropy=0.310173\n",
      "INFO:root:Iter[22] Batch[30] Train-cross-entropy=0.310260\n",
      "INFO:root:Iter[22] Batch[45] Train-cross-entropy=0.305178\n",
      "INFO:root:Epoch[22] Batch [45]\tSpeed: 39.16 samples/sec\tTrain-cross-entropy=0.305178\n",
      "INFO:root:Epoch[22] Train-cross-entropy=0.251247\n",
      "INFO:root:Epoch[22] Time cost=75.745\n",
      "INFO:root:Epoch[22] Validation-cross-entropy=1.075514\n"
     ]
    },
    {
     "name": "stdout",
     "output_type": "stream",
     "text": [
      "saving logfiles0  at resnet_bilinear-fix0-imagenet-birds-metric-log-0.txt\n"
     ]
    },
    {
     "name": "stderr",
     "output_type": "stream",
     "text": [
      "INFO:root:Iter[23] Batch[0] Train-cross-entropy=0.353323\n",
      "INFO:root:Iter[23] Batch[15] Train-cross-entropy=0.299209\n",
      "INFO:root:Iter[23] Batch[30] Train-cross-entropy=0.295326\n",
      "INFO:root:Iter[23] Batch[45] Train-cross-entropy=0.292601\n",
      "INFO:root:Epoch[23] Batch [45]\tSpeed: 39.14 samples/sec\tTrain-cross-entropy=0.292601\n",
      "INFO:root:Epoch[23] Train-cross-entropy=nan\n",
      "INFO:root:Epoch[23] Time cost=74.162\n",
      "INFO:root:Epoch[23] Validation-cross-entropy=1.077622\n"
     ]
    },
    {
     "name": "stdout",
     "output_type": "stream",
     "text": [
      "saving logfiles0  at resnet_bilinear-fix0-imagenet-birds-metric-log-0.txt\n"
     ]
    },
    {
     "name": "stderr",
     "output_type": "stream",
     "text": [
      "INFO:root:Iter[24] Batch[0] Train-cross-entropy=0.306679\n",
      "INFO:root:Iter[24] Batch[15] Train-cross-entropy=0.262677\n"
     ]
    }
   ],
   "source": [
    "mod.fit(train_birds,\n",
    "         eval_data=val_birds,\n",
    "         eval_metric=[Cross_Entropy()],\n",
    "         #eval_metric=[mx.metric.Accuracy()],\n",
    "         batch_end_callback = [mx.callback.log_train_metric(15),mx.callback.Speedometer(batch_size,45)],\n",
    "         epoch_end_callback=checkpoint,\n",
    "         allow_missing=False,\n",
    "         begin_epoch=begin_epoch,\n",
    "         log_prefix = model_prefix,\n",
    "         optimizer_params={'learning_rate':0.01, 'momentum': 0.1,'wd':0.0004 },\n",
    "         num_epoch=120)"
   ]
  },
  {
   "cell_type": "code",
   "execution_count": null,
   "metadata": {
    "collapsed": true
   },
   "outputs": [],
   "source": [
    "checkpoint_path"
   ]
  },
  {
   "cell_type": "code",
   "execution_count": null,
   "metadata": {
    "collapsed": true
   },
   "outputs": [],
   "source": [
    "\n",
    "#print \"ho dropout %.2f\" %(0.5)"
   ]
  },
  {
   "cell_type": "code",
   "execution_count": null,
   "metadata": {},
   "outputs": [],
   "source": [
    "\n",
    "\n",
    "# In[ ]:\n",
    "# \n",
    "train_score=[]\n",
    "val_score=[]\n",
    "epoch=[]\n",
    "for i in range(5,26,5):\n",
    "    \n",
    "    sym, arg_params, aux_params =             mx.model.load_checkpoint(checkpoint_path, i)\n",
    "        \n",
    "    mod.set_params(arg_params, aux_params)\n",
    "    \n",
    "    #for gate in gatelist:\n",
    "        #print mod.get_params()[0][gate].asnumpy(), gate\n",
    "    res_train = mod.score(train_birds, mx.metric.Accuracy(),num_batch=46)\n",
    "    res_val= mod.score(val_birds, mx.metric.Accuracy(),num_batch=46)\n",
    "    epoch.append(i+1)\n",
    "    for name, value in res_train:\n",
    "        print 'Epoch[%d] Training-%s=%f' %(i, name, value)\n",
    "        train_score.append(value)\n",
    "    for name, value in res_val:\n",
    "        print 'Epoch[%d] Validation-%s=%f' %(i, name, value)\n",
    "        val_score.append(value)\n",
    "        \n",
    "#for gate in gatelist:\n",
    "    #print mod.get_params()[0][gate].asnumpy(), gate\n",
    "\n",
    "\n",
    "# In[ ]:\n",
    "\n",
    "logfile_url= '%s-eval-metric-log-accuracy.txt' % (results_prefix+'eval/'+model_prefix)\n",
    "print 'saving logfiles  at %s' % (logfile_url)\n",
    "logfile = open(logfile_url, 'w')\n",
    "for  epoch,train_metric, val_metric in zip(epoch,train_score,val_score):\n",
    "    #logfile.write(\"%s\\n\" % item)\n",
    "\n",
    "\n",
    "    logfile.write(str(epoch)+\"\\t\"+str(train_metric)+\"\\t\"+ str(val_metric)+\"\\n\")\n",
    "logfile.close()\n",
    "\n"
   ]
  },
  {
   "cell_type": "code",
   "execution_count": null,
   "metadata": {
    "collapsed": true
   },
   "outputs": [],
   "source": [
    "Epoch[5] Training-accuracy=0.836617\n",
    "Epoch[5] Validation-accuracy=0.568274\n",
    "Epoch[10] Training-accuracy=0.946671\n",
    "Epoch[10] Validation-accuracy=0.672554"
   ]
  },
  {
   "cell_type": "code",
   "execution_count": null,
   "metadata": {
    "collapsed": true
   },
   "outputs": [],
   "source": []
  }
 ],
 "metadata": {
  "kernelspec": {
   "display_name": "Python 2",
   "language": "python",
   "name": "python2"
  },
  "language_info": {
   "codemirror_mode": {
    "name": "ipython",
    "version": 2
   },
   "file_extension": ".py",
   "mimetype": "text/x-python",
   "name": "python",
   "nbconvert_exporter": "python",
   "pygments_lexer": "ipython2",
   "version": "2.7.6"
  }
 },
 "nbformat": 4,
 "nbformat_minor": 1
}
