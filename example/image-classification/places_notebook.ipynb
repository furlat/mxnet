{
 "cells": [
  {
   "cell_type": "code",
   "execution_count": 1,
   "metadata": {
    "collapsed": true
   },
   "outputs": [],
   "source": [
    "import os\n",
    "import argparse\n",
    "import logging\n",
    "logging.basicConfig(level=logging.DEBUG)\n",
    "from common import find_mxnet, data, fit\n",
    "from common.util import download_file\n",
    "from ilab_iterator import ilab_iterator, Multi_ilab_iterator, Single_ilab_iterator, random_task_iterator\n",
    "import mxnet as mx\n",
    "import numpy as np\n",
    "import numpy\n",
    "from mxnet import nd\n",
    "\n",
    "\n",
    "class Cross_Entropy(mx.metric.EvalMetric):\n",
    "    \"\"\"Calculate accuracies of multi label\"\"\"\n",
    "\n",
    "    def __init__(self):\n",
    "        super(Cross_Entropy, self).__init__('cross-entropy')\n",
    "    def update(self, labels, preds):\n",
    "        mx.metric.check_label_shapes(labels, preds)\n",
    "        label = labels[0].asnumpy()\n",
    "        pred = preds[0].asnumpy()\n",
    "        for i in range(label.shape[0]):\n",
    "            prob = pred[i,numpy.int64(label[i])]\n",
    "            if len(labels) == 1:\n",
    "                self.sum_metric += (-numpy.log(prob)).sum()\n",
    "        self.num_inst += label.shape[0]         \n",
    "\n",
    "        "
   ]
  },
  {
   "cell_type": "code",
   "execution_count": 2,
   "metadata": {
    "collapsed": true
   },
   "outputs": [],
   "source": [
    "def places_iterator(data_dir,batch_size):\n",
    "    train = mx.io.ImageRecordIter(\n",
    "            path_imgrec         = os.path.join(data_dir, \"places365_train_shuf.rec\"),\n",
    "            label_width         = 1,\n",
    "            data_name           = 'data',\n",
    "            label_name          = 'softmax1_label',\n",
    "            data_shape          = (3, 224, 224),\n",
    "            batch_size          = batch_size,\n",
    "            pad                 = 0,\n",
    "            fill_value          = 127,  # only used when pad is valid\n",
    "            rand_crop           = True,\n",
    "            max_random_scale    = 1.0,  # 480 with imagnet, 32 with cifar10\n",
    "            min_random_scale    = 1,  # 256.0/480.0\n",
    "            max_aspect_ratio    =  0.25,\n",
    "            random_h            = 36,  # 0.4*90\n",
    "            random_s            = 50,  # 0.4*127\n",
    "            random_l            = 50,  # 0.4*127\n",
    "            #max_rotate_angle    = 10,\n",
    "            #max_shear_ratio     = 0.1, #\n",
    "            rand_mirror         = True,\n",
    "            shuffle             = True)\n",
    "            #num_parts           = kv.num_workers,\n",
    "            #part_index          = kv.rank)\n",
    "    val = mx.io.ImageRecordIter(\n",
    "            path_imgrec         = os.path.join(data_dir, \"places365_val.rec\"),\n",
    "            label_width         = 1,\n",
    "            data_name           = 'data',\n",
    "            label_name          = 'softmax1_label',\n",
    "            batch_size          = batch_size,\n",
    "            data_shape          = (3, 224, 224),\n",
    "            rand_crop           = False,\n",
    "            rand_mirror         = False)\n",
    "            #num_parts           = kv.num_workers,\n",
    "            #part_index          = kv.rank)\n",
    "    return train, val"
   ]
  },
  {
   "cell_type": "code",
   "execution_count": 3,
   "metadata": {
    "collapsed": false
   },
   "outputs": [],
   "source": [
    "#prepare the single_dataset iterators\n",
    "#ilab\n",
    "batch_size = 1280\n",
    "data_dir='/efs/datasets/users/furlat/places'\n",
    "#places\n",
    "train_places, val_places = places_iterator(data_dir,batch_size)\n"
   ]
  },
  {
   "cell_type": "code",
   "execution_count": 4,
   "metadata": {
    "collapsed": false
   },
   "outputs": [],
   "source": [
    "from importlib import import_module\n",
    "net = import_module('symbols.resnet_md')\n",
    "image_shape = '3,224,224'\n",
    "label_names = [train_places.provide_label[0][0]]\n",
    "num_classes=[365]\n",
    "sym = net.get_vmt_symbol(num_classes, 50, image_shape, conv_workspace=256)  \n",
    "sym=sym[0]"
   ]
  },
  {
   "cell_type": "code",
   "execution_count": 5,
   "metadata": {
    "collapsed": false
   },
   "outputs": [],
   "source": [
    "ctx=[mx.gpu(0),mx.gpu(1),mx.gpu(2),mx.gpu(3),mx.gpu(4),mx.gpu(5),mx.gpu(6),mx.gpu(7),mx.gpu(8),mx.gpu(9),mx.gpu(10),mx.gpu(11),mx.gpu(12),mx.gpu(13),mx.gpu(14),mx.gpu(15)]\n",
    "\n",
    "mod = mx.mod.Module(sym, label_names=label_names, context=ctx)\n",
    "\n",
    "model_prefix = '/home/ubuntu/results/places_r50-lr0.5-imagenet-init'\n",
    "imagenet_weights= '/efs/datasets/users/furlat/results_imagenet/imagenet_r50-lr05'\n",
    "\n",
    "checkpoint = mx.callback.module_checkpoint(mod,model_prefix)\n",
    "\n",
    "#lr_schedule it isimilar to the CIFAR100 schedule but half length of the steps\n",
    "# schedule = [240000,480000,720000]\n",
    "# sym, arg_params, aux_params = \\\n",
    "#          mx.model.load_checkpoint(checkpoint, 4)\n",
    "mod.bind(data_shapes=train_places.provide_data, label_shapes=val_places.provide_label)\n",
    "#mod.init_params()\n",
    "# mod.set_params(arg_params, aux_params)\n",
    "\n"
   ]
  },
  {
   "cell_type": "code",
   "execution_count": null,
   "metadata": {
    "collapsed": false
   },
   "outputs": [],
   "source": [
    "# prefix = imagenet_weights\n",
    "prefix = model_prefix\n",
    "epoch=4\n",
    "save_dict = nd.load('%s-%04d.params' % (prefix, epoch))\n",
    "\n",
    "arg_params = {}\n",
    "aux_params = {}\n",
    "for k, v in save_dict.items():\n",
    "    tp, name = k.split(':', 1)\n",
    "    if tp == 'arg':\n",
    "        arg_params[name] = v\n",
    "    if tp == 'aux':\n",
    "        aux_params[name] = v\n",
    "# del arg_params['fc1_bias']\n",
    "# del arg_params['fc1_weight']\n",
    "\n",
    "mod.set_params(arg_params, aux_params, allow_missing=False)"
   ]
  },
  {
   "cell_type": "code",
   "execution_count": null,
   "metadata": {
    "collapsed": true
   },
   "outputs": [],
   "source": []
  },
  {
   "cell_type": "code",
   "execution_count": null,
   "metadata": {
    "collapsed": false
   },
   "outputs": [
    {
     "name": "stderr",
     "output_type": "stream",
     "text": [
      "WARNING:root:Already binded, ignoring bind()\n",
      "/home/ubuntu/mxnet/python/mxnet/module/base_module.py:446: UserWarning: Parameters already initialized and force_init=False. init_params call ignored.\n",
      "  allow_missing=allow_missing, force_init=force_init)\n"
     ]
    }
   ],
   "source": [
    "mod.fit(train_places,\n",
    "        eval_data=val_places,\n",
    "        eval_metric=[Cross_Entropy()],\n",
    "        batch_end_callback = mx.callback.log_train_metric(5),\n",
    "        epoch_end_callback=checkpoint,\n",
    "        allow_missing=False,\n",
    "        begin_epoch=5,\n",
    "        log_prefix = model_prefix,\n",
    "        optimizer_params={'learning_rate':0.05, 'momentum': 0.9,'wd':0.0001 },\n",
    "        num_epoch=10)"
   ]
  },
  {
   "cell_type": "code",
   "execution_count": null,
   "metadata": {
    "collapsed": false
   },
   "outputs": [],
   "source": [
    "# mod.bind(data_shapes=train_imag.provide_data,\n",
    "#              label_shapes=val_imag.provide_label)\n",
    "train_score=[]\n",
    "val_score=[]\n",
    "for i in range(89,126):\n",
    "    \n",
    "    sym, arg_params, aux_params = \\\n",
    "            mx.model.load_checkpoint(model_prefix, i+1)\n",
    "        \n",
    "    mod.set_params(arg_params, aux_params)\n",
    "    res_train = mod.score(train_imag, mx.metric.Accuracy(),num_batch=10)\n",
    "    res_val= mod.score(val_imag, mx.metric.Accuracy(),num_batch=40)\n",
    "    epoch = i\n",
    "    for name, value in res_train:\n",
    "        print 'Epoch[%d] Training-%s=%f' %(epoch, name, value)\n",
    "        train_score.append(value)\n",
    "    for name, value in res_val:\n",
    "        print 'Epoch[%d] Validation-%s=%f' %(epoch, name, value)\n",
    "        val_score.append(value)"
   ]
  },
  {
   "cell_type": "code",
   "execution_count": null,
   "metadata": {
    "collapsed": true
   },
   "outputs": [],
   "source": []
  }
 ],
 "metadata": {
  "kernelspec": {
   "display_name": "Python 2",
   "language": "python",
   "name": "python2"
  },
  "language_info": {
   "codemirror_mode": {
    "name": "ipython",
    "version": 2
   },
   "file_extension": ".py",
   "mimetype": "text/x-python",
   "name": "python",
   "nbconvert_exporter": "python",
   "pygments_lexer": "ipython2",
   "version": "2.7.6"
  }
 },
 "nbformat": 4,
 "nbformat_minor": 1
}
