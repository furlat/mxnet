{
 "cells": [
  {
   "cell_type": "code",
   "execution_count": 1,
   "metadata": {
    "collapsed": true
   },
   "outputs": [],
   "source": [
    "import codecs\n",
    "import os\n",
    "\n"
   ]
  },
  {
   "cell_type": "code",
   "execution_count": 13,
   "metadata": {
    "collapsed": false
   },
   "outputs": [],
   "source": [
    "f_in = open(\"/home/ubuntu/data/places/places365_train_challenge.txt\",'r')\n",
    "f_out = open (\"/home/ubuntu/data/places/places365_train.lst\",\"w\")\n",
    "base_url = \"/home/ubuntu/data/places/data_256\"\n",
    "img_ind = 0\n",
    "for line in f_in:\n",
    "        line = line.strip()\n",
    "        #print line\n",
    "        l_parts = line.split()\n",
    "        #print l_parts\n",
    "        img_url = str(base_url)+l_parts[0]\n",
    " \n",
    "        img_label = l_parts[1]\n",
    "        \n",
    "        f_out.write(str(img_ind)+\"\\t\"+str(img_label)+\"\\t\"+str(img_url)+\"\\n\")\n",
    "\n",
    "        img_ind = img_ind + 1\n",
    "f_in.close()\n",
    "f_out.close()\n",
    "#shuf -o places365_train_shuf.lst train_meta/places365_train.lst"
   ]
  },
  {
   "cell_type": "code",
   "execution_count": 12,
   "metadata": {
    "collapsed": false
   },
   "outputs": [
    {
     "data": {
      "text/plain": [
       "'/home/ubuntu/data/places/val_256/z/zen_garden/00009069.jpg'"
      ]
     },
     "execution_count": 12,
     "metadata": {},
     "output_type": "execute_result"
    }
   ],
   "source": []
  },
  {
   "cell_type": "code",
   "execution_count": 3,
   "metadata": {
    "collapsed": false
   },
   "outputs": [],
   "source": [
    "f_in = open(\"/home/ubuntu/data/places/places365_val.txt\",'r')\n",
    "f_out = open (\"/home/ubuntu/data/places/places365_val.lst\",\"w\")\n",
    "base_url = \"/home/ubuntu/data/places/val_256\"\n",
    "img_ind = 0\n",
    "for line in f_in:\n",
    "        line = line.strip()\n",
    "        #print line\n",
    "        l_parts = line.split()\n",
    "        #print l_parts\n",
    "        img_url = os.path.join(base_url,l_parts[0])\n",
    "        img_label = l_parts[1]\n",
    "        \n",
    "        f_out.write(str(img_ind)+\"\\t\"+str(img_label)+\"\\t\"+str(img_url)+\"\\n\")\n",
    "\n",
    "        img_ind = img_ind + 1\n",
    "f_in.close()\n",
    "f_out.close()        "
   ]
  },
  {
   "cell_type": "code",
   "execution_count": 2,
   "metadata": {
    "collapsed": false
   },
   "outputs": [],
   "source": [
    "f_in = open(\"/home/ubuntu/data/places/labels/sketch_train.txt\",'r')\n",
    "f_out = open (\"/home/ubuntu/data/places/sketch_train_meta/sketch_train.lst\",\"w\")\n",
    "base_url = \"/home/ubuntu/data/places/\"\n",
    "img_ind = 0\n",
    "for line in f_in:\n",
    "        line = line.strip()\n",
    "        #print line\n",
    "        l_parts = line.split()\n",
    "        #print l_parts\n",
    "        img_url = str(base_url)+l_parts[0]\n",
    " \n",
    "        img_label = l_parts[1]\n",
    "        \n",
    "        f_out.write(str(img_ind)+\"\\t\"+str(img_label)+\"\\t\"+str(img_url)+\"\\n\")\n",
    "\n",
    "        img_ind = img_ind + 1\n",
    "f_in.close()\n",
    "f_out.close()"
   ]
  },
  {
   "cell_type": "code",
   "execution_count": 3,
   "metadata": {
    "collapsed": true
   },
   "outputs": [],
   "source": [
    "f_in = open(\"/home/ubuntu/data/places/labels/sketch_val.txt\",'r')\n",
    "f_out = open (\"/home/ubuntu/data/places/sketch_val_meta/sketch_val.lst\",\"w\")\n",
    "base_url = \"/home/ubuntu/data/places/\"\n",
    "img_ind = 0\n",
    "for line in f_in:\n",
    "        line = line.strip()\n",
    "        #print line\n",
    "        l_parts = line.split()\n",
    "        #print l_parts\n",
    "        img_url = str(base_url)+l_parts[0]\n",
    " \n",
    "        img_label = l_parts[1]\n",
    "        \n",
    "        f_out.write(str(img_ind)+\"\\t\"+str(img_label)+\"\\t\"+str(img_url)+\"\\n\")\n",
    "\n",
    "        img_ind = img_ind + 1\n",
    "f_in.close()\n",
    "f_out.close()"
   ]
  },
  {
   "cell_type": "code",
   "execution_count": 6,
   "metadata": {
    "collapsed": true
   },
   "outputs": [],
   "source": [
    "f_in = open(\"/home/ubuntu/data/places/labels/clipart_train.txt\",'r')\n",
    "f_out = open (\"/home/ubuntu/data/places/clipart_train_meta/clipart_train.lst\",\"w\")\n",
    "base_url = \"/home/ubuntu/data/places/\"\n",
    "img_ind = 0\n",
    "for line in f_in:\n",
    "        line = line.strip()\n",
    "        #print line\n",
    "        l_parts = line.split()\n",
    "        #print l_parts\n",
    "        img_url = str(base_url)+l_parts[0]\n",
    " \n",
    "        img_label = l_parts[1]\n",
    "        \n",
    "        f_out.write(str(img_ind)+\"\\t\"+str(img_label)+\"\\t\"+str(img_url)+\"\\n\")\n",
    "\n",
    "        img_ind = img_ind + 1\n",
    "f_in.close()\n",
    "f_out.close()"
   ]
  },
  {
   "cell_type": "code",
   "execution_count": 7,
   "metadata": {
    "collapsed": true
   },
   "outputs": [],
   "source": [
    "f_in = open(\"/home/ubuntu/data/places/labels/clipart_val.txt\",'r')\n",
    "f_out = open (\"/home/ubuntu/data/places/clipart_val_meta/clipart_val.lst\",\"w\")\n",
    "base_url = \"/home/ubuntu/data/places/\"\n",
    "img_ind = 0\n",
    "for line in f_in:\n",
    "        line = line.strip()\n",
    "        #print line\n",
    "        l_parts = line.split()\n",
    "        #print l_parts\n",
    "        img_url = str(base_url)+l_parts[0]\n",
    " \n",
    "        img_label = l_parts[1]\n",
    "        \n",
    "        f_out.write(str(img_ind)+\"\\t\"+str(img_label)+\"\\t\"+str(img_url)+\"\\n\")\n",
    "\n",
    "        img_ind = img_ind + 1\n",
    "f_in.close()\n",
    "f_out.close()"
   ]
  },
  {
   "cell_type": "code",
   "execution_count": null,
   "metadata": {
    "collapsed": true
   },
   "outputs": [],
   "source": []
  }
 ],
 "metadata": {
  "kernelspec": {
   "display_name": "Python 2",
   "language": "python",
   "name": "python2"
  },
  "language_info": {
   "codemirror_mode": {
    "name": "ipython",
    "version": 2
   },
   "file_extension": ".py",
   "mimetype": "text/x-python",
   "name": "python",
   "nbconvert_exporter": "python",
   "pygments_lexer": "ipython2",
   "version": "2.7.6"
  }
 },
 "nbformat": 4,
 "nbformat_minor": 1
}
