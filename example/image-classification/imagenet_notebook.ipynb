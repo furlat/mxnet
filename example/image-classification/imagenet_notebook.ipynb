{
 "cells": [
  {
   "cell_type": "code",
   "execution_count": null,
   "metadata": {
    "collapsed": false
   },
   "outputs": [],
   "source": [
    "import os\n",
    "import argparse\n",
    "import logging\n",
    "logging.basicConfig(level=logging.DEBUG)\n",
    "from common import find_mxnet, data, fit\n",
    "from common.util import download_file\n",
    "from ilab_iterator import ilab_iterator, Multi_ilab_iterator, Single_ilab_iterator, random_task_iterator\n",
    "import mxnet as mx\n",
    "import numpy as np\n",
    "import numpy \n",
    "from mxnet import nd\n",
    "\n",
    "# class Cross_Entropy(mx.metric.EvalMetric):\n",
    "#     \"\"\"Calculate accuracies of multi label\"\"\"\n",
    "\n",
    "#     def __init__(self):\n",
    "#         super(Cross_Entropy, self).__init__('cross-entropy')\n",
    "#     def update(self, labels, preds):\n",
    "#         mx.metric.check_label_shapes(labels, preds)\n",
    "#         label = labels[0].asnumpy()\n",
    "#         pred = preds[0].asnumpy()\n",
    "#         for i in range(label.shape[0]):\n",
    "#             prob = pred[i,numpy.int64(label[i])]\n",
    "#             if len(labels) == 1:\n",
    "#                 self.sum_metric += (-numpy.log(prob)).sum()\n",
    "#         self.num_inst += label.shape[0]\n",
    "        \n",
    "\n",
    "def imagenet_iterator(data_dir,batch_size):\n",
    "    train = mx.io.ImageRecordIter(\n",
    "            path_imgrec         = os.path.join(data_dir, \"imagenet_small_train.rec\"),\n",
    "            label_width         = 1,\n",
    "            data_name           = 'data',\n",
    "            label_name          = 'softmax1_label',\n",
    "            data_shape          = (3, 224, 224),\n",
    "            batch_size          = batch_size,\n",
    "            pad                 = 0,\n",
    "            fill_value          = 127,  # only used when pad is valid\n",
    "            rand_crop           = True,\n",
    "            max_random_scale    = 1.0,  # 480 with imagnet, 32 with cifar10\n",
    "            min_random_scale    = 0.533,  # 256.0/480.0\n",
    "            max_aspect_ratio    =  0.25,\n",
    "            random_h            = 36,  # 0.4*90\n",
    "            random_s            = 50,  # 0.4*127\n",
    "            random_l            = 50,  # 0.4*127\n",
    "            #max_rotate_angle    = 10,\n",
    "            #max_shear_ratio     = 0.1, #\n",
    "            rand_mirror         = True,\n",
    "            shuffle             = True)\n",
    "            #num_parts           = kv.num_workers,\n",
    "            #part_index          = kv.rank)\n",
    "    val = mx.io.ImageRecordIter(\n",
    "            path_imgrec         = os.path.join(data_dir, \"imagenet_small_val.rec\"),\n",
    "            label_width         = 1,\n",
    "            data_name           = 'data',\n",
    "            label_name          = 'softmax1_label',\n",
    "            batch_size          = batch_size,\n",
    "            max_random_scale    = 0.533,  # 480 with imagnet, 32 with cifar10\n",
    "            min_random_scale    = 0.533,  # 256.0/480.\n",
    "            data_shape          = (3, 224, 224),\n",
    "            rand_crop           = False,\n",
    "            rand_mirror         = False)\n",
    "            #num_parts           = kv.num_workers,\n",
    "            #part_index          = kv.rank)\n",
    "    return train, val\n",
    "\n",
    "batch_size = 1280\n",
    "data_dir='/efs/datasets/users/furlat/imagenet'\n",
    "#imagenet\n",
    "train_imag, val_imag = imagenet_iterator(data_dir,batch_size)\n",
    "\n",
    "from importlib import import_module\n",
    "net = import_module('symbols.resnet_md')\n",
    "image_shape = '3,224,224'\n",
    "label_names = [train_imag.provide_label[0][0]]\n",
    "num_classes=[1000]\n",
    "sym = net.get_vmt_symbol(num_classes, 50, image_shape, conv_workspace=256)  \n",
    "sym=sym[0]\n",
    "ctx=[mx.gpu(0),mx.gpu(1),mx.gpu(2),mx.gpu(3),mx.gpu(4),mx.gpu(5),mx.gpu(6),mx.gpu(7),mx.gpu(8),mx.gpu(9),mx.gpu(10),mx.gpu(11),mx.gpu(12),mx.gpu(13),mx.gpu(14),mx.gpu(15)]\n",
    "\n",
    "mod = mx.mod.Module(sym, label_names=label_names, context=ctx)\n",
    "imagenet_weights= '/efs/datasets/users/furlat/results_imagenet/imagenet_r50-lr05'\n",
    "\n",
    "model_prefix = '/home/ubuntu/results/imagenet_r50-lr05'\n",
    "\n"
   ]
  },
  {
   "cell_type": "code",
   "execution_count": null,
   "metadata": {
    "collapsed": false
   },
   "outputs": [],
   "source": [
    "begepoch = 120\n",
    "#lr_schedule it isimilar to the CIFAR100 schedule but half length of the steps\n",
    "schedule = [40000,70000,100000]\n",
    "#_, arg_params_imag, aux_params_imag = mx.model.load_checkpoint(imagenet_weights, begepoch)\n",
    "# mod.bind(data_shapes=train_imag.provide_data,\n",
    "#               label_shapes=val_imag.provide_label)        \n",
    "# mod.set_params(arg_params_imag, aux_params_imag)"
   ]
  },
  {
   "cell_type": "code",
   "execution_count": null,
   "metadata": {
    "collapsed": false
   },
   "outputs": [],
   "source": [
    "imagenet_weights= '/efs/datasets/users/furlat/results_imagenet/imagenet_r50-lr05'\n",
    "model_prefix= 'tryhard-resnet'\n",
    "prefix = imagenet_weights\n",
    "#prefix = model_prefix\n",
    "epoch=120\n",
    "save_dict = nd.load('%s-%04d.params' % (prefix, epoch))\n",
    "\n",
    "arg_params_imag = {}\n",
    "aux_params_imag = {}\n",
    "for k, v in save_dict.items():\n",
    "    tp, name = k.split(':', 1)\n",
    "    if tp == 'arg':\n",
    "        arg_params_imag[name] = v\n",
    "    if tp == 'aux':\n",
    "        aux_params_imag[name] = v\n",
    "# del arg_params_imag['fc1_bias']\n",
    "# del arg_params_imag['fc1_weight']\n",
    "symlist=sym.list_arguments()\n",
    "gatelist=[s for s in symlist if 'gate' in s]"
   ]
  },
  {
   "cell_type": "code",
   "execution_count": null,
   "metadata": {
    "collapsed": false
   },
   "outputs": [],
   "source": [
    "# # meh=arg_params_imag.keys()+gatelist\n",
    "# mod = mx.mod.Module(sym, label_names=label_names,fixed_param_names=None, context=ctx)\n",
    "# #\n",
    "checkpoint = mx.callback.module_checkpoint(mod,model_prefix)\n",
    "mod.bind(data_shapes=train_imag.provide_data, label_shapes=val_imag.provide_label)\n",
    "#mod.init_params()\n",
    "# print mod.get_params()[0]['bn0_beta'].asnumpy()\n",
    "mod.set_params(arg_params_imag, aux_params_imag, allow_missing=False)"
   ]
  },
  {
   "cell_type": "code",
   "execution_count": null,
   "metadata": {
    "collapsed": false
   },
   "outputs": [],
   "source": [
    "#[Cross_Entropy()]\n",
    "begepoch=0\n",
    "mod.fit(train_imag,\n",
    "        eval_data=val_imag,\n",
    "        eval_metric=[mx.metric.Accuracy()],\n",
    "        batch_end_callback = mx.callback.log_train_metric(1),\n",
    "        epoch_end_callback=checkpoint,\n",
    "        allow_missing=False,\n",
    "        begin_epoch=begepoch,\n",
    "        log_prefix = model_prefix,\n",
    "        optimizer_params={'learning_rate':0.000000001, 'momentum': 0.9,'wd':0.0001},\n",
    "        num_epoch=200)"
   ]
  },
  {
   "cell_type": "code",
   "execution_count": null,
   "metadata": {
    "collapsed": false
   },
   "outputs": [],
   "source": [
    "# mod.bind(data_shapes=train_imag.provide_data,\n",
    "#              label_shapes=val_imag.provide_label)\n",
    "train_score=[]\n",
    "val_score=[]\n",
    "for i in range(89,126):\n",
    "    \n",
    "    sym, arg_params, aux_params = \\\n",
    "            mx.model.load_checkpoint(model_prefix, i+1)\n",
    "        \n",
    "    mod.set_params(arg_params, aux_params)\n",
    "    res_train = mod.score(train_imag, mx.metric.Accuracy(),num_batch=10)\n",
    "    res_val= mod.score(val_imag, mx.metric.Accuracy(),num_batch=40)\n",
    "    epoch = i\n",
    "    for name, value in res_train:\n",
    "        print 'Epoch[%d] Training-%s=%f' %(epoch, name, value)\n",
    "        train_score.append(value)\n",
    "    for name, value in res_val:\n",
    "        print 'Epoch[%d] Validation-%s=%f' %(epoch, name, value)\n",
    "        val_score.append(value)"
   ]
  },
  {
   "cell_type": "code",
   "execution_count": null,
   "metadata": {
    "collapsed": false
   },
   "outputs": [],
   "source": []
  },
  {
   "cell_type": "raw",
   "metadata": {},
   "source": []
  },
  {
   "cell_type": "code",
   "execution_count": null,
   "metadata": {
    "collapsed": false
   },
   "outputs": [],
   "source": []
  },
  {
   "cell_type": "code",
   "execution_count": null,
   "metadata": {
    "collapsed": true
   },
   "outputs": [],
   "source": []
  }
 ],
 "metadata": {
  "kernelspec": {
   "display_name": "Python 2",
   "language": "python",
   "name": "python2"
  },
  "language_info": {
   "codemirror_mode": {
    "name": "ipython",
    "version": 2
   },
   "file_extension": ".py",
   "mimetype": "text/x-python",
   "name": "python",
   "nbconvert_exporter": "python",
   "pygments_lexer": "ipython2",
   "version": "2.7.6"
  }
 },
 "nbformat": 4,
 "nbformat_minor": 1
}
