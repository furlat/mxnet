{
 "cells": [
  {
   "cell_type": "code",
   "execution_count": 1,
   "metadata": {
    "collapsed": true
   },
   "outputs": [],
   "source": [
    "import mxnet as mx\n",
    "# sudo pip install pyreadline"
   ]
  },
  {
   "cell_type": "code",
   "execution_count": 7,
   "metadata": {
    "collapsed": false
   },
   "outputs": [],
   "source": [
    "data = mx.sym.Variable('data')"
   ]
  },
  {
   "cell_type": "code",
   "execution_count": 43,
   "metadata": {
    "collapsed": false
   },
   "outputs": [],
   "source": [
    "conv1 = mx.sym.Convolution(data=data, num_filter=int(25), kernel=(1,1), stride=(1,1), pad=(0,0),\n",
    "                                   no_bias=True, name='conv1')\n",
    "gate = mx.sym.Variable('gate', init=mxnet.initializer.Normal(),shape=(1,),dtype='float32')\n",
    "rrgate=mx.sym.Activation(data=gate, act_type='relu', name='relu')\n",
    "yo = mx.sym.broadcast_mul(rrgate,conv1)\n",
    "#yo = gate*conv1\n",
    "\n"
   ]
  },
  {
   "cell_type": "code",
   "execution_count": 44,
   "metadata": {
    "collapsed": false
   },
   "outputs": [],
   "source": [
    "mod = mx.mod.Module(symbol=yo,\n",
    "                   data_names=[\"data\"],\n",
    "                   label_names=None)\n",
    "mod.bind([(\"data\",[10,3,28,28])])\n",
    "mod.init_params()"
   ]
  },
  {
   "cell_type": "code",
   "execution_count": 45,
   "metadata": {
    "collapsed": false
   },
   "outputs": [
    {
     "data": {
      "text/plain": [
       "({'conv1_weight': <NDArray 25x3x1x1 @cpu(0)>, 'gate': <NDArray 1 @cpu(0)>}, {})"
      ]
     },
     "execution_count": 45,
     "metadata": {},
     "output_type": "execute_result"
    }
   ],
   "source": [
    "mod.get_params()"
   ]
  },
  {
   "cell_type": "code",
   "execution_count": null,
   "metadata": {
    "collapsed": true
   },
   "outputs": [],
   "source": []
  }
 ],
 "metadata": {
  "kernelspec": {
   "display_name": "Python 2",
   "language": "python",
   "name": "python2"
  },
  "language_info": {
   "codemirror_mode": {
    "name": "ipython",
    "version": 2
   },
   "file_extension": ".py",
   "mimetype": "text/x-python",
   "name": "python",
   "nbconvert_exporter": "python",
   "pygments_lexer": "ipython2",
   "version": "2.7.6"
  }
 },
 "nbformat": 4,
 "nbformat_minor": 1
}
