{
 "cells": [
  {
   "cell_type": "code",
   "execution_count": 1,
   "metadata": {
    "collapsed": false
   },
   "outputs": [],
   "source": [
    "import os\n",
    "import argparse\n",
    "import logging\n",
    "logging.basicConfig(level=logging.DEBUG)\n",
    "from common import find_mxnet, data, fit\n",
    "from common.util import download_file\n",
    "from tf_iterators import *\n",
    "import mxnet as mx\n",
    "import numpy as np\n",
    "import numpy \n",
    "from mxnet import nd\n",
    "\n",
    "class Cross_Entropy(mx.metric.EvalMetric):\n",
    "    \"\"\"Calculate accuracies of multi label\"\"\"\n",
    "\n",
    "    def __init__(self):\n",
    "        super(Cross_Entropy, self).__init__('cross-entropy')\n",
    "    def update(self, labels, preds):\n",
    "        mx.metric.check_label_shapes(labels, preds)\n",
    "        label = labels[0].asnumpy()\n",
    "        pred = preds[0].asnumpy()\n",
    "        for i in range(label.shape[0]):\n",
    "            prob = pred[i,numpy.int64(label[i])]\n",
    "            if len(labels) == 1:\n",
    "                self.sum_metric += (-numpy.log(prob)).sum()\n",
    "        self.num_inst += label.shape[0]\n"
   ]
  },
  {
   "cell_type": "code",
   "execution_count": 2,
   "metadata": {
    "collapsed": true
   },
   "outputs": [],
   "source": [
    "image_shape = '3,224,224'\n",
    "batch_size = 256\n",
    "results_prefix='/home/ubuntu/results/'\n",
    "\n",
    "#results_prefix='/efs/users/furlat/v1_results/'"
   ]
  },
  {
   "cell_type": "code",
   "execution_count": 12,
   "metadata": {
    "collapsed": false
   },
   "outputs": [],
   "source": [
    "#a is over sketchy b is over human sketch\n",
    "#1) Resnet -Vanilla Multitask\n",
    "#2) Multipath - Vanilla Multitask\n",
    "#3) Multipath - Dataset conditional Gates\n",
    "#vmt) vannila multitask full sharing except decision alyer\n",
    "#gmt) gated multitask gates are not shared\n",
    "#a) rand-rand\n",
    "#b) imag-rand\n",
    "#c) imag-imag\n",
    "#-1) left paramters frozen\n",
    "#-0) left parameter backprop\n",
    "\n",
    "#exp1a-rand-0\n",
    "# nstream=1 \n",
    "# dataset='sketchy'+'-hum'\n",
    "# gpu_block= 0\n",
    "# init_1='rand'\n",
    "# freeze=0\n",
    "# init_2='rand'\n",
    "# mtask='vmt'\n",
    "    \n",
    "    \n",
    "#exp1b-0\n",
    "# nstream=1 \n",
    "# dataset='sketchy'+'-hum'\n",
    "# gpu_block= 3\n",
    "# init_1='imagenet'\n",
    "# freeze=0\n",
    "# init_2='rand'\n",
    "# mtask='vmt'\n",
    "\n",
    "# #exp1b-1\n",
    "# nstream=1 \n",
    "# dataset='sketchy'+'-hum'\n",
    "# gpu_block= 4\n",
    "# init_1='imagenet'\n",
    "# freeze=1\n",
    "# init_2='rand'\n",
    "# mtask='vmt'\n",
    "\n",
    "# #exp2b-0\n",
    "nstream=2 \n",
    "dataset='sketchy'+'-hum'\n",
    "gpu_block= 1\n",
    "init_1='imagenet'\n",
    "freeze=0\n",
    "init_2='rand'\n",
    "mtask='vmt'\n",
    "\n",
    "# #exp2b-1\n",
    "# nstream=2 \n",
    "# dataset='sketchy'+'-hum'\n",
    "# gpu_block= 1\n",
    "# init_1='imagenet'\n",
    "# freeze=1\n",
    "# init_2='rand'\n",
    "# mtask='vmt'\n",
    "\n",
    "# #exp2c-1\n",
    "# nstream=2 \n",
    "# dataset='sketchy'+'-hum'\n",
    "# gpu_block= 0\n",
    "# init_1='imagenet'\n",
    "# freeze=1\n",
    "# init_2='imag'\n",
    "# mtask='vmt'\n",
    "\n",
    "# #exp3b-0\n",
    "# nstream=2 \n",
    "# dataset='sketchy'+'-hum'\n",
    "# gpu_block= 1\n",
    "# init_1='imagenet'\n",
    "# freeze=0\n",
    "# init_2='rand'\n",
    "# mtask='gmt'\n",
    "\n",
    "# #exp3b-1\n",
    "# nstream=2 \n",
    "# dataset='sketchy'+'-hum'\n",
    "# gpu_block= 0\n",
    "# init_1='imagenet'\n",
    "# freeze=1\n",
    "# init_2='rand'\n",
    "# mtask='gmt'\n",
    "\n",
    "# #exp3c-1\n",
    "# nstream=2 \n",
    "# dataset='sketchy'+'-hum'\n",
    "# gpu_block= 1\n",
    "# init_1='imagenet'\n",
    "# freeze=1\n",
    "# init_2='imagenet'\n",
    "# mtask='gmt'"
   ]
  },
  {
   "cell_type": "code",
   "execution_count": 13,
   "metadata": {
    "collapsed": false
   },
   "outputs": [
    {
     "name": "stdout",
     "output_type": "stream",
     "text": [
      "2\n"
     ]
    }
   ],
   "source": [
    "# train_multi = multi_iter_iterator([train_imag,train_ilab,train_places],[[1,0,0,0,0],[0,1,1,1,0],[0,0,0,0,1]],1000)\n",
    "# val_multi = multi_iter_iterator([val_imag,val_ilab,val_places],[[1,0,0,0],[0,1,1,1],[0,0,0,0,1]],100)\n",
    "\n",
    "data_dir_hum='/efs/datasets/users/furlat/human_sketches'\n",
    "train_sketches_hum, val_sketches_hum = human_sketches_iterator(data_dir_hum,batch_size)\n",
    "#num_classes=250\n",
    "data_dir_sketchy='/efs/datasets/users/furlat/sketchy_database'\n",
    "train_sketches_sketchy, val_sketches_sketchy = sketchy_iterator(data_dir_sketchy,batch_size)\n",
    "#num_classes=125\n",
    "\n",
    "num_classes=[250,125]\n",
    "epochlen=270\n",
    "dataset_name=['sketch','hum']\n",
    "train = multi_iter_iterator([train_sketches_hum,train_sketches_sketchy],[[1,0],[0,1]],epochlen)\n",
    "val=[val_sketches_hum,val_sketches_sketchy]"
   ]
  },
  {
   "cell_type": "code",
   "execution_count": 14,
   "metadata": {
    "collapsed": false
   },
   "outputs": [
    {
     "name": "stdout",
     "output_type": "stream",
     "text": [
      "multi branch resnet - Good luck daddy ;)\n",
      "gpu block1: using gpu 0 to 6\n"
     ]
    }
   ],
   "source": [
    "\n",
    "label_names = [train.provide_label[0][0]]\n",
    "    \n",
    "from importlib import import_module\n",
    "net = import_module('symbols.resnet_factory')\n",
    "\n",
    "if nstream == 1:\n",
    "    print 'plain resnet'\n",
    "\n",
    "        \n",
    "    ctx=[mx.gpu(0+(3*gpu_block)),mx.gpu(1+(3*gpu_block)),mx.gpu(2+(3*gpu_block))]\n",
    "    print 'gpu bloc%2d : using gpu %2d to %2d' %(gpu_block,0+(3*gpu_block),2+(3*gpu_block))\n",
    "\n",
    "    arch='resnet'\n",
    "    def sym_gen(bucket_key):\n",
    "        \n",
    "        num_classes=[250,125]\n",
    "        active = [[1,0],[0,1],[1,1]]\n",
    "        rescale_grad=[1,1]\n",
    "        if bucket_key == 2:\n",
    "            #master bucket key, for vanilla multitask no problemaz \n",
    "            return net.get_symbol(num_classes=num_classes,active=active[bucket_key], gate_prefix=None,rescale_grad=rescale_grad, num_layers=50,gated=False, image_shape=image_shape)\n",
    "        else:      \n",
    "            return net.get_symbol(num_classes=num_classes,active=active[bucket_key], gate_prefix=None,rescale_grad=rescale_grad, num_layers=50,gated=False, image_shape=image_shape)\n",
    "\n",
    "elif nstream==2:\n",
    "    print 'multi branch resnet - Good luck daddy ;)'\n",
    "    #with batch size 256  5*9686M +1*10550 ~6 full k80 Speed: 52.49 samples/sec\n",
    "    if gpu_block == 1:\n",
    "        print 'gpu block1: using gpu 0 to 6'\n",
    "        \n",
    "        ctx=[mx.gpu(0),mx.gpu(1),mx.gpu(2),mx.gpu(3),mx.gpu(4),mx.gpu(5),mx.gpu(6)]\n",
    "    elif gpu_block == 2:\n",
    "        print 'gpu block2: using gpu 6 to 11'\n",
    "        ctx=[mx.gpu(7),mx.gpu(8),mx.gpu(9),mx.gpu(10),mx.gpu(11),mx.gpu(12),mx.gpu(13)]\n",
    "    elif gpu_block > 3:\n",
    "        print 'gpu bloc3 is too small for this taks enjoy the error soon'    \n",
    "    arch='mpath'\n",
    "    if mtask=='vmt':\n",
    "        def sym_gen(bucket_key):\n",
    "            num_classes=[250,125]\n",
    "            active = [[1,0],[0,1],[1,1]]\n",
    "            rescale_grad=[1,1]\n",
    "            gate_prefix=[None,None,None]\n",
    "            print 'vanilla multitask'\n",
    "\n",
    "            if bucket_key == 2:\n",
    "                #master bucket key, for vanilla multitask no problemaz \n",
    "                return net.get_symbol_2branch(num_classes=num_classes,active=active[bucket_key], gate_prefix=gate_prefix[bucket_key],rescale_grad=rescale_grad, num_layers=50,gated=True, image_shape=image_shape,coupled=True)\n",
    "            else:      \n",
    "                return net.get_symbol_2branch(num_classes=num_classes,active=active[bucket_key], gate_prefix=gate_prefix[bucket_key],rescale_grad=rescale_grad, num_layers=50,gated=True, image_shape=image_shape,coupled=True)\n",
    "\n",
    "\n",
    "    elif mtask =='gmt':\n",
    "        def sym_gen(bucket_key):\n",
    "            num_classes=[250,125]\n",
    "            active = [[1,0],[0,1],[1,1]]\n",
    "            rescale_grad=[1,1]\n",
    "            gate_prefix=None\n",
    "            print 'Gated-multi-task: Good luck Aunty'\n",
    "            gate_prefix=[['hum'],['sketchy'],['hum','sketchy']]\n",
    "\n",
    "            if bucket_key == 2:\n",
    "                #master bucket key, for vanilla multitask no problemaz \n",
    "                return net.get_symbol_2branch(num_classes=num_classes,active=active[bucket_key], gate_prefix=gate_prefix[bucket_key],rescale_grad=rescale_grad, num_layers=50,gated=True, image_shape=image_shape,coupled=True)\n",
    "            else:      \n",
    "                return net.get_symbol_2branch(num_classes=num_classes,active=active[bucket_key], gate_prefix=gate_prefix[bucket_key],rescale_grad=rescale_grad, num_layers=50,gated=True, image_shape=image_shape,coupled=True)\n",
    "\n",
    "\n",
    "\n",
    "\n",
    "    #sym,data,labels=net.get_symbol_2branch(num_classes=num_classes,active=[1,1], gate_prefix=None,rescale_grad=[1,1], num_layers=50,gated=True, image_shape=image_shape,coupled=True)\n",
    "    "
   ]
  },
  {
   "cell_type": "code",
   "execution_count": 15,
   "metadata": {
    "collapsed": false
   },
   "outputs": [],
   "source": [
    "# sym,_,_=sym_gen(2)\n",
    "# mx.viz.plot_network(symbol=sym)"
   ]
  },
  {
   "cell_type": "code",
   "execution_count": 16,
   "metadata": {
    "collapsed": false
   },
   "outputs": [],
   "source": [
    "#mx.viz.plot_network(symbol=sym)\n",
    "\n",
    "imagenet_weights= '/efs/datasets/users/furlat/results_imagenet/imagenet_r50-lr05'\n",
    "#model_prefix= 'tryhard-resnet'\n",
    "prefix = imagenet_weights\n",
    "#prefix = model_prefix\n",
    "epoch=120\n",
    "save_dict = nd.load('%s-%04d.params' % (prefix, epoch))\n",
    "arg_params_imag = {}\n",
    "aux_params_imag = {}\n",
    "ext_check=['sc','fc1','data']\n",
    "imagenet_par=[]\n",
    "exact_check=['bn1_beta','bn1_gamma']\n",
    "for k, v in save_dict.items():\n",
    "    tp, name = k.split(':', 1)\n",
    "\n",
    "    if tp == 'arg':\n",
    "        arg_params_imag[name] = v\n",
    "        \n",
    "        \n",
    "        #print name\n",
    "        if not any(ext in name for ext in ext_check):\n",
    "            if not any(ext == name for ext in exact_check):\n",
    "                imagenet_par.append(name)\n",
    "                if init_2=='imagenet':\n",
    "                    arg_params_imag['_a_'+name] = v\n",
    "\n",
    "\n",
    "    if tp == 'aux':\n",
    "        aux_params_imag[name] = v\n",
    "        if init_2=='imagenet':\n",
    "            aux_params_imag['_a_'+name] = v\n",
    "del arg_params_imag['fc1_bias']\n",
    "del arg_params_imag['fc1_weight']\n",
    "\n",
    "\n",
    "\n",
    "#arg_params_imag.list_arguments\n",
    "\n",
    "\n",
    "#_a_bn_data_beta\n",
    "\n",
    "#symlist=sym.list_arguments()\n",
    "#gatelist=[s for s in symlist if 'gate' in s]"
   ]
  },
  {
   "cell_type": "code",
   "execution_count": 17,
   "metadata": {
    "collapsed": false
   },
   "outputs": [],
   "source": [
    "#imagenet_par"
   ]
  },
  {
   "cell_type": "code",
   "execution_count": 18,
   "metadata": {
    "collapsed": false
   },
   "outputs": [
    {
     "name": "stdout",
     "output_type": "stream",
     "text": [
      "initizalizing left stream from imagenet\n",
      "initizalizing right stream from random\n",
      "mpath-vmt-fix0-imagenet-rand-sketchy-hum\n"
     ]
    }
   ],
   "source": [
    "\n",
    "\n",
    "if init_1=='imagenet':\n",
    "    arg_params=arg_params_imag\n",
    "    aux_params=aux_params_imag\n",
    "    print 'initizalizing left stream from imagenet'\n",
    "    if init_2=='imagenet':\n",
    "        print 'initizalizing right stream from imagenet'\n",
    "else:\n",
    "    arg_params=None\n",
    "    aux_params=None\n",
    "    print 'initizalizing left stream from random'\n",
    "    \n",
    "    \n",
    "if nstream == 2:\n",
    "    model_prefix = arch+'-'+mtask+'-fix'+str(freeze)+'-'+init_1+'-'+init_2+'-'+dataset\n",
    "    if init_2=='rand':\n",
    "        print 'initizalizing right stream from random'\n",
    "    print model_prefix\n",
    "    if freeze==1:\n",
    "        \n",
    "        fixed=imagenet_par\n",
    "    else:\n",
    "        fixed=None\n",
    "else:\n",
    "    #only the parameters from the original 1stream imagenet network\n",
    "    model_prefix =  arch+mtask+'-fix'+str(freeze)+'-'+init_1+'-'+dataset\n",
    "    print model_prefix\n",
    "    if freeze==1:\n",
    "        \n",
    "        fixed=imagenet_par\n",
    "    else:\n",
    "        fixed=None\n",
    "\n",
    "\n",
    "\n",
    "# for gate in gatelist:\n",
    "#     print mod.get_params()[0][gate].asnumpy(), gate\n",
    "\n",
    "# In[7]:\n",
    "\n",
    "\n"
   ]
  },
  {
   "cell_type": "code",
   "execution_count": 19,
   "metadata": {
    "collapsed": false
   },
   "outputs": [
    {
     "name": "stdout",
     "output_type": "stream",
     "text": [
      "vanilla multitask\n"
     ]
    },
    {
     "ename": "TypeError",
     "evalue": "'NoneType' object has no attribute '__getitem__'",
     "output_type": "error",
     "traceback": [
      "\u001b[0;31m\u001b[0m",
      "\u001b[0;31mTypeError\u001b[0mTraceback (most recent call last)",
      "\u001b[0;32m<ipython-input-19-5a3734c46c59>\u001b[0m in \u001b[0;36m<module>\u001b[0;34m()\u001b[0m\n\u001b[1;32m      1\u001b[0m \u001b[0;31m#mod = mx.mod.Module(sym, label_names=label_names,fixed_param_names=fixed,context=ctx)\u001b[0m\u001b[0;34m\u001b[0m\u001b[0;34m\u001b[0m\u001b[0m\n\u001b[0;32m----> 2\u001b[0;31m \u001b[0mmod\u001b[0m \u001b[0;34m=\u001b[0m \u001b[0mmx\u001b[0m\u001b[0;34m.\u001b[0m\u001b[0mmod\u001b[0m\u001b[0;34m.\u001b[0m\u001b[0mBucketingModule\u001b[0m\u001b[0;34m(\u001b[0m\u001b[0msym_gen\u001b[0m\u001b[0;34m,\u001b[0m\u001b[0mdefault_bucket_key\u001b[0m\u001b[0;34m=\u001b[0m\u001b[0;36m2\u001b[0m\u001b[0;34m,\u001b[0m\u001b[0mfixed_param_names\u001b[0m\u001b[0;34m=\u001b[0m\u001b[0mfixed\u001b[0m\u001b[0;34m,\u001b[0m \u001b[0mcontext\u001b[0m\u001b[0;34m=\u001b[0m\u001b[0mctx\u001b[0m\u001b[0;34m)\u001b[0m\u001b[0;34m\u001b[0m\u001b[0m\n\u001b[0m\u001b[1;32m      3\u001b[0m \u001b[0;34m\u001b[0m\u001b[0m\n\u001b[1;32m      4\u001b[0m \u001b[0;31m#\u001b[0m\u001b[0;34m\u001b[0m\u001b[0;34m\u001b[0m\u001b[0m\n\u001b[1;32m      5\u001b[0m \u001b[0mcheckpoint_path\u001b[0m\u001b[0;34m=\u001b[0m\u001b[0mresults_prefix\u001b[0m\u001b[0;34m+\u001b[0m\u001b[0mmodel_prefix\u001b[0m\u001b[0;34m\u001b[0m\u001b[0m\n",
      "\u001b[0;32m/home/ubuntu/mxnet/python/mxnet/module/bucketing_module.pyc\u001b[0m in \u001b[0;36m__init__\u001b[0;34m(self, sym_gen, default_bucket_key, logger, context, work_load_list, fixed_param_names, state_names)\u001b[0m\n\u001b[1;32m     46\u001b[0m         \u001b[0mself\u001b[0m\u001b[0;34m.\u001b[0m\u001b[0m_sym_gen\u001b[0m \u001b[0;34m=\u001b[0m \u001b[0msym_gen\u001b[0m\u001b[0;34m\u001b[0m\u001b[0m\n\u001b[1;32m     47\u001b[0m \u001b[0;34m\u001b[0m\u001b[0m\n\u001b[0;32m---> 48\u001b[0;31m         \u001b[0msymbol\u001b[0m\u001b[0;34m,\u001b[0m \u001b[0mdata_names\u001b[0m\u001b[0;34m,\u001b[0m \u001b[0mlabel_names\u001b[0m \u001b[0;34m=\u001b[0m \u001b[0msym_gen\u001b[0m\u001b[0;34m(\u001b[0m\u001b[0mdefault_bucket_key\u001b[0m\u001b[0;34m)\u001b[0m\u001b[0;34m\u001b[0m\u001b[0m\n\u001b[0m\u001b[1;32m     49\u001b[0m         \u001b[0mdata_names\u001b[0m \u001b[0;34m=\u001b[0m \u001b[0mlist\u001b[0m\u001b[0;34m(\u001b[0m\u001b[0mdata_names\u001b[0m\u001b[0;34m)\u001b[0m \u001b[0;32mif\u001b[0m \u001b[0mdata_names\u001b[0m \u001b[0;32mis\u001b[0m \u001b[0;32mnot\u001b[0m \u001b[0mNone\u001b[0m \u001b[0;32melse\u001b[0m \u001b[0;34m[\u001b[0m\u001b[0;34m]\u001b[0m\u001b[0;34m\u001b[0m\u001b[0m\n\u001b[1;32m     50\u001b[0m         \u001b[0mlabel_names\u001b[0m \u001b[0;34m=\u001b[0m \u001b[0mlist\u001b[0m\u001b[0;34m(\u001b[0m\u001b[0mlabel_names\u001b[0m\u001b[0;34m)\u001b[0m \u001b[0;32mif\u001b[0m \u001b[0mlabel_names\u001b[0m \u001b[0;32mis\u001b[0m \u001b[0;32mnot\u001b[0m \u001b[0mNone\u001b[0m \u001b[0;32melse\u001b[0m \u001b[0;34m[\u001b[0m\u001b[0;34m]\u001b[0m\u001b[0;34m\u001b[0m\u001b[0m\n",
      "\u001b[0;32m<ipython-input-14-e284261181f6>\u001b[0m in \u001b[0;36msym_gen\u001b[0;34m(bucket_key)\u001b[0m\n\u001b[1;32m     47\u001b[0m             \u001b[0;32mif\u001b[0m \u001b[0mbucket_key\u001b[0m \u001b[0;34m==\u001b[0m \u001b[0;36m2\u001b[0m\u001b[0;34m:\u001b[0m\u001b[0;34m\u001b[0m\u001b[0m\n\u001b[1;32m     48\u001b[0m                 \u001b[0;31m#master bucket key, for vanilla multitask no problemaz\u001b[0m\u001b[0;34m\u001b[0m\u001b[0;34m\u001b[0m\u001b[0m\n\u001b[0;32m---> 49\u001b[0;31m                 \u001b[0;32mreturn\u001b[0m \u001b[0mnet\u001b[0m\u001b[0;34m.\u001b[0m\u001b[0mget_symbol_2branch\u001b[0m\u001b[0;34m(\u001b[0m\u001b[0mnum_classes\u001b[0m\u001b[0;34m=\u001b[0m\u001b[0mnum_classes\u001b[0m\u001b[0;34m,\u001b[0m\u001b[0mactive\u001b[0m\u001b[0;34m=\u001b[0m\u001b[0mactive\u001b[0m\u001b[0;34m[\u001b[0m\u001b[0mbucket_key\u001b[0m\u001b[0;34m]\u001b[0m\u001b[0;34m,\u001b[0m \u001b[0mgate_prefix\u001b[0m\u001b[0;34m=\u001b[0m\u001b[0mgate_prefix\u001b[0m\u001b[0;34m[\u001b[0m\u001b[0mbucket_key\u001b[0m\u001b[0;34m]\u001b[0m\u001b[0;34m,\u001b[0m\u001b[0mrescale_grad\u001b[0m\u001b[0;34m=\u001b[0m\u001b[0mrescale_grad\u001b[0m\u001b[0;34m,\u001b[0m \u001b[0mnum_layers\u001b[0m\u001b[0;34m=\u001b[0m\u001b[0;36m50\u001b[0m\u001b[0;34m,\u001b[0m\u001b[0mgated\u001b[0m\u001b[0;34m=\u001b[0m\u001b[0mTrue\u001b[0m\u001b[0;34m,\u001b[0m \u001b[0mimage_shape\u001b[0m\u001b[0;34m=\u001b[0m\u001b[0mimage_shape\u001b[0m\u001b[0;34m,\u001b[0m\u001b[0mcoupled\u001b[0m\u001b[0;34m=\u001b[0m\u001b[0mTrue\u001b[0m\u001b[0;34m)\u001b[0m\u001b[0;34m\u001b[0m\u001b[0m\n\u001b[0m\u001b[1;32m     50\u001b[0m             \u001b[0;32melse\u001b[0m\u001b[0;34m:\u001b[0m\u001b[0;34m\u001b[0m\u001b[0m\n\u001b[1;32m     51\u001b[0m                 \u001b[0;32mreturn\u001b[0m \u001b[0mnet\u001b[0m\u001b[0;34m.\u001b[0m\u001b[0mget_symbol_2branch\u001b[0m\u001b[0;34m(\u001b[0m\u001b[0mnum_classes\u001b[0m\u001b[0;34m=\u001b[0m\u001b[0mnum_classes\u001b[0m\u001b[0;34m,\u001b[0m\u001b[0mactive\u001b[0m\u001b[0;34m=\u001b[0m\u001b[0mactive\u001b[0m\u001b[0;34m[\u001b[0m\u001b[0mbucket_key\u001b[0m\u001b[0;34m]\u001b[0m\u001b[0;34m,\u001b[0m \u001b[0mgate_prefix\u001b[0m\u001b[0;34m=\u001b[0m\u001b[0mgate_prefix\u001b[0m\u001b[0;34m[\u001b[0m\u001b[0mbucket_key\u001b[0m\u001b[0;34m]\u001b[0m\u001b[0;34m,\u001b[0m\u001b[0mrescale_grad\u001b[0m\u001b[0;34m=\u001b[0m\u001b[0mrescale_grad\u001b[0m\u001b[0;34m,\u001b[0m \u001b[0mnum_layers\u001b[0m\u001b[0;34m=\u001b[0m\u001b[0;36m50\u001b[0m\u001b[0;34m,\u001b[0m\u001b[0mgated\u001b[0m\u001b[0;34m=\u001b[0m\u001b[0mTrue\u001b[0m\u001b[0;34m,\u001b[0m \u001b[0mimage_shape\u001b[0m\u001b[0;34m=\u001b[0m\u001b[0mimage_shape\u001b[0m\u001b[0;34m,\u001b[0m\u001b[0mcoupled\u001b[0m\u001b[0;34m=\u001b[0m\u001b[0mTrue\u001b[0m\u001b[0;34m)\u001b[0m\u001b[0;34m\u001b[0m\u001b[0m\n",
      "\u001b[0;31mTypeError\u001b[0m: 'NoneType' object has no attribute '__getitem__'"
     ]
    }
   ],
   "source": [
    "#mod = mx.mod.Module(sym, label_names=label_names,fixed_param_names=fixed,context=ctx)\n",
    "mod = mx.mod.BucketingModule(sym_gen,default_bucket_key=2,fixed_param_names=fixed, context=ctx)\n",
    "\n",
    "#\n",
    "checkpoint_path=results_prefix+model_prefix\n",
    "#checkpoint = mx.callback.module_checkpoint(mod,model_prefix)\n",
    "mod.bind(data_shapes=train.provide_data, label_shapes=train.provide_label)\n",
    "mod.init_params(initializer=mx.initializer.Uniform(0.01), arg_params=arg_params, aux_params=aux_params,\n",
    "                    allow_missing=True, force_init=False)\n",
    "checkpoint = mx.callback.do_checkpoint(checkpoint_path)\n",
    "\n",
    "#checkpoint = mx.callback.module_checkpoint(mod,checkpoint_path)"
   ]
  },
  {
   "cell_type": "code",
   "execution_count": null,
   "metadata": {
    "collapsed": false
   },
   "outputs": [],
   "source": [
    "mod.fit(train,\n",
    "         eval_data=val,\n",
    "         eval_metric=[Cross_Entropy(),Cross_Entropy()],\n",
    "         #eval_metric=[mx.metric.Accuracy()],\n",
    "        \n",
    "    \n",
    "         batch_end_callback = [mx.callback.log_train_metric(1),mx.callback.Speedometer(batch_size,1)],\n",
    "         epoch_end_callback=checkpoint,\n",
    "         allow_missing=False,\n",
    "         multi_data=True,\n",
    "         begin_epoch=0,\n",
    "         log_prefix = model_prefix,\n",
    "         optimizer_params={'learning_rate':0.1, 'momentum': 0.9,'wd':0.0004 },\n",
    "         num_epoch=20)"
   ]
  },
  {
   "cell_type": "code",
   "execution_count": null,
   "metadata": {
    "collapsed": false
   },
   "outputs": [],
   "source": [
    "# for gate in gatelist:\n",
    "#     print mod.get_params()[0][gate].asnumpy(), gate\n",
    "print prefix\n"
   ]
  },
  {
   "cell_type": "code",
   "execution_count": null,
   "metadata": {
    "collapsed": false
   },
   "outputs": [],
   "source": [
    "\n",
    "\n",
    "# In[ ]:\n",
    "# \n",
    "maxepoch=20\n",
    "\n",
    "for d,(train,val) in enumerate(zip([train_sketches_hum,train_sketches_sketchy],[val_sketches_hum,val_sketches_sketchy])):\n",
    "    train_score=[]\n",
    "    val_score=[]\n",
    "    epoch=[]\n",
    "    for i in range(maxepoch):\n",
    "\n",
    "        sym, arg_params, aux_params =   mx.model.load_checkpoint(checkpoint_path, i+1)\n",
    "\n",
    "        mod._buckets[d].set_params(arg_params, aux_params)\n",
    "\n",
    "    #     for gate in gatelist:\n",
    "    #         print mod.get_params()[0][gate].asnumpy(), gate\n",
    "        res_train = mod._buckets[d].score(train, mx.metric.Accuracy(),num_batch=50)\n",
    "        res_val= mod._buckets[d].score(val, mx.metric.Accuracy(),num_batch=50)\n",
    "        epoch.append(i+1)\n",
    "        for name, value in res_train:\n",
    "            print 'Epoch[%d] Training-%s=%f' %(i+1, name, value)\n",
    "            train_score.append(value)\n",
    "        for name, value in res_val:\n",
    "            print 'Epoch[%d] Validation-%s=%f' %(i+1, name, value)\n",
    "            val_score.append(value)\n",
    "\n",
    "\n",
    "\n",
    "# In[ ]:\n",
    "\n",
    "    logfile_url= '%s-eval-metric-log-accuracy.txt' % (results_prefix+'eval/'+dataset_name[d]+model_prefix)\n",
    "    print 'saving logfiles  at %s' % (logfile_url)\n",
    "    logfile = open(logfile_url, 'a')\n",
    "\n",
    "    for  epoch,train_metric, val_metric in zip(epoch,train_score,val_score):\n",
    "    #logfile.write(\"%s\\n\" % item)\n",
    "\n",
    "\n",
    "        logfile.write(str(epoch)+\"\\t\"+str(train_metric)+\"\\t\"+ str(val_metric)+\"\\n\")\n",
    "    logfile.close()\n",
    "\n"
   ]
  },
  {
   "cell_type": "code",
   "execution_count": null,
   "metadata": {
    "collapsed": false
   },
   "outputs": [],
   "source": [
    "train"
   ]
  },
  {
   "cell_type": "code",
   "execution_count": null,
   "metadata": {
    "collapsed": false
   },
   "outputs": [],
   "source": [
    "d"
   ]
  },
  {
   "cell_type": "code",
   "execution_count": null,
   "metadata": {
    "collapsed": true
   },
   "outputs": [],
   "source": []
  }
 ],
 "metadata": {
  "kernelspec": {
   "display_name": "Python 2",
   "language": "python",
   "name": "python2"
  },
  "language_info": {
   "codemirror_mode": {
    "name": "ipython",
    "version": 2
   },
   "file_extension": ".py",
   "mimetype": "text/x-python",
   "name": "python",
   "nbconvert_exporter": "python",
   "pygments_lexer": "ipython2",
   "version": "2.7.6"
  }
 },
 "nbformat": 4,
 "nbformat_minor": 1
}
