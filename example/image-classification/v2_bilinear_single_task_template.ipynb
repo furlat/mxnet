{
 "cells": [
  {
   "cell_type": "code",
   "execution_count": 1,
   "metadata": {
    "collapsed": true
   },
   "outputs": [],
   "source": [
    "import os\n",
    "import argparse\n",
    "import logging\n",
    "logging.basicConfig(level=logging.DEBUG)\n",
    "from common import find_mxnet, data, fit\n",
    "from common.util import download_file\n",
    "from tf_iterators import *\n",
    "import mxnet as mx\n",
    "import numpy as np\n",
    "import numpy \n",
    "from mxnet import nd\n",
    "#from mxnet.module.module_tf import *"
   ]
  },
  {
   "cell_type": "code",
   "execution_count": null,
   "metadata": {
    "collapsed": true
   },
   "outputs": [],
   "source": []
  },
  {
   "cell_type": "code",
   "execution_count": 2,
   "metadata": {
    "collapsed": true
   },
   "outputs": [],
   "source": [
    "def birds_iterator(data_dir,batch_size):\n",
    "    train = mx.io.ImageRecordIter(\n",
    "            path_imgrec         = os.path.join(data_dir, \"birds_train.rec\"),\n",
    "            label_width         = 1,\n",
    "            data_name           = 'data',\n",
    "            label_name          = 'softmax1_label',\n",
    "            data_shape          = (3, 444, 444),\n",
    "            batch_size          = batch_size,\n",
    "            pad                 = 0,\n",
    "            fill_value          = 127,  # only used when pad is valid\n",
    "            rand_crop           = True,\n",
    "            max_random_scale    = 1.0,  # 480 with imagnet, 32 with cifar10 448 with birds 0.93\n",
    "            min_random_scale    = 0.93,  # 256.0/480.0=0.53\n",
    "#             max_aspect_ratio    =  0.25,\n",
    "#             random_h            = 36,  # 0.4*90\n",
    "#             random_s            = 50,  # 0.4*127\n",
    "#             random_l            = 50,  # 0.4*127\n",
    "            #max_rotate_angle    = 10,\n",
    "            #max_shear_ratio     = 0.1, #\n",
    "            rand_mirror         = True,\n",
    "            shuffle             = True)\n",
    "            #num_parts           = kv.num_workers,\n",
    "            #part_index          = kv.rank)\n",
    "    val = mx.io.ImageRecordIter(\n",
    "            path_imgrec         = os.path.join(data_dir, \"birds_test.rec\"),\n",
    "            label_width         = 1,\n",
    "            data_name           = 'data',\n",
    "            label_name          = 'softmax1_label',\n",
    "            batch_size          = batch_size,\n",
    "            max_random_scale    = 1,  # 480 with imagnet, 32 with cifar10\n",
    "            min_random_scale    = 1,  # 256.0/480.\n",
    "            data_shape          = (3, 444, 444),\n",
    "            rand_crop           = False,\n",
    "            rand_mirror         = False)\n",
    "            #num_parts           = kv.num_workers,\n",
    "            #part_index          = kv.rank)\n",
    "    return train, val"
   ]
  },
  {
   "cell_type": "code",
   "execution_count": 3,
   "metadata": {
    "collapsed": true
   },
   "outputs": [],
   "source": [
    "class Cross_Entropy(mx.metric.EvalMetric):\n",
    "    \"\"\"Calculate accuracies of multi label\"\"\"\n",
    "\n",
    "    def __init__(self):\n",
    "        super(Cross_Entropy, self).__init__('cross-entropy')\n",
    "    def update(self, labels, preds):\n",
    "        mx.metric.check_label_shapes(labels, preds)\n",
    "        label = labels[0].asnumpy()\n",
    "        pred = preds[0].asnumpy()\n",
    "        for i in range(label.shape[0]):\n",
    "            prob = pred[i,numpy.int64(label[i])]\n",
    "            if len(labels) == 1:\n",
    "                self.sum_metric += (-numpy.log(prob)).sum()\n",
    "        self.num_inst += label.shape[0]"
   ]
  },
  {
   "cell_type": "code",
   "execution_count": 4,
   "metadata": {
    "collapsed": true
   },
   "outputs": [],
   "source": [
    "image_shape = '3,444,444'\n",
    "batch_size = 56\n",
    "results_prefix='/home/ubuntu/results/'\n",
    "\n",
    "#results_prefix='/efs/users/furlat/v1_results/'http://127.0.0.1:8888/notebooks/example/image-classification/v2_single_task_template.ipynb#"
   ]
  },
  {
   "cell_type": "code",
   "execution_count": 5,
   "metadata": {
    "collapsed": true
   },
   "outputs": [],
   "source": [
    "dataset='birds'\n",
    "nstream=1\n",
    "init_1='imagenet'\n",
    "init_2='imagenet'\n",
    "freeze=0\n",
    "bilinear=True\n",
    "num_layers=101\n"
   ]
  },
  {
   "cell_type": "code",
   "execution_count": 6,
   "metadata": {},
   "outputs": [
    {
     "name": "stdout",
     "output_type": "stream",
     "text": [
      "mona\n"
     ]
    }
   ],
   "source": [
    "if dataset == 'birds':\n",
    "    data_dir_birds='/home/ubuntu/data/birds'\n",
    "    train_birds, val_birds = birds_iterator(data_dir_birds,batch_size)\n",
    "    num_classes=201\n",
    "    print \"mona\"\n",
    "    "
   ]
  },
  {
   "cell_type": "code",
   "execution_count": 7,
   "metadata": {},
   "outputs": [
    {
     "name": "stdout",
     "output_type": "stream",
     "text": [
      "plain resnet\n",
      "mio shape [(1L, 2048L, 14L, 14L)]\n",
      "mio shape [(1L, 122500L, 1L, 1L)]\n"
     ]
    }
   ],
   "source": [
    "\n",
    "\n",
    "    \n",
    "#elif dataset =='sketchy':\n",
    "#    data_dir_sketchy='/efs/datasets/users/furlat/sketchy_database'\n",
    "#    train_sketches, val_sketches = sketchy_iterator(data_dir_sketchy,batch_size)\n",
    "#    num_classes=125\n",
    "label_names = [train_birds.provide_label[0][0]]\n",
    "    \n",
    "from importlib import import_module\n",
    "net = import_module('symbols.resnet_factory')\n",
    "\n",
    "if nstream == 1:\n",
    "    print 'plain resnet'\n",
    "\n",
    "    ctx=[mx.gpu(0),mx.gpu(1),mx.gpu(2),mx.gpu(3)]    \n",
    "    #ctx=[mx.gpu(0+(3*gpu_block)),mx.gpu(1+(3*gpu_block)),mx.gpu(2+(3*gpu_block))]\n",
    "    #print 'gpu bloc%2d : using gpu %2d to %2d' %(gpu_block,0+(3*gpu_block),2+(3*gpu_block))\n",
    "\n",
    "    arch='resnet'\n",
    "    if bilinear:\n",
    "        arch+='_bilinear'\n",
    "    sym,data,labels=net.get_symbol(num_classes=num_classes,active=[1],bilinear=bilinear, gate_prefix=None,rescale_grad=1, num_layers=num_layers,gated=False, image_shape=image_shape)\n",
    "elif nstream==2:\n",
    "    print 'multi branch resnet - Good luck daddy ;)'\n",
    "    #with batch size 256  5*9686M +1*10550 ~6 full k80 Speed: 52.49 samples/sec\n",
    "    #if gpu_block == 1:\n",
    "        #print 'gpu block1: using gpu 0 to 6'\n",
    "        \n",
    "        #ctx=[mx.gpu(0),mx.gpu(1),mx.gpu(2),mx.gpu(3),mx.gpu(4),mx.gpu(5),mx.gpu(6)]\n",
    "#     elif gpu_block == 2:\n",
    "#         print 'gpu block2: using gpu 6 to 11'\n",
    "#         ctx=[mx.gpu(7),mx.gpu(8),mx.gpu(9),mx.gpu(10),mx.gpu(11),mx.gpu(12),mx.gpu(13)]\n",
    "#     elif gpu_block > 3:\n",
    "#         print 'gpu bloc3 is too small for this taks enjoy the error soon'\n",
    "    ctx=[mx.gpu(0)]     \n",
    "    arch='mpath'\n",
    "    sym,data,labels=net.get_symbol_2branch(num_classes=250,active=1, gate_prefix=None,rescale_grad=1, num_layers=50,gated=True, image_shape=image_shape,coupled=True)\n",
    "    "
   ]
  },
  {
   "cell_type": "code",
   "execution_count": 8,
   "metadata": {
    "collapsed": true
   },
   "outputs": [],
   "source": [
    "#mx.contrib.sym.count_sketch?\n",
    "#mx.contrib.sym.fft?"
   ]
  },
  {
   "cell_type": "code",
   "execution_count": 9,
   "metadata": {
    "collapsed": true
   },
   "outputs": [],
   "source": [
    "#S1 = mx.sym.Variable(name='mona',shape=(16,2048,14,14))\n",
    "#swapped=mx.sym.swapaxes\n",
    "#mx.sym.SwapAxis(data=S1,dim1=1,dim2=3)"
   ]
  },
  {
   "cell_type": "code",
   "execution_count": 10,
   "metadata": {},
   "outputs": [],
   "source": [
    "#mx.viz.plot_network(symbol=sym)\n",
    "tornado_weights='/home/ubuntu/models/resnet-101'\n",
    "imagenet_weights= '/home/ubuntu/models/imagenet_r50-lr05'\n",
    "bird_finetuned_weights='/home/ubuntu/results/resnet-101-nodrop-fix0-imagenet-birds'\n",
    "#model_prefix= 'tryhard-resnet'\n",
    "prefix = imagenet_weights\n",
    "prefix = tornado_weights\n",
    "\n",
    "#prefix = model_prefix\n",
    "epoch=120\n",
    "save_dict = nd.load('%s-%04d.params' % (prefix,0))\n",
    "arg_params_imag = {}\n",
    "aux_params_imag = {}\n",
    "ext_check=['sc','fc1','data']\n",
    "imagenet_par=[]\n",
    "exact_check=['bn1_beta','bn1_gamma']\n",
    "for k, v in save_dict.items():\n",
    "    tp, name = k.split(':', 1)\n",
    "\n",
    "    if tp == 'arg':\n",
    "        arg_params_imag[name] = v\n",
    "        \n",
    "        \n",
    "        #print name\n",
    "        if not any(ext in name for ext in ext_check):\n",
    "            if not any(ext == name for ext in exact_check):\n",
    "                imagenet_par.append(name)\n",
    "                if init_2=='imagenet':\n",
    "                    arg_params_imag['_a_'+name] = v\n",
    "\n",
    "\n",
    "    if tp == 'aux':\n",
    "        aux_params_imag[name] = v\n",
    "        if init_2=='imagenet':\n",
    "            aux_params_imag['_a_'+name] = v\n",
    "del arg_params_imag['fc1_bias']\n",
    "del arg_params_imag['fc1_weight']\n",
    "\n",
    "\n",
    "\n",
    "#arg_params_imag.list_arguments\n",
    "\n",
    "\n",
    "#_a_bn_data_beta\n",
    "\n",
    "symlist=sym.list_arguments()\n",
    "gatelist=[s for s in symlist if 'gate' in s]"
   ]
  },
  {
   "cell_type": "code",
   "execution_count": 11,
   "metadata": {
    "collapsed": true
   },
   "outputs": [],
   "source": [
    "#imagenet_par"
   ]
  },
  {
   "cell_type": "code",
   "execution_count": 12,
   "metadata": {},
   "outputs": [
    {
     "name": "stdout",
     "output_type": "stream",
     "text": [
      "initizalizing left stream from imagenet\n",
      "initizalizing right stream from imagenet\n",
      "resnet_bilinear-101-nodrop-fix0-imagenet-birds\n"
     ]
    },
    {
     "ename": "KeyboardInterrupt",
     "evalue": "",
     "output_type": "error",
     "traceback": [
      "\u001b[0;31m---------------------------------------------------------------------------\u001b[0m",
      "\u001b[0;31mKeyboardInterrupt\u001b[0m                         Traceback (most recent call last)",
      "\u001b[0;32m<ipython-input-12-9f2ce45c9d0f>\u001b[0m in \u001b[0;36m<module>\u001b[0;34m()\u001b[0m\n\u001b[1;32m     37\u001b[0m \u001b[0mcheckpoint_path\u001b[0m\u001b[0;34m=\u001b[0m\u001b[0mresults_prefix\u001b[0m\u001b[0;34m+\u001b[0m\u001b[0mmodel_prefix\u001b[0m\u001b[0;34m\u001b[0m\u001b[0m\n\u001b[1;32m     38\u001b[0m \u001b[0;31m#checkpoint = mx.callback.module_checkpoint(mod,model_prefix)\u001b[0m\u001b[0;34m\u001b[0m\u001b[0;34m\u001b[0m\u001b[0m\n\u001b[0;32m---> 39\u001b[0;31m \u001b[0mmod\u001b[0m\u001b[0;34m.\u001b[0m\u001b[0mbind\u001b[0m\u001b[0;34m(\u001b[0m\u001b[0mdata_shapes\u001b[0m\u001b[0;34m=\u001b[0m\u001b[0mtrain_birds\u001b[0m\u001b[0;34m.\u001b[0m\u001b[0mprovide_data\u001b[0m\u001b[0;34m,\u001b[0m \u001b[0mlabel_shapes\u001b[0m\u001b[0;34m=\u001b[0m\u001b[0mtrain_birds\u001b[0m\u001b[0;34m.\u001b[0m\u001b[0mprovide_label\u001b[0m\u001b[0;34m)\u001b[0m\u001b[0;34m\u001b[0m\u001b[0m\n\u001b[0m\u001b[1;32m     40\u001b[0m mod.init_params(initializer=mx.initializer.Uniform(0.01), arg_params=arg_params, aux_params=aux_params,\n\u001b[1;32m     41\u001b[0m                     allow_missing=True, force_init=False)\n",
      "\u001b[0;32m/home/ubuntu/mxnet/python/mxnet/module/module_tf.pyc\u001b[0m in \u001b[0;36mbind\u001b[0;34m(self, data_shapes, label_shapes, for_training, inputs_need_grad, force_rebind, shared_module, grad_req)\u001b[0m\n\u001b[1;32m    387\u001b[0m                                                      \u001b[0mfixed_param_names\u001b[0m\u001b[0;34m=\u001b[0m\u001b[0mself\u001b[0m\u001b[0;34m.\u001b[0m\u001b[0m_fixed_param_names\u001b[0m\u001b[0;34m,\u001b[0m\u001b[0;34m\u001b[0m\u001b[0m\n\u001b[1;32m    388\u001b[0m                                                      \u001b[0mgrad_req\u001b[0m\u001b[0;34m=\u001b[0m\u001b[0mgrad_req\u001b[0m\u001b[0;34m,\u001b[0m\u001b[0;34m\u001b[0m\u001b[0m\n\u001b[0;32m--> 389\u001b[0;31m                                                      state_names=self._state_names)\n\u001b[0m\u001b[1;32m    390\u001b[0m \u001b[0;34m\u001b[0m\u001b[0m\n\u001b[1;32m    391\u001b[0m         \u001b[0mself\u001b[0m\u001b[0;34m.\u001b[0m\u001b[0m_total_exec_bytes\u001b[0m \u001b[0;34m=\u001b[0m \u001b[0mself\u001b[0m\u001b[0;34m.\u001b[0m\u001b[0m_exec_group\u001b[0m\u001b[0;34m.\u001b[0m\u001b[0m_total_exec_bytes\u001b[0m\u001b[0;34m\u001b[0m\u001b[0m\n",
      "\u001b[0;32m/home/ubuntu/mxnet/python/mxnet/module/executor_group_tf.pyc\u001b[0m in \u001b[0;36m__init__\u001b[0;34m(self, symbol, contexts, workload, data_shapes, label_shapes, param_names, for_training, inputs_need_grad, shared_group, logger, fixed_param_names, grad_req, state_names)\u001b[0m\n\u001b[1;32m    195\u001b[0m                                for name in self.symbol.list_outputs()]\n\u001b[1;32m    196\u001b[0m \u001b[0;34m\u001b[0m\u001b[0m\n\u001b[0;32m--> 197\u001b[0;31m         \u001b[0mself\u001b[0m\u001b[0;34m.\u001b[0m\u001b[0mbind_exec\u001b[0m\u001b[0;34m(\u001b[0m\u001b[0mdata_shapes\u001b[0m\u001b[0;34m,\u001b[0m \u001b[0mlabel_shapes\u001b[0m\u001b[0;34m,\u001b[0m \u001b[0mshared_group\u001b[0m\u001b[0;34m)\u001b[0m\u001b[0;34m\u001b[0m\u001b[0m\n\u001b[0m\u001b[1;32m    198\u001b[0m \u001b[0;34m\u001b[0m\u001b[0m\n\u001b[1;32m    199\u001b[0m     \u001b[0;32mdef\u001b[0m \u001b[0mdecide_slices\u001b[0m\u001b[0;34m(\u001b[0m\u001b[0mself\u001b[0m\u001b[0;34m,\u001b[0m \u001b[0mdata_shapes\u001b[0m\u001b[0;34m)\u001b[0m\u001b[0;34m:\u001b[0m\u001b[0;34m\u001b[0m\u001b[0m\n",
      "\u001b[0;32m/home/ubuntu/mxnet/python/mxnet/module/executor_group_tf.pyc\u001b[0m in \u001b[0;36mbind_exec\u001b[0;34m(self, data_shapes, label_shapes, shared_group, reshape)\u001b[0m\n\u001b[1;32m    291\u001b[0m             \u001b[0;32melse\u001b[0m\u001b[0;34m:\u001b[0m\u001b[0;34m\u001b[0m\u001b[0m\n\u001b[1;32m    292\u001b[0m                 self.execs.append(self._bind_ith_exec(i, data_shapes_i, label_shapes_i,\n\u001b[0;32m--> 293\u001b[0;31m                                                       shared_group))\n\u001b[0m\u001b[1;32m    294\u001b[0m \u001b[0;34m\u001b[0m\u001b[0m\n\u001b[1;32m    295\u001b[0m         \u001b[0mself\u001b[0m\u001b[0;34m.\u001b[0m\u001b[0mdata_shapes\u001b[0m \u001b[0;34m=\u001b[0m \u001b[0mdata_shapes\u001b[0m\u001b[0;34m\u001b[0m\u001b[0m\n",
      "\u001b[0;32m/home/ubuntu/mxnet/python/mxnet/module/executor_group_tf.pyc\u001b[0m in \u001b[0;36m_bind_ith_exec\u001b[0;34m(self, i, data_shapes, label_shapes, shared_group)\u001b[0m\n\u001b[1;32m    618\u001b[0m         executor = self.symbol.bind(ctx=context, args=arg_arrays,\n\u001b[1;32m    619\u001b[0m                                     \u001b[0margs_grad\u001b[0m\u001b[0;34m=\u001b[0m\u001b[0mgrad_arrays\u001b[0m\u001b[0;34m,\u001b[0m \u001b[0maux_states\u001b[0m\u001b[0;34m=\u001b[0m\u001b[0maux_arrays\u001b[0m\u001b[0;34m,\u001b[0m\u001b[0;34m\u001b[0m\u001b[0m\n\u001b[0;32m--> 620\u001b[0;31m                                     grad_req=self.grad_req, shared_exec=shared_exec)\n\u001b[0m\u001b[1;32m    621\u001b[0m         \u001b[0;31m# Get the total bytes allocated for this executor\u001b[0m\u001b[0;34m\u001b[0m\u001b[0;34m\u001b[0m\u001b[0m\n\u001b[1;32m    622\u001b[0m         \u001b[0mself\u001b[0m\u001b[0;34m.\u001b[0m\u001b[0m_total_exec_bytes\u001b[0m \u001b[0;34m+=\u001b[0m \u001b[0mint\u001b[0m\u001b[0;34m(\u001b[0m\u001b[0mexecutor\u001b[0m\u001b[0;34m.\u001b[0m\u001b[0mdebug_str\u001b[0m\u001b[0;34m(\u001b[0m\u001b[0;34m)\u001b[0m\u001b[0;34m.\u001b[0m\u001b[0msplit\u001b[0m\u001b[0;34m(\u001b[0m\u001b[0;34m'\\n'\u001b[0m\u001b[0;34m)\u001b[0m\u001b[0;34m[\u001b[0m\u001b[0;34m-\u001b[0m\u001b[0;36m3\u001b[0m\u001b[0;34m]\u001b[0m\u001b[0;34m.\u001b[0m\u001b[0msplit\u001b[0m\u001b[0;34m(\u001b[0m\u001b[0;34m)\u001b[0m\u001b[0;34m[\u001b[0m\u001b[0;36m1\u001b[0m\u001b[0;34m]\u001b[0m\u001b[0;34m)\u001b[0m\u001b[0;34m\u001b[0m\u001b[0m\n",
      "\u001b[0;32m/home/ubuntu/mxnet/python/mxnet/symbol.pyc\u001b[0m in \u001b[0;36mbind\u001b[0;34m(self, ctx, args, args_grad, grad_req, aux_states, group2ctx, shared_exec)\u001b[0m\n\u001b[1;32m   1362\u001b[0m                                          \u001b[0maux_args_handle\u001b[0m\u001b[0;34m,\u001b[0m\u001b[0;34m\u001b[0m\u001b[0m\n\u001b[1;32m   1363\u001b[0m                                          \u001b[0mshared_handle\u001b[0m\u001b[0;34m,\u001b[0m\u001b[0;34m\u001b[0m\u001b[0m\n\u001b[0;32m-> 1364\u001b[0;31m                                          ctypes.byref(handle)))\n\u001b[0m\u001b[1;32m   1365\u001b[0m         \u001b[0mexecutor\u001b[0m \u001b[0;34m=\u001b[0m \u001b[0mExecutor\u001b[0m\u001b[0;34m(\u001b[0m\u001b[0mhandle\u001b[0m\u001b[0;34m,\u001b[0m \u001b[0mself\u001b[0m\u001b[0;34m,\u001b[0m \u001b[0mctx\u001b[0m\u001b[0;34m,\u001b[0m \u001b[0mgrad_req\u001b[0m\u001b[0;34m,\u001b[0m \u001b[0mgroup2ctx\u001b[0m\u001b[0;34m)\u001b[0m\u001b[0;34m\u001b[0m\u001b[0m\n\u001b[1;32m   1366\u001b[0m         \u001b[0mexecutor\u001b[0m\u001b[0;34m.\u001b[0m\u001b[0marg_arrays\u001b[0m \u001b[0;34m=\u001b[0m \u001b[0margs\u001b[0m\u001b[0;34m\u001b[0m\u001b[0m\n",
      "\u001b[0;31mKeyboardInterrupt\u001b[0m: "
     ]
    }
   ],
   "source": [
    "\n",
    "\n",
    "if init_1=='imagenet':\n",
    "    arg_params=arg_params_imag\n",
    "    aux_params=aux_params_imag\n",
    "    print 'initizalizing left stream from imagenet'\n",
    "    if init_2=='imagenet':\n",
    "        print 'initizalizing right stream from imagenet'\n",
    "else:\n",
    "    arg_params=None\n",
    "    aux_params=None\n",
    "    print 'initizalizing left stream from random'\n",
    "    \n",
    "    \n",
    "if nstream == 2:\n",
    "    model_prefix = arch+'-'+str(num_layers)+'-fix'+str(freeze)+'-'+init_1+'-'+init_2+'-'+dataset\n",
    "    if init_2=='rand':\n",
    "        print 'initizalizing right stream from random'\n",
    "    print model_prefix\n",
    "    if freeze==1:\n",
    "        \n",
    "        fixed=imagenet_par\n",
    "    else:\n",
    "        fixed=None\n",
    "else:\n",
    "    #only the parameters from the original 1stream imagenet network\n",
    "    model_prefix =  arch+'-'+str(num_layers)+'-nodrop-fix'+str(freeze)+'-'+init_1+'-'+dataset\n",
    "    print model_prefix\n",
    "    if freeze==1:\n",
    "        \n",
    "        fixed=imagenet_par\n",
    "    else:\n",
    "        fixed=None\n",
    "\n",
    "mod = mx.mod.Module(sym, label_names=label_names,fixed_param_names=fixed,context=ctx)\n",
    "#\n",
    "checkpoint_path=results_prefix+model_prefix\n",
    "#checkpoint = mx.callback.module_checkpoint(mod,model_prefix)\n",
    "mod.bind(data_shapes=train_birds.provide_data, label_shapes=train_birds.provide_label)\n",
    "mod.init_params(initializer=mx.initializer.Uniform(0.01), arg_params=arg_params, aux_params=aux_params,\n",
    "                    allow_missing=True, force_init=False)\n",
    "\n",
    "checkpoint = mx.callback.module_checkpoint(mod,checkpoint_path,period=5)\n",
    "\n",
    "# for gate in gatelist:\n",
    "#     print mod.get_params()[0][gate].asnumpy(), gate\n",
    "\n",
    "# In[7]:\n",
    "\n",
    "\n"
   ]
  },
  {
   "cell_type": "code",
   "execution_count": null,
   "metadata": {
    "collapsed": true
   },
   "outputs": [],
   "source": [
    "begin_epoch=0\n",
    "if begin_epoch>0:\n",
    "    sym, arg_params, aux_params =mx.model.load_checkpoint(checkpoint_path, begin_epoch)\n",
    "\n",
    "    mod.set_params(arg_params, aux_params)\n",
    "    \n",
    "logistic_init=False    \n",
    "if logistic_init:\n",
    "    logistic_path='/home/ubuntu/results/resnet-fix1-imagenet-birds'\n",
    "    _, arg_params, aux_params =mx.model.load_checkpoint(logistic_path, 120)\n",
    "\n",
    "    mod.set_params(arg_params, aux_params)    "
   ]
  },
  {
   "cell_type": "code",
   "execution_count": null,
   "metadata": {
    "scrolled": false
   },
   "outputs": [],
   "source": [
    "mod.fit(train_birds,\n",
    "         eval_data=val_birds,\n",
    "         eval_metric=[Cross_Entropy()],\n",
    "         #eval_metric=[mx.metric.Accuracy()],\n",
    "         batch_end_callback = [mx.callback.log_train_metric(15),mx.callback.Speedometer(batch_size,45)],\n",
    "         epoch_end_callback=checkpoint,\n",
    "         allow_missing=False,\n",
    "         begin_epoch=begin_epoch,\n",
    "         log_prefix = model_prefix,\n",
    "         optimizer_params={'learning_rate':0.001, 'momentum': 0.1,'wd':0.0004 },\n",
    "         num_epoch=120)"
   ]
  },
  {
   "cell_type": "code",
   "execution_count": null,
   "metadata": {
    "collapsed": true
   },
   "outputs": [],
   "source": [
    "checkpoint_path"
   ]
  },
  {
   "cell_type": "code",
   "execution_count": null,
   "metadata": {
    "collapsed": true
   },
   "outputs": [],
   "source": [
    "#resnet101 bilinear 4kout"
   ]
  },
  {
   "cell_type": "code",
   "execution_count": null,
   "metadata": {
    "collapsed": true
   },
   "outputs": [],
   "source": [
    "\n",
    "\n",
    "# In[ ]:\n",
    "# \n",
    "train_score=[]\n",
    "val_score=[]\n",
    "epoch=[]\n",
    "for i in range(25,26,5):\n",
    "    \n",
    "    sym, arg_params, aux_params =             mx.model.load_checkpoint(checkpoint_path, i)\n",
    "        \n",
    "    mod.set_params(arg_params, aux_params)\n",
    "    \n",
    "    #for gate in gatelist:\n",
    "        #print mod.get_params()[0][gate].asnumpy(), gate\n",
    "    res_train = mod.score(train_birds, mx.metric.Accuracy(),num_batch=46)\n",
    "    res_val= mod.score(val_birds, mx.metric.Accuracy(),num_batch=46)\n",
    "    epoch.append(i+1)\n",
    "    for name, value in res_train:\n",
    "        print 'Epoch[%d] Training-%s=%f' %(i, name, value)\n",
    "        train_score.append(value)\n",
    "    for name, value in res_val:\n",
    "        print 'Epoch[%d] Validation-%s=%f' %(i, name, value)\n",
    "        val_score.append(value)\n",
    "        \n",
    "#for gate in gatelist:\n",
    "    #print mod.get_params()[0][gate].asnumpy(), gate\n",
    "\n",
    "\n",
    "# In[ ]:\n",
    "\n",
    "logfile_url= '%s-eval-metric-log-accuracy.txt' % (results_prefix+'eval/'+model_prefix)\n",
    "print 'saving logfiles  at %s' % (logfile_url)\n",
    "logfile = open(logfile_url, 'w')\n",
    "for  epoch,train_metric, val_metric in zip(epoch,train_score,val_score):\n",
    "    #logfile.write(\"%s\\n\" % item)\n",
    "\n",
    "\n",
    "    logfile.write(str(epoch)+\"\\t\"+str(train_metric)+\"\\t\"+ str(val_metric)+\"\\n\")\n",
    "logfile.close()\n",
    "\n"
   ]
  },
  {
   "cell_type": "code",
   "execution_count": null,
   "metadata": {
    "collapsed": true
   },
   "outputs": [],
   "source": []
  },
  {
   "cell_type": "markdown",
   "metadata": {
    "collapsed": true
   },
   "source": [
    "## "
   ]
  }
 ],
 "metadata": {
  "kernelspec": {
   "display_name": "Python 2",
   "language": "python",
   "name": "python2"
  },
  "language_info": {
   "codemirror_mode": {
    "name": "ipython",
    "version": 2
   },
   "file_extension": ".py",
   "mimetype": "text/x-python",
   "name": "python",
   "nbconvert_exporter": "python",
   "pygments_lexer": "ipython2",
   "version": "2.7.6"
  }
 },
 "nbformat": 4,
 "nbformat_minor": 1
}
