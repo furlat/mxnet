{
 "cells": [
  {
   "cell_type": "code",
   "execution_count": null,
   "metadata": {
    "collapsed": false
   },
   "outputs": [],
   "source": [
    "\n",
    "# coding: utf-8\n",
    "\n",
    "# In[6]:\n",
    "\n",
    "import os\n",
    "import argparse\n",
    "import logging\n",
    "logging.basicConfig(level=logging.DEBUG)\n",
    "from common import find_mxnet, data, fit\n",
    "from common.util import download_file\n",
    "from tf_iterators import *\n",
    "from ilab_iterator import ilab_iterator, Multi_ilab_iterator, Single_ilab_iterator, random_task_iterator\n",
    "import mxnet as mx\n",
    "import numpy as np\n",
    "import numpy \n",
    "from mxnet import nd\n",
    "\n",
    "class Cross_Entropy(mx.metric.EvalMetric):\n",
    "    \"\"\"Calculate accuracies of multi label\"\"\"\n",
    "\n",
    "    def __init__(self):\n",
    "        super(Cross_Entropy, self).__init__('cross-entropy')\n",
    "    def update(self, labels, preds):\n",
    "        mx.metric.check_label_shapes(labels, preds)\n",
    "        label = labels[0].asnumpy()\n",
    "        pred = preds[0].asnumpy()\n",
    "        for i in range(label.shape[0]):\n",
    "            prob = pred[i,numpy.int64(label[i])]\n",
    "            if len(labels) == 1:\n",
    "                self.sum_metric += (-numpy.log(prob)).sum()\n",
    "        self.num_inst += label.shape[0]\n",
    "\n",
    "\n",
    "# In[7]:\n",
    "\n",
    "\n",
    "# In[8]:\n",
    "\n",
    "batch_size = 256\n",
    "data_dir_hum='/efs/datasets/users/furlat/human_sketches'\n",
    "data_dir_sketchy='/efs/datasets/users/furlat/sketchy_database'\n",
    "train_sketches, val_sketches = sketchy_iterator(data_dir_sketchy,batch_size)\n",
    "train_sketches, val_sketches = human_sketches_iterator(data_dir_hum,batch_size)\n",
    "\n",
    "image_shape = '3,224,224'\n",
    "label_names = [train_sketches.provide_label[0][0]]\n",
    "num_classes=[365]\n",
    "# ctx=[mx.gpu(0),mx.gpu(1),mx.gpu(2),mx.gpu(3),mx.gpu(4),mx.gpu(5),mx.gpu(6),mx.gpu(7),mx.gpu(8),mx.gpu(9),mx.gpu(10),mx.gpu(11),mx.gpu(12),mx.gpu(13),mx.gpu(14),mx.gpu(15)]\n",
    "ctx=[mx.gpu(0),mx.gpu(1),mx.gpu(2),mx.gpu(3),mx.gpu(4),mx.gpu(5)]\n",
    "\n",
    "\n",
    "# In[9]:\n",
    "\n",
    "from importlib import import_module\n",
    "net = import_module('symbols.resnet_factory')\n",
    "sym,data,labels=net.get_symbol_2branch(num_classes=250,active=1, gate_prefix=None,rescale_grad=1, num_layers=50,gated=True, image_shape=image_shape,coupled=True)\n",
    "\n",
    "\n",
    "# In[10]:\n",
    "\n",
    "\n",
    "\n",
    "# In[9]:\n",
    "\n",
    "\n"
   ]
  },
  {
   "cell_type": "code",
   "execution_count": null,
   "metadata": {
    "collapsed": false
   },
   "outputs": [],
   "source": [
    "#mx.viz.plot_network(symbol=sym)\n",
    "imagenet_weights= '/efs/datasets/users/furlat/results_imagenet/imagenet_r50-lr05'\n",
    "#model_prefix= 'tryhard-resnet'\n",
    "prefix = imagenet_weights\n",
    "#prefix = model_prefix\n",
    "epoch=120\n",
    "save_dict = nd.load('%s-%04d.params' % (prefix, epoch))\n",
    "arg_params_imag = {}\n",
    "aux_params_imag = {}\n",
    "ext_check=['sc','fc1','data']\n",
    "imagenet_par=[]\n",
    "exact_check=['bn1_beta','bn1_gamma']\n",
    "for k, v in save_dict.items():\n",
    "    tp, name = k.split(':', 1)\n",
    "\n",
    "    if tp == 'arg':\n",
    "        arg_params_imag[name] = v\n",
    "        \n",
    "        \n",
    "        #print name\n",
    "        if not any(ext in name for ext in ext_check):\n",
    "            if not any(ext == name for ext in exact_check):\n",
    "                imagenet_par.append(name)\n",
    "                arg_params_imag['_a_'+name] = v\n",
    "\n",
    "\n",
    "    if tp == 'aux':\n",
    "        aux_params_imag[name] = v\n",
    "        aux_params_imag['_a_'+name] = v\n",
    "del arg_params_imag['fc1_bias']\n",
    "del arg_params_imag['fc1_weight']\n",
    "\n",
    "\n",
    "\n",
    "#arg_params_imag.list_arguments\n",
    "\n",
    "\n",
    "#_a_bn_data_beta\n",
    "\n",
    "symlist=sym.list_arguments()\n",
    "gatelist=[s for s in symlist if 'gate' in s]"
   ]
  },
  {
   "cell_type": "code",
   "execution_count": null,
   "metadata": {
    "collapsed": false
   },
   "outputs": [],
   "source": [
    "#imagenet_par"
   ]
  },
  {
   "cell_type": "code",
   "execution_count": null,
   "metadata": {
    "collapsed": false
   },
   "outputs": [],
   "source": [
    "\n",
    "\n",
    "\n",
    "# In[ ]:\n",
    "\n",
    "mod = mx.mod.Module(sym, label_names=label_names,fixed_param_names=imagenet_par,context=ctx)\n",
    "#\n",
    "#checkpoint = mx.callback.module_checkpoint(mod,model_prefix)\n",
    "mod.bind(data_shapes=train_sketches.provide_data, label_shapes=val_sketches.provide_label)\n",
    "mod.init_params(initializer=mx.initializer.Uniform(0.01), arg_params=arg_params_imag, aux_params=aux_params_imag,\n",
    "                    allow_missing=True, force_init=False)\n",
    "model_prefix = '/home/ubuntu/results/resnet-2streams-testingthisgateyo-sketchy' \n",
    "checkpoint = mx.callback.module_checkpoint(mod,model_prefix)\n",
    "\n",
    "# for gate in gatelist:\n",
    "#     print mod.get_params()[0][gate].asnumpy(), gate\n",
    "\n",
    "# In[7]:\n",
    "\n",
    "\n"
   ]
  },
  {
   "cell_type": "code",
   "execution_count": null,
   "metadata": {
    "collapsed": false
   },
   "outputs": [],
   "source": []
  },
  {
   "cell_type": "code",
   "execution_count": null,
   "metadata": {
    "collapsed": false
   },
   "outputs": [],
   "source": []
  },
  {
   "cell_type": "code",
   "execution_count": null,
   "metadata": {
    "collapsed": false
   },
   "outputs": [],
   "source": [
    "mod.fit(train_sketches,\n",
    "         eval_data=val_sketches,\n",
    "         eval_metric=[Cross_Entropy()],\n",
    "         #eval_metric=[mx.metric.Accuracy()],\n",
    "\n",
    "         batch_end_callback = [mx.callback.log_train_metric(1),mx.callback.Speedometer(batch_size,1)],\n",
    "         epoch_end_callback=checkpoint,\n",
    "         allow_missing=False,\n",
    "         begin_epoch=0,\n",
    "         log_prefix = model_prefix,\n",
    "         optimizer_params={'learning_rate':0.1, 'momentum': 0.9,'wd':0.0004 },\n",
    "         num_epoch=40)"
   ]
  },
  {
   "cell_type": "code",
   "execution_count": null,
   "metadata": {
    "collapsed": false
   },
   "outputs": [],
   "source": [
    "# for gate in gatelist:\n",
    "#         print mod.get_params()[0][gate].asnumpy(), gate\n",
    "# res_train = mod.score(train_sketches, mx.metric.Accuracy(),num_batch=40)\n",
    "# res_val= mod.score(val_sketches, mx.metric.Accuracy(),num_batch=40)        "
   ]
  },
  {
   "cell_type": "code",
   "execution_count": null,
   "metadata": {
    "collapsed": false
   },
   "outputs": [],
   "source": [
    "# i=1\n",
    "# for name, value in res_train:\n",
    "#         print 'Epoch[%d] Training-%s=%f' %(i+1, name, value)\n",
    "# for name, value in res_val:\n",
    "#         print 'Epoch[%d] Validation-%s=%f' %(i+1, name, value)\n"
   ]
  },
  {
   "cell_type": "code",
   "execution_count": null,
   "metadata": {
    "collapsed": false
   },
   "outputs": [],
   "source": [
    "\n",
    "\n",
    "# In[ ]:\n",
    "# \n",
    "train_score=[]\n",
    "val_score=[]\n",
    "epoch=[]\n",
    "num_batch=\n",
    "for i in range(40):\n",
    "    \n",
    "    sym, arg_params, aux_params =             mx.model.load_checkpoint(model_prefix, i+1)\n",
    "        \n",
    "    mod.set_params(arg_params, aux_params)\n",
    "    \n",
    "    for gate in gatelist:\n",
    "        print mod.get_params()[0][gate].asnumpy(), gate\n",
    "    res_train = mod.score(train_sketches, mx.metric.Accuracy(),num_batch=40)\n",
    "    res_val= mod.score(val_sketches, mx.metric.Accuracy(),num_batch=40)\n",
    "    epoch.append(i+1)\n",
    "    for name, value in res_train:\n",
    "        print 'Epoch[%d] Training-%s=%f' %(i+1, name, value)\n",
    "        train_score.append(value)\n",
    "    for name, value in res_val:\n",
    "        print 'Epoch[%d] Validation-%s=%f' %(i+1, name, value)\n",
    "        val_score.append(value)\n",
    "        \n",
    "for gate in gatelist:\n",
    "    print mod.get_params()[0][gate].asnumpy(), gate\n",
    "\n",
    "\n",
    "# In[ ]:\n",
    "\n",
    "logfile_url= '%s-eval-metric-log-accuracy.txt' % (model_prefix)\n",
    "print 'saving logfiles  at %s' % (logfile_url)\n",
    "logfile = open(logfile_url, 'a')\n",
    "for  epoch,train_metric, val_metric in zip(epoch,train_score,val_score):\n",
    "    #logfile.write(\"%s\\n\" % item)\n",
    "\n",
    "\n",
    "    logfile.write(str(epoch)+\"\\t\"+str(train_metric)+\"\\t\"+ str(val_metric)+\"\\n\")\n",
    "logfile.close()\n",
    "\n"
   ]
  },
  {
   "cell_type": "code",
   "execution_count": null,
   "metadata": {
    "collapsed": false
   },
   "outputs": [],
   "source": []
  },
  {
   "cell_type": "code",
   "execution_count": null,
   "metadata": {
    "collapsed": true
   },
   "outputs": [],
   "source": []
  }
 ],
 "metadata": {
  "kernelspec": {
   "display_name": "Python 2",
   "language": "python",
   "name": "python2"
  },
  "language_info": {
   "codemirror_mode": {
    "name": "ipython",
    "version": 2
   },
   "file_extension": ".py",
   "mimetype": "text/x-python",
   "name": "python",
   "nbconvert_exporter": "python",
   "pygments_lexer": "ipython2",
   "version": "2.7.6"
  }
 },
 "nbformat": 4,
 "nbformat_minor": 1
}
